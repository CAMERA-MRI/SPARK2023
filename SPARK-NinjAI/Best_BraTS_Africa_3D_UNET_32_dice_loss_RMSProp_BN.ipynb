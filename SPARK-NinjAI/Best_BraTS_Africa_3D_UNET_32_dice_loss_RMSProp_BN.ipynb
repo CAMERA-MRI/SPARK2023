{
 "cells": [
  {
   "cell_type": "code",
   "execution_count": 2,
   "id": "aeb4e9c2",
   "metadata": {
    "execution": {
     "iopub.execute_input": "2022-01-24T14:39:29.166047Z",
     "iopub.status.busy": "2022-01-24T14:39:29.165262Z",
     "iopub.status.idle": "2022-01-24T14:39:36.352892Z",
     "shell.execute_reply": "2022-01-24T14:39:36.353351Z",
     "shell.execute_reply.started": "2022-01-24T13:34:26.484202Z"
    },
    "id": "aeb4e9c2",
    "papermill": {
     "duration": 7.29469,
     "end_time": "2022-01-24T14:39:36.353530",
     "exception": false,
     "start_time": "2022-01-24T14:39:29.058840",
     "status": "completed"
    },
    "tags": []
   },
   "outputs": [
    {
     "ename": "ModuleNotFoundError",
     "evalue": "No module named 'itk'",
     "output_type": "error",
     "traceback": [
      "\u001b[1;31m---------------------------------------------------------------------------\u001b[0m",
      "\u001b[1;31mModuleNotFoundError\u001b[0m                       Traceback (most recent call last)",
      "Cell \u001b[1;32mIn [2], line 3\u001b[0m\n\u001b[0;32m      1\u001b[0m \u001b[38;5;28;01mimport\u001b[39;00m \u001b[38;5;21;01mnumpy\u001b[39;00m \u001b[38;5;28;01mas\u001b[39;00m \u001b[38;5;21;01mnp\u001b[39;00m\n\u001b[0;32m      2\u001b[0m \u001b[38;5;28;01mimport\u001b[39;00m \u001b[38;5;21;01mnibabel\u001b[39;00m \u001b[38;5;28;01mas\u001b[39;00m \u001b[38;5;21;01mnib\u001b[39;00m\n\u001b[1;32m----> 3\u001b[0m \u001b[38;5;28;01mimport\u001b[39;00m \u001b[38;5;21;01mitk\u001b[39;00m\n\u001b[0;32m      4\u001b[0m \u001b[38;5;28;01mimport\u001b[39;00m \u001b[38;5;21;01mitkwidgets\u001b[39;00m\n\u001b[0;32m      5\u001b[0m \u001b[38;5;28;01mfrom\u001b[39;00m \u001b[38;5;21;01mipywidgets\u001b[39;00m \u001b[38;5;28;01mimport\u001b[39;00m interact, interactive, IntSlider, ToggleButtons\n",
      "\u001b[1;31mModuleNotFoundError\u001b[0m: No module named 'itk'"
     ]
    }
   ],
   "source": [
    "import numpy as np\n",
    "import nibabel as nib\n",
    "import itk\n",
    "import itkwidgets\n",
    "from ipywidgets import interact, interactive, IntSlider, ToggleButtons\n",
    "import matplotlib.pyplot as plt\n",
    "from skimage.util import montage\n",
    "from skimage.transform import rotate\n",
    "import tensorflow.keras as keras\n",
    "#import keras\n",
    "import tensorflow.keras.backend as K\n",
    "from tensorflow.keras.callbacks import CSVLogger\n",
    "import tensorflow as tf\n",
    "from tensorflow.keras.utils import plot_model\n",
    "from sklearn.preprocessing import MinMaxScaler\n",
    "from sklearn.model_selection import train_test_split\n",
    "from sklearn.metrics import classification_report\n",
    "from tensorflow.keras.models import *\n",
    "from tensorflow.keras.layers import *\n",
    "from tensorflow.keras.optimizers import *\n",
    "from tensorflow.keras.callbacks import ModelCheckpoint, ReduceLROnPlateau, EarlyStopping, TensorBoard\n",
    "from tensorflow.keras.layers.experimental import preprocessing\n",
    "import cv2\n",
    "import pandas as pd\n",
    "import os\n",
    "\n",
    "%matplotlib inline\n",
    "import seaborn as sns"
   ]
  },
  {
   "cell_type": "code",
   "execution_count": null,
   "id": "f87d378b",
   "metadata": {
    "colab": {
     "base_uri": "https://localhost:8080/"
    },
    "execution": {
     "iopub.execute_input": "2022-01-24T14:42:38.594049Z",
     "iopub.status.busy": "2022-01-24T14:42:38.593176Z",
     "iopub.status.idle": "2022-01-24T14:42:38.632893Z",
     "shell.execute_reply": "2022-01-24T14:42:38.633480Z",
     "shell.execute_reply.started": "2022-01-24T13:37:26.658594Z"
    },
    "id": "f87d378b",
    "outputId": "832f9fca-2c6e-4c36-be67-462587e3d36b",
    "papermill": {
     "duration": 1.980394,
     "end_time": "2022-01-24T14:42:38.633679",
     "exception": false,
     "start_time": "2022-01-24T14:42:36.653285",
     "status": "completed"
    },
    "tags": []
   },
   "outputs": [],
   "source": []
  },
  {
   "cell_type": "code",
   "execution_count": null,
   "id": "f18dc787",
   "metadata": {
    "colab": {
     "base_uri": "https://localhost:8080/"
    },
    "execution": {
     "iopub.execute_input": "2022-01-24T14:42:41.138487Z",
     "iopub.status.busy": "2022-01-24T14:42:41.137533Z",
     "iopub.status.idle": "2022-01-24T14:42:41.619148Z",
     "shell.execute_reply": "2022-01-24T14:42:41.620794Z",
     "shell.execute_reply.started": "2022-01-24T13:37:27.175639Z"
    },
    "id": "f18dc787",
    "outputId": "8fab45bf-b306-49ba-ae89-82f105d4b783",
    "papermill": {
     "duration": 1.373626,
     "end_time": "2022-01-24T14:42:41.621038",
     "exception": false,
     "start_time": "2022-01-24T14:42:40.247412",
     "status": "completed"
    },
    "tags": []
   },
   "outputs": [],
   "source": []
  },
  {
   "cell_type": "code",
   "execution_count": null,
   "id": "1e2dc6c1",
   "metadata": {
    "colab": {
     "base_uri": "https://localhost:8080/",
     "height": 471,
     "referenced_widgets": [
      "b7d980036cd9457484fd56609bc828d3",
      "e47e41b0c6634172b1debc781e0f19f5",
      "fe5a452d50e1481687b647f31167ed1c",
      "9a50b38dd2284e45b99533d91d75847b",
      "aaccaea3676a401da07cab9fd6f63644",
      "c947a77ad91e4c3990c1dbf9e9de7921",
      "de72a4da8d0c4174b8432276b0eb5e0f"
     ]
    },
    "execution": {
     "iopub.execute_input": "2022-01-24T14:42:42.212304Z",
     "iopub.status.busy": "2022-01-24T14:42:42.207726Z",
     "iopub.status.idle": "2022-01-24T14:42:42.492056Z",
     "shell.execute_reply": "2022-01-24T14:42:42.492646Z",
     "shell.execute_reply.started": "2022-01-24T13:37:30.810531Z"
    },
    "id": "1e2dc6c1",
    "outputId": "7bb51cf2-3ee3-4f35-d01a-c47644e97ef1",
    "papermill": {
     "duration": 0.572556,
     "end_time": "2022-01-24T14:42:42.492859",
     "exception": false,
     "start_time": "2022-01-24T14:42:41.920303",
     "status": "completed"
    },
    "tags": []
   },
   "outputs": [],
   "source": []
  },
  {
   "cell_type": "code",
   "execution_count": null,
   "id": "90071d4b",
   "metadata": {
    "colab": {
     "base_uri": "https://localhost:8080/",
     "height": 519,
     "referenced_widgets": [
      "adfe3f43760344ccabb4976c735f308c",
      "a083b7579d9246588749c07f1720f878",
      "ef87b4a73797415db36f2d721258778c",
      "758e495811df4da09c7c7981080c66a9",
      "d9b89e8496274d12be892532c6897202",
      "a9662bde00b444fc9d394d351f5ef968",
      "28e5829855214a11bc28470c45782dbe"
     ]
    },
    "execution": {
     "iopub.execute_input": "2022-01-24T14:42:42.852914Z",
     "iopub.status.busy": "2022-01-24T14:42:42.851993Z",
     "iopub.status.idle": "2022-01-24T14:42:43.083390Z",
     "shell.execute_reply": "2022-01-24T14:42:43.084639Z",
     "shell.execute_reply.started": "2022-01-24T13:37:31.022061Z"
    },
    "id": "90071d4b",
    "outputId": "7402ab2b-a3c3-4410-b7e7-fa558289364d",
    "papermill": {
     "duration": 0.35669,
     "end_time": "2022-01-24T14:42:43.084853",
     "exception": false,
     "start_time": "2022-01-24T14:42:42.728163",
     "status": "completed"
    },
    "tags": []
   },
   "outputs": [],
   "source": [
    "layer = 50\n",
    "classes_dict = {\n",
    "    'Normal': 0.,\n",
    "    'Edema': 1.,\n",
    "    'Non-enhancing tumor': 2.,\n",
    "    'Enhancing tumor': 3.\n",
    "}"
   ]
  },
  {
   "cell_type": "code",
   "execution_count": null,
   "id": "d025f7d5",
   "metadata": {},
   "outputs": [],
   "source": []
  },
  {
   "cell_type": "code",
   "execution_count": null,
   "id": "43cddc12",
   "metadata": {
    "colab": {
     "base_uri": "https://localhost:8080/",
     "height": 1000
    },
    "execution": {
     "iopub.execute_input": "2022-01-24T14:42:43.341685Z",
     "iopub.status.busy": "2022-01-24T14:42:43.338944Z",
     "iopub.status.idle": "2022-01-24T14:42:45.967379Z",
     "shell.execute_reply": "2022-01-24T14:42:45.967822Z",
     "shell.execute_reply.started": "2022-01-24T13:37:34.380048Z"
    },
    "id": "43cddc12",
    "outputId": "8611b5c9-a510-4452-e6e5-5aac4ace275a",
    "papermill": {
     "duration": 2.750324,
     "end_time": "2022-01-24T14:42:45.967972",
     "exception": false,
     "start_time": "2022-01-24T14:42:43.217648",
     "status": "completed"
    },
    "tags": []
   },
   "outputs": [],
   "source": []
  },
  {
   "cell_type": "code",
   "execution_count": null,
   "id": "0a01f867",
   "metadata": {},
   "outputs": [],
   "source": []
  },
  {
   "cell_type": "code",
   "execution_count": null,
   "id": "b37f282e",
   "metadata": {},
   "outputs": [],
   "source": []
  },
  {
   "cell_type": "code",
   "execution_count": null,
   "id": "fdc3c70e",
   "metadata": {},
   "outputs": [],
   "source": []
  },
  {
   "cell_type": "code",
   "execution_count": null,
   "id": "d1d89c34",
   "metadata": {
    "execution": {
     "iopub.execute_input": "2022-01-24T14:43:07.207004Z",
     "iopub.status.busy": "2022-01-24T14:43:07.206163Z",
     "iopub.status.idle": "2022-01-24T14:43:07.208685Z",
     "shell.execute_reply": "2022-01-24T14:43:07.208215Z",
     "shell.execute_reply.started": "2022-01-24T13:37:43.433049Z"
    },
    "id": "d1d89c34",
    "papermill": {
     "duration": 21.119786,
     "end_time": "2022-01-24T14:43:07.208825",
     "exception": false,
     "start_time": "2022-01-24T14:42:46.089039",
     "status": "completed"
    },
    "tags": []
   },
   "outputs": [],
   "source": [
    "# dice loss as defined above for 4 classes\n",
    "def dice_coef(y_true, y_pred, epsilon=0.00001):\n",
    "    \"\"\"\n",
    "    Dice = (2*|X & Y|)/ (|X|+ |Y|)\n",
    "         =  2*sum(|A*B|)/(sum(A^2)+sum(B^2))\n",
    "    ref: https://arxiv.org/pdf/1606.04797v1.pdf\n",
    "\n",
    "    \"\"\"\n",
    "    axis = (0,1,2,3)\n",
    "    dice_numerator = 2. * K.sum(y_true * y_pred, axis=axis) + epsilon\n",
    "    dice_denominator = K.sum(y_true*y_true, axis=axis) + K.sum(y_pred*y_pred, axis=axis) + epsilon\n",
    "    return K.mean((dice_numerator)/(dice_denominator))\n",
    "\n",
    "\n",
    "\n",
    "# define per class evaluation of dice coef\n",
    "# inspired by https://github.com/keras-team/keras/issues/9395\n",
    "def dice_coef_necrotic(y_true, y_pred, epsilon=1e-6):\n",
    "    intersection = K.sum(K.abs(y_true[0,:,:,:,1] * y_pred[0,:,:,:,1]))\n",
    "    return (2. * intersection) / (K.sum(K.square(y_true[0,:,:,:,1])) + K.sum(K.square(y_pred[0,:,:,:,1])) + epsilon)\n",
    "\n",
    "def dice_coef_edema(y_true, y_pred, epsilon=1e-6):\n",
    "    intersection = K.sum(K.abs(y_true[0,:,:,:,2] * y_pred[0,:,:,:,2]))\n",
    "    return (2. * intersection) / (K.sum(K.square(y_true[0,:,:,:,2])) + K.sum(K.square(y_pred[0,:,:,:,2])) + epsilon)\n",
    "\n",
    "def dice_coef_enhancing(y_true, y_pred, epsilon=1e-6):\n",
    "    intersection = K.sum(K.abs(y_true[0,:,:,:,3] * y_pred[0,:,:,:,3]))\n",
    "    return (2. * intersection) / (K.sum(K.square(y_true[0,:,:,:,3])) + K.sum(K.square(y_pred[0,:,:,:,3])) + epsilon)\n",
    "\n",
    "\n",
    "\n",
    "# Computing Precision\n",
    "def precision(y_true, y_pred):\n",
    "        true_positives = K.sum(K.round(K.clip(y_true * y_pred, 0, 1)))\n",
    "        predicted_positives = K.sum(K.round(K.clip(y_pred, 0, 1)))\n",
    "        precision = true_positives / (predicted_positives + K.epsilon())\n",
    "        return precision\n",
    "\n",
    "\n",
    "# Computing Sensitivity\n",
    "def sensitivity(y_true, y_pred):\n",
    "    true_positives = K.sum(K.round(K.clip(y_true * y_pred, 0, 1)))\n",
    "    possible_positives = K.sum(K.round(K.clip(y_true, 0, 1)))\n",
    "    return true_positives / (possible_positives + K.epsilon())\n",
    "\n",
    "\n",
    "# Computing Specificity\n",
    "def specificity(y_true, y_pred):\n",
    "    true_negatives = K.sum(K.round(K.clip((1-y_true) * (1-y_pred), 0, 1)))\n",
    "    possible_negatives = K.sum(K.round(K.clip(1-y_true, 0, 1)))\n",
    "    return true_negatives / (possible_negatives + K.epsilon())\n",
    "\n",
    "\n",
    "#computing the dice loss\n",
    "\n",
    "def dice_loss(y_true, y_pred, epsilon=1e-5):\n",
    "    return 1 - dice_coef(y_true, y_pred, epsilon)"
   ]
  },
  {
   "cell_type": "code",
   "execution_count": null,
   "id": "ced0dcb5",
   "metadata": {},
   "outputs": [],
   "source": [
    "#computing the dice loss\n",
    "\n",
    "def dice_loss(y_true, y_pred, epsilon=1e-5):\n",
    "    return 1 - dice_coef(y_true, y_pred, epsilon)"
   ]
  },
  {
   "cell_type": "code",
   "execution_count": null,
   "id": "b7c99e0d",
   "metadata": {},
   "outputs": [],
   "source": [
    "num_classes = 4"
   ]
  },
  {
   "cell_type": "code",
   "execution_count": null,
   "id": "ec0831f8",
   "metadata": {},
   "outputs": [],
   "source": [
    "def tversky_loss(y_true, y_pred, alpha=0.7, beta=0.3, smooth=1e-6):\n",
    "    tversky_scores = []\n",
    "    for class_idx in range(num_classes):  # Replace num_classes with the actual number of classes\n",
    "        y_true_pos = K.flatten(y_true[..., class_idx])\n",
    "        y_pred_pos = K.flatten(y_pred[..., class_idx])\n",
    "        true_pos = K.sum(y_true_pos * y_pred_pos)\n",
    "        false_neg = K.sum(y_true_pos * (1 - y_pred_pos))\n",
    "        false_pos = K.sum((1 - y_true_pos) * y_pred_pos)\n",
    "        tversky = (true_pos + smooth) / (true_pos + alpha * false_neg + beta * false_pos + smooth)\n",
    "        tversky_scores.append(tversky)\n",
    "    \n",
    "    tversky_scores = K.stack(tversky_scores, axis=-1)\n",
    "    mean_tversky = K.mean(tversky_scores, axis=-1)\n",
    "    return 1 - mean_tversky\n"
   ]
  },
  {
   "cell_type": "code",
   "execution_count": null,
   "id": "8fc00e1e",
   "metadata": {},
   "outputs": [],
   "source": [
    "def focal_loss(y_true, y_pred, gamma=2, alpha=0.25, epsilon=1e-7):\n",
    "    \n",
    "    y_pred = K.clip(y_pred, epsilon, 1 - epsilon)  # Clip values to prevent NaN during logarithm\n",
    "    p_t = y_true * y_pred + (1 - y_true) * (1 - y_pred)\n",
    "    focal_loss = -alpha * K.pow(1 - p_t, gamma) * K.log(p_t)\n",
    "    return K.mean(focal_loss)\n"
   ]
  },
  {
   "cell_type": "markdown",
   "id": "13518cbf",
   "metadata": {},
   "source": [
    "# Focal Loss\n",
    "def focal_loss(y_true, y_pred, alpha=0.25, gamma=2.0, smooth=1e-6):\n",
    "    num_classes = y_pred.shape[-1]\n",
    "    focal_losses = []\n",
    "    for class_idx in range(num_classes):\n",
    "        y_true_pos = y_true[..., class_idx]\n",
    "        y_pred_pos = y_pred[..., class_idx]\n",
    "        true_pos = K.sum(y_true_pos * y_pred_pos)\n",
    "        false_neg = K.sum(y_true_pos * (1 - y_pred_pos))\n",
    "        false_pos = K.sum((1 - y_true_pos) * y_pred_pos)\n",
    "        focal_weights = alpha * y_true_pos + (1 - alpha) * (1 - y_true_pos)\n",
    "        focal_weights = focal_weights * K.pow(1 - y_pred_pos, gamma)\n",
    "        bce_loss = K.binary_crossentropy(y_true_pos, y_pred_pos)\n",
    "        focal_loss = focal_weights * bce_loss\n",
    "        focal_losses.append(K.mean(focal_loss + smooth))\n",
    "    return K.mean(focal_losses)\n",
    "\n",
    "\n",
    "# Computing the Dice Loss with Focal Loss\n",
    "def dice_focal_loss(y_true, y_pred, epsilon=1e-5, alpha=0.25, gamma=2.0, smooth=1e-6):\n",
    "    dice = dice_coef(y_true, y_pred, epsilon)\n",
    "    focal = focal_loss(y_true, y_pred, alpha, gamma, smooth)\n",
    "    return dice + focal\n"
   ]
  },
  {
   "cell_type": "code",
   "execution_count": null,
   "id": "faeeb324",
   "metadata": {
    "execution": {
     "iopub.execute_input": "2022-01-24T14:43:07.439885Z",
     "iopub.status.busy": "2022-01-24T14:43:07.439028Z",
     "iopub.status.idle": "2022-01-24T14:43:07.441262Z",
     "shell.execute_reply": "2022-01-24T14:43:07.440719Z",
     "shell.execute_reply.started": "2022-01-24T13:37:49.7535Z"
    },
    "id": "faeeb324",
    "papermill": {
     "duration": 0.116009,
     "end_time": "2022-01-24T14:43:07.441377",
     "exception": false,
     "start_time": "2022-01-24T14:43:07.325368",
     "status": "completed"
    },
    "tags": []
   },
   "outputs": [],
   "source": [
    "IMG_SIZE=128"
   ]
  },
  {
   "cell_type": "code",
   "execution_count": null,
   "id": "8d125b8e",
   "metadata": {
    "id": "8d125b8e",
    "papermill": {
     "duration": 0.106068,
     "end_time": "2022-01-24T14:43:07.653347",
     "exception": false,
     "start_time": "2022-01-24T14:43:07.547279",
     "status": "completed"
    },
    "tags": []
   },
   "outputs": [],
   "source": [
    "TRAIN_DATASET_PATH = 'D:/BraTS_2021_Africa_Training_Data'"
   ]
  },
  {
   "cell_type": "code",
   "execution_count": null,
   "id": "19da4b76",
   "metadata": {},
   "outputs": [],
   "source": [
    "TRAIN_DATASET_PATH"
   ]
  },
  {
   "cell_type": "code",
   "execution_count": null,
   "id": "e34d8be3",
   "metadata": {
    "execution": {
     "iopub.execute_input": "2022-01-24T14:43:08.758153Z",
     "iopub.status.busy": "2022-01-24T14:43:08.757280Z",
     "iopub.status.idle": "2022-01-24T14:43:08.762214Z",
     "shell.execute_reply": "2022-01-24T14:43:08.761649Z",
     "shell.execute_reply.started": "2022-01-24T13:38:01.226537Z"
    },
    "id": "e34d8be3",
    "papermill": {
     "duration": 0.121942,
     "end_time": "2022-01-24T14:43:08.762337",
     "exception": false,
     "start_time": "2022-01-24T14:43:08.640395",
     "status": "completed"
    },
    "tags": []
   },
   "outputs": [],
   "source": [
    "train_and_val_directories = [f.path for f in os.scandir(TRAIN_DATASET_PATH) if f.is_dir()]"
   ]
  },
  {
   "cell_type": "code",
   "execution_count": null,
   "id": "776bcfda",
   "metadata": {},
   "outputs": [],
   "source": []
  },
  {
   "cell_type": "code",
   "execution_count": null,
   "id": "00c61f9a",
   "metadata": {},
   "outputs": [],
   "source": []
  },
  {
   "cell_type": "code",
   "execution_count": null,
   "id": "0667b9c1",
   "metadata": {
    "execution": {
     "iopub.execute_input": "2022-01-24T14:43:09.015991Z",
     "iopub.status.busy": "2022-01-24T14:43:09.015422Z",
     "iopub.status.idle": "2022-01-24T14:43:09.019362Z",
     "shell.execute_reply": "2022-01-24T14:43:09.018910Z",
     "shell.execute_reply.started": "2022-01-24T13:38:02.368118Z"
    },
    "id": "0667b9c1",
    "papermill": {
     "duration": 0.131476,
     "end_time": "2022-01-24T14:43:09.019483",
     "exception": false,
     "start_time": "2022-01-24T14:43:08.888007",
     "status": "completed"
    },
    "tags": []
   },
   "outputs": [],
   "source": [
    "def pathListIntoIds(dirList):\n",
    "    x = []\n",
    "    for i in range(0,len(dirList)):\n",
    "        x.append(dirList[i][dirList[i].rfind(os.path.sep) + 1:])  #.rfind(\"/\")+1:])\n",
    "    return x\n",
    "\n",
    "train_and_test_ids = pathListIntoIds(train_and_val_directories);\n",
    "\n",
    "train_ids, val_ids = train_test_split(train_and_test_ids,test_size=0.2)\n",
    "\n",
    "#train_test_ids, val_ids = train_test_split(train_and_test_ids,test_size=0.2)\n",
    "#train_ids, test_ids = train_test_split(train_test_ids,test_size=0.15)"
   ]
  },
  {
   "cell_type": "code",
   "execution_count": null,
   "id": "063a21f1",
   "metadata": {},
   "outputs": [],
   "source": []
  },
  {
   "cell_type": "code",
   "execution_count": null,
   "id": "09332d98",
   "metadata": {},
   "outputs": [],
   "source": []
  },
  {
   "cell_type": "code",
   "execution_count": null,
   "id": "3dd6de80",
   "metadata": {},
   "outputs": [],
   "source": []
  },
  {
   "cell_type": "code",
   "execution_count": null,
   "id": "feb7d2ee",
   "metadata": {},
   "outputs": [],
   "source": [
    "len(train_ids)"
   ]
  },
  {
   "cell_type": "code",
   "execution_count": null,
   "id": "b3466979",
   "metadata": {},
   "outputs": [],
   "source": []
  },
  {
   "cell_type": "code",
   "execution_count": null,
   "id": "09218250",
   "metadata": {
    "execution": {
     "iopub.execute_input": "2022-01-24T14:43:09.249453Z",
     "iopub.status.busy": "2022-01-24T14:43:09.248552Z",
     "iopub.status.idle": "2022-01-24T14:43:09.250690Z",
     "shell.execute_reply": "2022-01-24T14:43:09.251047Z",
     "shell.execute_reply.started": "2022-01-24T13:38:02.383886Z"
    },
    "id": "09218250",
    "papermill": {
     "duration": 0.119486,
     "end_time": "2022-01-24T14:43:09.251210",
     "exception": false,
     "start_time": "2022-01-24T14:43:09.131724",
     "status": "completed"
    },
    "tags": []
   },
   "outputs": [],
   "source": [
    "SEGMENT_CLASSES = {\n",
    "    0 : 'NOT tumor',\n",
    "    1 : 'NECROTIC/CORE', # or NON-ENHANCING tumor CORE\n",
    "    2 : 'EDEMA',\n",
    "    3 : 'ENHANCING' # original 4 -> converted into 3 later\n",
    "}\n",
    "\n",
    "# there are 155 slices per volume\n",
    "# to start at 5 and use 145 slices means we will skip the first 5 and last 5\n",
    "VOLUME_SLICES = 128\n",
    "VOLUME_START_AT = 13 # first slice of volume that we will include"
   ]
  },
  {
   "cell_type": "code",
   "execution_count": null,
   "id": "b863620a",
   "metadata": {
    "id": "b863620a",
    "papermill": {
     "duration": 0.10849,
     "end_time": "2022-01-24T14:43:09.474291",
     "exception": false,
     "start_time": "2022-01-24T14:43:09.365801",
     "status": "completed"
    },
    "tags": []
   },
   "outputs": [],
   "source": [
    "train_ids"
   ]
  },
  {
   "cell_type": "code",
   "execution_count": null,
   "id": "02c60301",
   "metadata": {
    "execution": {
     "iopub.execute_input": "2022-01-24T14:43:09.708011Z",
     "iopub.status.busy": "2022-01-24T14:43:09.707380Z",
     "iopub.status.idle": "2022-01-24T14:43:09.803763Z",
     "shell.execute_reply": "2022-01-24T14:43:09.804510Z",
     "shell.execute_reply.started": "2022-01-24T13:38:02.397251Z"
    },
    "id": "02c60301",
    "papermill": {
     "duration": 0.221951,
     "end_time": "2022-01-24T14:43:09.804653",
     "exception": false,
     "start_time": "2022-01-24T14:43:09.582702",
     "status": "completed"
    },
    "tags": []
   },
   "outputs": [],
   "source": [
    "TRAIN_DATASET_PATH"
   ]
  },
  {
   "cell_type": "code",
   "execution_count": null,
   "id": "63fc240e",
   "metadata": {},
   "outputs": [],
   "source": [
    "#test_ids"
   ]
  },
  {
   "cell_type": "code",
   "execution_count": null,
   "id": "58e8674c",
   "metadata": {},
   "outputs": [],
   "source": [
    "keras = tf.compat.v1.keras\n",
    "Sequence = keras.utils.Sequence\n",
    "\n",
    "class DataGenerator(Sequence):\n",
    "    'Generates data for Keras'\n",
    "    def __init__(self, list_IDs, dim=(IMG_SIZE,IMG_SIZE), batch_size=1, n_channels=4, shuffle=True, data_path=None):\n",
    "        'Initialization'\n",
    "        self.dim = dim\n",
    "        self.batch_size = batch_size\n",
    "        self.list_IDs = list_IDs\n",
    "        self.n_channels = n_channels\n",
    "        self.shuffle = shuffle\n",
    "        self.data_path = data_path\n",
    "        self.on_epoch_end()\n",
    "\n",
    "    def __len__(self):\n",
    "        'Denotes the number of batches per epoch'\n",
    "        return int(np.floor(len(self.list_IDs) / self.batch_size))\n",
    "\n",
    "    def __getitem__(self, index):\n",
    "        'Generate one batch of data'\n",
    "        # Generate indexes of the batch\n",
    "        indexes = self.indexes[index * self.batch_size:(index + 1) * self.batch_size]\n",
    "        # Find list of IDs\n",
    "        Batch_ids = [self.list_IDs[k] for k in indexes]\n",
    "\n",
    "        # Generate data\n",
    "        X, y = self.__data_generation(Batch_ids)\n",
    "\n",
    "        return X, y\n",
    "\n",
    "    def on_epoch_end(self):\n",
    "        'Updates indexes after each epoch'\n",
    "        self.indexes = np.arange(len(self.list_IDs))\n",
    "        if self.shuffle:\n",
    "            np.random.shuffle(self.indexes)\n",
    "\n",
    "    def __data_generation(self, Batch_ids):\n",
    "        'Generates data containing batch_size samples' # X : (n_samples, *dim, n_channels)\n",
    "        # Initialization\n",
    "        X = np.zeros((self.batch_size * VOLUME_SLICES, *self.dim, self.n_channels), dtype=np.float32)\n",
    "        y = np.zeros((self.batch_size * VOLUME_SLICES, *self.dim), dtype=np.uint8)\n",
    "\n",
    "        # Generate data\n",
    "        for c, i in enumerate(Batch_ids):\n",
    "            case_path = os.path.join(self.data_path, i)\n",
    "            #print('case+path: ', case_path)\n",
    "            #print('batch_ids is: ', batch_ids)\n",
    "            #case_path = os.path.join(cas_path, f'{i}')\n",
    "\n",
    "            data_path = os.path.join(case_path, f'{i}-t2f.nii.gz')           \n",
    "            flair = nib.load(data_path).get_fdata()\n",
    "\n",
    "            data_path = os.path.join(case_path, f'{i}-t1c.nii.gz')            \n",
    "            ce = nib.load(data_path).get_fdata()\n",
    "            \n",
    "            data_path = os.path.join(case_path, f'{i}-t1n.nii.gz')\n",
    "            t1 = nib.load(data_path).get_fdata()\n",
    "\n",
    "            data_path = os.path.join(case_path, f'{i}-t2w.nii.gz')\n",
    "            t2 = nib.load(data_path).get_fdata()\n",
    "            \n",
    "            data_path = os.path.join(case_path, f'{i}-seg.nii.gz')\n",
    "            seg = nib.load(data_path).get_fdata()\n",
    "\n",
    "            for j in range(VOLUME_SLICES):\n",
    "                X[j + (VOLUME_SLICES * c), :, :, 0] = cv2.resize(flair[:, :, j + VOLUME_START_AT], (IMG_SIZE, IMG_SIZE))\n",
    "                X[j + (VOLUME_SLICES * c), :, :, 1] = cv2.resize(ce[:, :, j + VOLUME_START_AT], (IMG_SIZE, IMG_SIZE))\n",
    "                X[j + (VOLUME_SLICES * c), :, :, 2] = cv2.resize(t1[:, :, j + VOLUME_START_AT], (IMG_SIZE, IMG_SIZE))\n",
    "                X[j + (VOLUME_SLICES * c), :, :, 3] = cv2.resize(t2[:, :, j + VOLUME_START_AT], (IMG_SIZE, IMG_SIZE))\n",
    "                y[j + (VOLUME_SLICES * c), :, :] = cv2.resize(seg[:, :, j + VOLUME_START_AT], (IMG_SIZE, IMG_SIZE))\n",
    "\n",
    "        X = X.reshape(self.batch_size, VOLUME_SLICES, *self.dim, self.n_channels)\n",
    "        y = y.reshape(self.batch_size, VOLUME_SLICES, *self.dim)\n",
    "        y[y == 4] = 3\n",
    "        y = tf.keras.utils.to_categorical(y, num_classes=4)\n",
    "\n",
    "        return X / np.max(X), y\n",
    "\n",
    "\n",
    "# Create separate generators\n",
    "training_generator = DataGenerator(train_ids, data_path=TRAIN_DATASET_PATH)\n",
    "valid_generator = DataGenerator(val_ids, data_path=TRAIN_DATASET_PATH)\n",
    "#test_generator = DataGenerator(test_ids, data_path=TRAIN_DATASET_PATH)"
   ]
  },
  {
   "cell_type": "code",
   "execution_count": null,
   "id": "e66020f5",
   "metadata": {},
   "outputs": [],
   "source": [
    "len(training_generator)"
   ]
  },
  {
   "cell_type": "code",
   "execution_count": null,
   "id": "071f171a",
   "metadata": {
    "execution": {
     "iopub.execute_input": "2022-01-24T14:43:10.511856Z",
     "iopub.status.busy": "2022-01-24T14:43:10.508642Z",
     "iopub.status.idle": "2022-01-24T14:43:10.514608Z",
     "shell.execute_reply": "2022-01-24T14:43:10.514100Z",
     "shell.execute_reply.started": "2022-01-24T13:39:38.340607Z"
    },
    "id": "071f171a",
    "papermill": {
     "duration": 0.157204,
     "end_time": "2022-01-24T14:43:10.514743",
     "exception": false,
     "start_time": "2022-01-24T14:43:10.357539",
     "status": "completed"
    },
    "tags": []
   },
   "outputs": [],
   "source": [
    "def conv_block(input_tensor, n_filters, kernel_size, batch_norm):\n",
    "    x = Conv3D(n_filters, kernel_size, activation='relu', padding='same')(input_tensor)\n",
    "    if batch_norm:\n",
    "        x = BatchNormalization()(x)\n",
    "    x = Conv3D(n_filters, kernel_size, activation='relu', padding='same')(x)\n",
    "    if batch_norm:\n",
    "        x = BatchNormalization()(x)\n",
    "    return x"
   ]
  },
  {
   "cell_type": "markdown",
   "id": "54f5b515",
   "metadata": {
    "execution": {
     "iopub.execute_input": "2022-01-24T14:43:10.745237Z",
     "iopub.status.busy": "2022-01-24T14:43:10.744654Z",
     "iopub.status.idle": "2022-01-24T14:43:16.599107Z",
     "shell.execute_reply": "2022-01-24T14:43:16.598457Z",
     "shell.execute_reply.started": "2022-01-24T13:39:44.190403Z"
    },
    "id": "1ae8a01f",
    "papermill": {
     "duration": 5.969751,
     "end_time": "2022-01-24T14:43:16.599279",
     "exception": false,
     "start_time": "2022-01-24T14:43:10.629528",
     "status": "completed"
    },
    "tags": []
   },
   "source": [
    "#categorical_crossentropy loss\n",
    "input_layer = Input((128,IMG_SIZE, IMG_SIZE, 2))\n",
    "#input_shape = (32, 128, 128, 2)\n",
    "#input_layer = Input(shape = input_shape)\n",
    "\n",
    "model1 = UNet_3d(input_layer)\n",
    "model1.compile(loss=\"categorical_crossentropy\", optimizer=Adam(learning_rate=0.001), metrics = ['accuracy',tf.keras.metrics.MeanIoU(num_classes=4),\n",
    "                                                                                                                dice_coef, precision, sensitivity, specificity, dice_coef_necrotic,\n",
    "                                                                                                                dice_coef_edema ,dice_coef_enhancing] )\n",
    "\n",
    "#model1.summary()"
   ]
  },
  {
   "cell_type": "markdown",
   "id": "0780f260",
   "metadata": {
    "colab": {
     "base_uri": "https://localhost:8080/",
     "height": 1000
    },
    "execution": {
     "iopub.execute_input": "2022-01-24T20:29:53.540911Z",
     "iopub.status.busy": "2022-01-24T20:29:53.540295Z",
     "iopub.status.idle": "2022-01-24T20:29:55.142691Z",
     "shell.execute_reply": "2022-01-24T20:29:55.143115Z",
     "shell.execute_reply.started": "2022-01-24T13:38:03.060836Z"
    },
    "id": "99b85db1",
    "outputId": "1dc16d47-47bd-48dd-86b7-0097de48ac4f",
    "papermill": {
     "duration": 6.922811,
     "end_time": "2022-01-24T20:29:55.143271",
     "exception": false,
     "start_time": "2022-01-24T20:29:48.220460",
     "status": "completed"
    },
    "tags": []
   },
   "source": [
    "plot_model(model1,\n",
    "           show_shapes = True,\n",
    "           show_dtype=False,\n",
    "           show_layer_names = True,\n",
    "           rankdir = 'TB',\n",
    "           expand_nested = False,\n",
    "           dpi = 70)"
   ]
  },
  {
   "cell_type": "code",
   "execution_count": null,
   "id": "badbe8cd",
   "metadata": {
    "colab": {
     "base_uri": "https://localhost:8080/"
    },
    "execution": {
     "iopub.execute_input": "2022-01-24T20:30:05.751552Z",
     "iopub.status.busy": "2022-01-24T20:30:05.750598Z",
     "iopub.status.idle": "2022-01-24T20:31:26.165342Z",
     "shell.execute_reply": "2022-01-24T20:31:26.165736Z",
     "shell.execute_reply.started": "2022-01-24T13:38:03.063043Z"
    },
    "id": "badbe8cd",
    "outputId": "50bc81f4-8ba9-4356-df42-e3641f735611",
    "papermill": {
     "duration": 85.554212,
     "end_time": "2022-01-24T20:31:26.165896",
     "exception": false,
     "start_time": "2022-01-24T20:30:00.611684",
     "status": "completed"
    },
    "tags": []
   },
   "outputs": [],
   "source": [
    "def UNet_3d_32(input_img, n_filters=32, dropout=0.2, batch_norm=True):\n",
    "\n",
    "    # Encoder\n",
    "    c1 = Conv3D(n_filters, kernel_size=(3, 3, 3), strides=(1, 1, 1), padding='same')(input_img)\n",
    "    c1 = conv_block(c1, n_filters, 3, batch_norm)\n",
    "    p1 = MaxPooling3D(pool_size=(2, 2, 2))(c1)\n",
    "\n",
    "    c2 = Conv3D(n_filters * 2, kernel_size=(3, 3, 3), strides=(1, 1, 1), padding='same')(p1)\n",
    "    c2 = conv_block(c2, n_filters * 2, 3, batch_norm)\n",
    "    p2 = MaxPooling3D(pool_size=(2, 2, 2))(c2)\n",
    "\n",
    "    c3 = Conv3D(n_filters * 4, kernel_size=(3, 3, 3), strides=(1, 1, 1), padding='same')(p2)\n",
    "    c3 = conv_block(c3, n_filters * 4, 3, batch_norm)\n",
    "    p3 = MaxPooling3D(pool_size=(2, 2, 2))(c3)\n",
    "\n",
    "    c4 = Conv3D(n_filters * 8, kernel_size=(3, 3, 3), strides=(1, 1, 1), padding='same')(p3)\n",
    "    c4 = conv_block(c4, n_filters * 8, 3, batch_norm)\n",
    "    p4 = MaxPooling3D(pool_size=(2, 2, 2))(c4)\n",
    "\n",
    "    # Bridge\n",
    "    b = Conv3D(n_filters * 16, kernel_size=(3, 3, 3), strides=(1, 1, 1), padding='same')(p4)\n",
    "    b = conv_block(b, n_filters * 16, 3, batch_norm)\n",
    "\n",
    "    # Decoder\n",
    "    u4 = Conv3DTranspose(n_filters * 8, (2, 2, 2), strides=(2, 2, 2), padding='same')(b)\n",
    "    u4 = concatenate([u4, c4])\n",
    "    c5 = Conv3D(n_filters * 8, kernel_size=(3, 3, 3), strides=(1, 1, 1), padding='same')(u4)\n",
    "    c5 = conv_block(c5, n_filters * 8, 3, batch_norm)\n",
    "\n",
    "    u3 = Conv3DTranspose(n_filters * 4, (2, 2, 2), strides=(2, 2, 2), padding='same')(c5)\n",
    "    u3 = concatenate([u3, c3])\n",
    "    c6 = Conv3D(n_filters * 4, kernel_size=(3, 3, 3), strides=(1, 1, 1), padding='same')(u3)\n",
    "    c6 = conv_block(c6, n_filters * 4, 3, batch_norm)\n",
    "\n",
    "    u2 = Conv3DTranspose(n_filters * 2, (2, 2, 2), strides=(2, 2, 2), padding='same')(c6)\n",
    "    u2 = concatenate([u2, c2])\n",
    "    c7 = Conv3D(n_filters * 2, kernel_size=(3, 3, 3), strides=(1, 1, 1), padding='same')(u2)\n",
    "    c7 = conv_block(c7, n_filters * 2, 3, batch_norm)\n",
    "\n",
    "    u1 = Conv3DTranspose(n_filters, (2, 2, 2), strides=(2, 2, 2), padding='same')(c7)\n",
    "    u1 = concatenate([u1, c1])\n",
    "    c8 = Conv3D(n_filters, kernel_size=(3, 3, 3), strides=(1, 1, 1), padding='same')(u1)\n",
    "    c8 = conv_block(c8, n_filters, 3, batch_norm)\n",
    "\n",
    "    # Output\n",
    "    outputs = Conv3D(4, kernel_size=(1, 1, 1), activation='softmax')(c8)\n",
    "\n",
    "    model = Model(inputs=input_img, outputs=outputs)\n",
    "\n",
    "    return model"
   ]
  },
  {
   "cell_type": "code",
   "execution_count": null,
   "id": "e36b3321",
   "metadata": {
    "colab": {
     "base_uri": "https://localhost:8080/"
    },
    "id": "e36b3321",
    "outputId": "d2d35c0a-db58-4945-e0bb-2efc461ad601",
    "papermill": {
     "duration": 5.158752,
     "end_time": "2022-01-24T20:31:36.850921",
     "exception": false,
     "start_time": "2022-01-24T20:31:31.692169",
     "status": "completed"
    },
    "tags": []
   },
   "outputs": [],
   "source": [
    "csv_logger = CSVLogger('training_model_UNet_32_dice_loss.log', separator=',', append=False)\n",
    "\n",
    "\n",
    "callbacks = [keras.callbacks.EarlyStopping(monitor='loss', min_delta=0,\n",
    "                               patience=5, verbose=1, mode='auto'),\n",
    "      keras.callbacks.ReduceLROnPlateau(monitor='val_loss', factor=0.2,\n",
    "                              patience=5, min_lr=0.000001, verbose=1),\n",
    "      keras.callbacks.ModelCheckpoint(filepath = 'model_.{epoch:02d}-{dice_coef:.6f}.h5',\n",
    "                             verbose=1, save_best_only=True, save_weights_only = True),\n",
    "      csv_logger\n",
    "    ]\n"
   ]
  },
  {
   "cell_type": "code",
   "execution_count": null,
   "id": "224f72e9",
   "metadata": {},
   "outputs": [],
   "source": []
  },
  {
   "cell_type": "code",
   "execution_count": null,
   "id": "3f64f74e",
   "metadata": {},
   "outputs": [],
   "source": [
    "\n"
   ]
  },
  {
   "cell_type": "code",
   "execution_count": 24,
   "id": "KCeUfBR8LyU7",
   "metadata": {
    "id": "KCeUfBR8LyU7"
   },
   "outputs": [],
   "source": [
    "#dice loss\n",
    "input_layer = Input((128,IMG_SIZE, IMG_SIZE, 4))\n",
    "#input_shape = (32, 128, 128, 2)\n",
    "#input_layer = Input(shape = input_shape)\n",
    "\n",
    "model2 = UNet_3d_32(input_layer)\n",
    "model2.compile(loss=dice_loss, optimizer=RMSprop(learning_rate=0.0001), metrics = ['accuracy',tf.keras.metrics.MeanIoU(num_classes=4),\n",
    "                                                                                                                dice_coef, precision, sensitivity, specificity, dice_coef_necrotic,\n",
    "                                                                                                                dice_coef_edema, dice_coef_enhancing] )\n",
    "\n",
    "model1.summary()\n",
    "plot_model(model1, show_shapes = True, show_dtype=False, show_layer_names = True, rankdir = 'TB', expand_nested = False, dpi = 70)"
   ]
  },
  {
   "cell_type": "code",
   "execution_count": 25,
   "id": "jbSHqLtR3gxd",
   "metadata": {
    "id": "jbSHqLtR3gxd"
   },
   "outputs": [
    {
     "name": "stdout",
     "output_type": "stream",
     "text": [
      "Epoch 1/20\n",
      "1048/1048 [==============================] - 1376s 1s/step - loss: 0.5317 - accuracy: 0.7258 - mean_io_u: 0.3750 - dice_coef: 0.4683 - precision: 0.7296 - sensitivity: 0.7179 - specificity: 0.9135 - dice_coef_necrotic: 0.0103 - dice_coef_edema: 0.5374 - dice_coef_enhancing: 0.4970 - val_loss: 0.5612 - val_accuracy: 0.7909 - val_mean_io_u: 0.3750 - val_dice_coef: 0.4388 - val_precision: 0.7922 - val_sensitivity: 0.7908 - val_specificity: 0.9309 - val_dice_coef_necrotic: 0.0154 - val_dice_coef_edema: 0.3885 - val_dice_coef_enhancing: 0.4674\n",
      "\n",
      "Epoch 00001: val_loss improved from inf to 0.56119, saving model to model_.01-0.521189.h5\n",
      "Epoch 2/20\n",
      "1048/1048 [==============================] - 1426s 1s/step - loss: 0.4198 - accuracy: 0.8058 - mean_io_u: 0.3750 - dice_coef: 0.5802 - precision: 0.8061 - sensitivity: 0.8055 - specificity: 0.9354 - dice_coef_necrotic: 0.0153 - dice_coef_edema: 0.6979 - dice_coef_enhancing: 0.7158 - val_loss: 0.5529 - val_accuracy: 0.8764 - val_mean_io_u: 0.3750 - val_dice_coef: 0.4471 - val_precision: 0.8778 - val_sensitivity: 0.8763 - val_specificity: 0.9593 - val_dice_coef_necrotic: 0.0344 - val_dice_coef_edema: 0.3889 - val_dice_coef_enhancing: 0.4288\n",
      "\n",
      "Epoch 00002: val_loss improved from 0.56119 to 0.55286, saving model to model_.02-0.585823.h5\n",
      "Epoch 3/20\n",
      "1048/1048 [==============================] - 1352s 1s/step - loss: 0.3892 - accuracy: 0.8657 - mean_io_u: 0.3750 - dice_coef: 0.6108 - precision: 0.8660 - sensitivity: 0.8655 - specificity: 0.9554 - dice_coef_necrotic: 0.0282 - dice_coef_edema: 0.7323 - dice_coef_enhancing: 0.7541 - val_loss: 0.5294 - val_accuracy: 0.9175 - val_mean_io_u: 0.3750 - val_dice_coef: 0.4706 - val_precision: 0.9180 - val_sensitivity: 0.9174 - val_specificity: 0.9727 - val_dice_coef_necrotic: 0.0665 - val_dice_coef_edema: 0.4067 - val_dice_coef_enhancing: 0.4520\n",
      "\n",
      "Epoch 00003: val_loss improved from 0.55286 to 0.52935, saving model to model_.03-0.614585.h5\n",
      "Epoch 4/20\n",
      "1048/1048 [==============================] - 1352s 1s/step - loss: 0.3641 - accuracy: 0.9344 - mean_io_u: 0.3750 - dice_coef: 0.6359 - precision: 0.9347 - sensitivity: 0.9341 - specificity: 0.9782 - dice_coef_necrotic: 0.0709 - dice_coef_edema: 0.7476 - dice_coef_enhancing: 0.7586 - val_loss: 0.5327 - val_accuracy: 0.9840 - val_mean_io_u: 0.3751 - val_dice_coef: 0.4673 - val_precision: 0.9844 - val_sensitivity: 0.9839 - val_specificity: 0.9948 - val_dice_coef_necrotic: 0.2005 - val_dice_coef_edema: 0.2928 - val_dice_coef_enhancing: 0.3832\n",
      "\n",
      "Epoch 00004: val_loss did not improve from 0.52935\n",
      "Epoch 5/20\n",
      "1048/1048 [==============================] - 1349s 1s/step - loss: 0.2756 - accuracy: 0.9925 - mean_io_u: 0.3751 - dice_coef: 0.7244 - precision: 0.9932 - sensitivity: 0.9921 - specificity: 0.9977 - dice_coef_necrotic: 0.4392 - dice_coef_edema: 0.7168 - dice_coef_enhancing: 0.7448 - val_loss: 0.5786 - val_accuracy: 0.9861 - val_mean_io_u: 0.3752 - val_dice_coef: 0.4214 - val_precision: 0.9867 - val_sensitivity: 0.9859 - val_specificity: 0.9956 - val_dice_coef_necrotic: 0.1644 - val_dice_coef_edema: 0.2577 - val_dice_coef_enhancing: 0.2701\n",
      "\n",
      "Epoch 00005: val_loss did not improve from 0.52935\n",
      "Epoch 6/20\n",
      "1048/1048 [==============================] - 1350s 1s/step - loss: 0.2375 - accuracy: 0.9952 - mean_io_u: 0.3751 - dice_coef: 0.7625 - precision: 0.9958 - sensitivity: 0.9949 - specificity: 0.9986 - dice_coef_necrotic: 0.5308 - dice_coef_edema: 0.7504 - dice_coef_enhancing: 0.7704 - val_loss: 0.4326 - val_accuracy: 0.9837 - val_mean_io_u: 0.3756 - val_dice_coef: 0.5674 - val_precision: 0.9846 - val_sensitivity: 0.9833 - val_specificity: 0.9949 - val_dice_coef_necrotic: 0.3475 - val_dice_coef_edema: 0.3906 - val_dice_coef_enhancing: 0.5384\n",
      "\n",
      "Epoch 00006: val_loss improved from 0.52935 to 0.43261, saving model to model_.06-0.772569.h5\n",
      "Epoch 7/20\n",
      "1048/1048 [==============================] - 1355s 1s/step - loss: 0.2177 - accuracy: 0.9954 - mean_io_u: 0.3751 - dice_coef: 0.7823 - precision: 0.9960 - sensitivity: 0.9950 - specificity: 0.9987 - dice_coef_necrotic: 0.5603 - dice_coef_edema: 0.7775 - dice_coef_enhancing: 0.7928 - val_loss: 0.4760 - val_accuracy: 0.9889 - val_mean_io_u: 0.3750 - val_dice_coef: 0.5240 - val_precision: 0.9894 - val_sensitivity: 0.9887 - val_specificity: 0.9965 - val_dice_coef_necrotic: 0.2804 - val_dice_coef_edema: 0.3849 - val_dice_coef_enhancing: 0.4356\n",
      "\n",
      "Epoch 00007: val_loss did not improve from 0.43261\n",
      "Epoch 8/20\n",
      "1048/1048 [==============================] - 1352s 1s/step - loss: 0.2052 - accuracy: 0.9956 - mean_io_u: 0.3751 - dice_coef: 0.7948 - precision: 0.9961 - sensitivity: 0.9953 - specificity: 0.9987 - dice_coef_necrotic: 0.5871 - dice_coef_edema: 0.7890 - dice_coef_enhancing: 0.8041 - val_loss: 0.4396 - val_accuracy: 0.9793 - val_mean_io_u: 0.3751 - val_dice_coef: 0.5604 - val_precision: 0.9803 - val_sensitivity: 0.9787 - val_specificity: 0.9935 - val_dice_coef_necrotic: 0.3223 - val_dice_coef_edema: 0.4421 - val_dice_coef_enhancing: 0.4869\n",
      "\n",
      "Epoch 00008: val_loss did not improve from 0.43261\n",
      "Epoch 9/20\n",
      "1048/1048 [==============================] - 1353s 1s/step - loss: 0.2047 - accuracy: 0.9958 - mean_io_u: 0.3751 - dice_coef: 0.7953 - precision: 0.9964 - sensitivity: 0.9955 - specificity: 0.9988 - dice_coef_necrotic: 0.5890 - dice_coef_edema: 0.7938 - dice_coef_enhancing: 0.7995 - val_loss: 0.6780 - val_accuracy: 0.8025 - val_mean_io_u: 0.3758 - val_dice_coef: 0.3220 - val_precision: 0.8303 - val_sensitivity: 0.7998 - val_specificity: 0.9455 - val_dice_coef_necrotic: 0.0164 - val_dice_coef_edema: 0.2190 - val_dice_coef_enhancing: 0.1621\n",
      "\n",
      "Epoch 00009: val_loss did not improve from 0.43261\n",
      "Epoch 10/20\n",
      "1048/1048 [==============================] - 1353s 1s/step - loss: 0.1980 - accuracy: 0.9960 - mean_io_u: 0.3753 - dice_coef: 0.8020 - precision: 0.9966 - sensitivity: 0.9957 - specificity: 0.9989 - dice_coef_necrotic: 0.5953 - dice_coef_edema: 0.7997 - dice_coef_enhancing: 0.8140 - val_loss: 0.4264 - val_accuracy: 0.9867 - val_mean_io_u: 0.3751 - val_dice_coef: 0.5736 - val_precision: 0.9875 - val_sensitivity: 0.9863 - val_specificity: 0.9958 - val_dice_coef_necrotic: 0.3218 - val_dice_coef_edema: 0.4697 - val_dice_coef_enhancing: 0.5087\n",
      "\n",
      "Epoch 00010: val_loss improved from 0.43261 to 0.42637, saving model to model_.10-0.804020.h5\n",
      "Epoch 11/20\n",
      "1048/1048 [==============================] - 1354s 1s/step - loss: 0.1905 - accuracy: 0.9960 - mean_io_u: 0.3753 - dice_coef: 0.8095 - precision: 0.9966 - sensitivity: 0.9957 - specificity: 0.9989 - dice_coef_necrotic: 0.6092 - dice_coef_edema: 0.8151 - dice_coef_enhancing: 0.8147 - val_loss: 0.4707 - val_accuracy: 0.9734 - val_mean_io_u: 0.3758 - val_dice_coef: 0.5293 - val_precision: 0.9806 - val_sensitivity: 0.9705 - val_specificity: 0.9936 - val_dice_coef_necrotic: 0.2107 - val_dice_coef_edema: 0.3841 - val_dice_coef_enhancing: 0.5348\n",
      "\n",
      "Epoch 00011: val_loss did not improve from 0.42637\n",
      "Epoch 12/20\n",
      "1048/1048 [==============================] - 1352s 1s/step - loss: 0.1910 - accuracy: 0.9962 - mean_io_u: 0.3753 - dice_coef: 0.8090 - precision: 0.9968 - sensitivity: 0.9958 - specificity: 0.9989 - dice_coef_necrotic: 0.6035 - dice_coef_edema: 0.8131 - dice_coef_enhancing: 0.8203 - val_loss: 0.4874 - val_accuracy: 0.9871 - val_mean_io_u: 0.3784 - val_dice_coef: 0.5126 - val_precision: 0.9877 - val_sensitivity: 0.9868 - val_specificity: 0.9959 - val_dice_coef_necrotic: 0.2889 - val_dice_coef_edema: 0.3993 - val_dice_coef_enhancing: 0.3677\n",
      "\n",
      "Epoch 00012: val_loss did not improve from 0.42637\n",
      "Epoch 13/20\n",
      "1048/1048 [==============================] - 1353s 1s/step - loss: 0.1891 - accuracy: 0.9962 - mean_io_u: 0.3753 - dice_coef: 0.8109 - precision: 0.9968 - sensitivity: 0.9958 - specificity: 0.9989 - dice_coef_necrotic: 0.6157 - dice_coef_edema: 0.8064 - dice_coef_enhancing: 0.8226 - val_loss: 0.4714 - val_accuracy: 0.9892 - val_mean_io_u: 0.3754 - val_dice_coef: 0.5286 - val_precision: 0.9897 - val_sensitivity: 0.9889 - val_specificity: 0.9966 - val_dice_coef_necrotic: 0.3013 - val_dice_coef_edema: 0.3824 - val_dice_coef_enhancing: 0.4354\n",
      "\n",
      "Epoch 00013: val_loss did not improve from 0.42637\n",
      "Epoch 14/20\n",
      "1048/1048 [==============================] - 1351s 1s/step - loss: 0.1866 - accuracy: 0.9963 - mean_io_u: 0.3753 - dice_coef: 0.8134 - precision: 0.9969 - sensitivity: 0.9959 - specificity: 0.9990 - dice_coef_necrotic: 0.6225 - dice_coef_edema: 0.8100 - dice_coef_enhancing: 0.8220 - val_loss: 0.4400 - val_accuracy: 0.9839 - val_mean_io_u: 0.3751 - val_dice_coef: 0.5600 - val_precision: 0.9849 - val_sensitivity: 0.9834 - val_specificity: 0.9950 - val_dice_coef_necrotic: 0.3244 - val_dice_coef_edema: 0.4070 - val_dice_coef_enhancing: 0.5154\n",
      "\n",
      "Epoch 00014: val_loss did not improve from 0.42637\n",
      "Epoch 15/20\n",
      "1048/1048 [==============================] - 1344s 1s/step - loss: 0.1817 - accuracy: 0.9963 - mean_io_u: 0.3753 - dice_coef: 0.8183 - precision: 0.9970 - sensitivity: 0.9959 - specificity: 0.9990 - dice_coef_necrotic: 0.6336 - dice_coef_edema: 0.8160 - dice_coef_enhancing: 0.8244 - val_loss: 0.4582 - val_accuracy: 0.9907 - val_mean_io_u: 0.3825 - val_dice_coef: 0.5418 - val_precision: 0.9911 - val_sensitivity: 0.9905 - val_specificity: 0.9970 - val_dice_coef_necrotic: 0.2979 - val_dice_coef_edema: 0.3881 - val_dice_coef_enhancing: 0.4852\n",
      "\n",
      "Epoch 00015: ReduceLROnPlateau reducing learning rate to 1.9999999494757503e-05.\n",
      "\n",
      "Epoch 00015: val_loss did not improve from 0.42637\n",
      "Epoch 16/20\n",
      "1048/1048 [==============================] - 1343s 1s/step - loss: 0.1721 - accuracy: 0.9967 - mean_io_u: 0.3753 - dice_coef: 0.8279 - precision: 0.9972 - sensitivity: 0.9963 - specificity: 0.9991 - dice_coef_necrotic: 0.6527 - dice_coef_edema: 0.8320 - dice_coef_enhancing: 0.8277 - val_loss: 0.4054 - val_accuracy: 0.9893 - val_mean_io_u: 0.3788 - val_dice_coef: 0.5946 - val_precision: 0.9898 - val_sensitivity: 0.9890 - val_specificity: 0.9966 - val_dice_coef_necrotic: 0.3817 - val_dice_coef_edema: 0.4631 - val_dice_coef_enhancing: 0.5381\n",
      "\n",
      "Epoch 00016: val_loss improved from 0.42637 to 0.40540, saving model to model_.16-0.837084.h5\n",
      "Epoch 17/20\n",
      "1048/1048 [==============================] - 1343s 1s/step - loss: 0.1608 - accuracy: 0.9969 - mean_io_u: 0.3752 - dice_coef: 0.8392 - precision: 0.9974 - sensitivity: 0.9965 - specificity: 0.9991 - dice_coef_necrotic: 0.6620 - dice_coef_edema: 0.8466 - dice_coef_enhancing: 0.8491 - val_loss: 0.4314 - val_accuracy: 0.9896 - val_mean_io_u: 0.3794 - val_dice_coef: 0.5686 - val_precision: 0.9901 - val_sensitivity: 0.9893 - val_specificity: 0.9967 - val_dice_coef_necrotic: 0.3477 - val_dice_coef_edema: 0.4383 - val_dice_coef_enhancing: 0.4930\n",
      "\n",
      "Epoch 00017: val_loss did not improve from 0.40540\n",
      "Epoch 18/20\n",
      "1048/1048 [==============================] - 1349s 1s/step - loss: 0.1552 - accuracy: 0.9969 - mean_io_u: 0.3752 - dice_coef: 0.8448 - precision: 0.9974 - sensitivity: 0.9965 - specificity: 0.9991 - dice_coef_necrotic: 0.6764 - dice_coef_edema: 0.8514 - dice_coef_enhancing: 0.8519 - val_loss: 0.4344 - val_accuracy: 0.9904 - val_mean_io_u: 0.3793 - val_dice_coef: 0.5656 - val_precision: 0.9908 - val_sensitivity: 0.9901 - val_specificity: 0.9969 - val_dice_coef_necrotic: 0.3357 - val_dice_coef_edema: 0.4355 - val_dice_coef_enhancing: 0.4952\n",
      "\n",
      "Epoch 00018: val_loss did not improve from 0.40540\n",
      "Epoch 19/20\n",
      "1048/1048 [==============================] - 1349s 1s/step - loss: 0.1577 - accuracy: 0.9970 - mean_io_u: 0.3752 - dice_coef: 0.8423 - precision: 0.9975 - sensitivity: 0.9967 - specificity: 0.9992 - dice_coef_necrotic: 0.6721 - dice_coef_edema: 0.8527 - dice_coef_enhancing: 0.8449 - val_loss: 0.4493 - val_accuracy: 0.9901 - val_mean_io_u: 0.3788 - val_dice_coef: 0.5507 - val_precision: 0.9905 - val_sensitivity: 0.9898 - val_specificity: 0.9968 - val_dice_coef_necrotic: 0.3249 - val_dice_coef_edema: 0.4042 - val_dice_coef_enhancing: 0.4782\n",
      "\n",
      "Epoch 00019: val_loss did not improve from 0.40540\n",
      "Epoch 20/20\n",
      "1048/1048 [==============================] - 1349s 1s/step - loss: 0.1542 - accuracy: 0.9972 - mean_io_u: 0.3752 - dice_coef: 0.8458 - precision: 0.9976 - sensitivity: 0.9969 - specificity: 0.9992 - dice_coef_necrotic: 0.6783 - dice_coef_edema: 0.8489 - dice_coef_enhancing: 0.8568 - val_loss: 0.4167 - val_accuracy: 0.9893 - val_mean_io_u: 0.3767 - val_dice_coef: 0.5833 - val_precision: 0.9898 - val_sensitivity: 0.9890 - val_specificity: 0.9966 - val_dice_coef_necrotic: 0.3548 - val_dice_coef_edema: 0.4525 - val_dice_coef_enhancing: 0.5305\n",
      "\n",
      "Epoch 00020: val_loss did not improve from 0.40540\n"
     ]
    }
   ],
   "source": [
    "history =  model2.fit(training_generator,\n",
    "                     epochs=20,\n",
    "                     steps_per_epoch=len(train_ids),\n",
    "                     callbacks= callbacks,\n",
    "                     validation_data = valid_generator\n",
    "                     )\n",
    "model2.save(\"model_UNet_32_dice_loss.h5\")"
   ]
  },
  {
   "cell_type": "code",
   "execution_count": 26,
   "id": "H4LiUzOr5Z_A",
   "metadata": {
    "id": "H4LiUzOr5Z_A"
   },
   "outputs": [
    {
     "data": {
      "image/png": "[encoded data removed]",
      "text/plain": [
       "<Figure size 1600x800 with 3 Axes>"
      ]
     },
     "metadata": {},
     "output_type": "display_data"
    }
   ],
   "source": [
    "############ load trained model ################\n",
    "model = keras.models.load_model('model_UNet_32_dice_loss.h5',\n",
    "                                   custom_objects={ 'accuracy': tf.keras.metrics.MeanIoU(num_classes=4),\n",
    "                                                   \"dice_coef\": dice_coef,\n",
    "                                                   \"precision\": precision,\n",
    "                                                   \"sensitivity\":sensitivity,\n",
    "                                                   \"specificity\":specificity,\n",
    "                                                   \"dice_coef_necrotic\": dice_coef_necrotic,\n",
    "                                                   \"dice_coef_edema\": dice_coef_edema,\n",
    "                                                   \"dice_coef_enhancing\": dice_coef_enhancing\n",
    "                                                  }, compile=False)\n",
    "\n",
    "history = pd.read_csv('training_model_UNet_32_dice_loss.log', sep=',', engine='python')\n",
    "\n",
    "hist=history\n",
    "\n",
    "############### ########## ####### #######\n",
    "\n",
    "# hist=history.history\n",
    "\n",
    "acc=hist['accuracy']\n",
    "val_acc=hist['val_accuracy']\n",
    "\n",
    "epoch=range(len(acc))\n",
    "\n",
    "loss=hist['loss']\n",
    "val_loss=hist['val_loss']\n",
    "\n",
    "train_dice=hist['dice_coef']\n",
    "val_dice=hist['val_dice_coef']\n",
    "\n",
    "f,ax=plt.subplots(1,3,figsize=(16,8))\n",
    "\n",
    "ax[0].plot(epoch,acc,'b',label='Training Accuracy')\n",
    "ax[0].plot(epoch,val_acc,'r',label='Validation Accuracy')\n",
    "ax[0].legend()\n",
    "\n",
    "ax[1].plot(epoch,loss,'b',label='Training Loss')\n",
    "ax[1].plot(epoch,val_loss,'r',label='Validation Loss')\n",
    "ax[1].legend()\n",
    "\n",
    "ax[2].plot(epoch,train_dice,'b',label='Training dice coef')\n",
    "ax[2].plot(epoch,val_dice,'r',label='Validation dice coef')\n",
    "ax[2].legend()\n",
    "\n",
    "#ax[3].plot(epoch,hist['mean_io_u'],'b',label='Training mean IOU')\n",
    "#ax[3].plot(epoch,hist['val_mean_io_u'],'r',label='Validation mean IOU')\n",
    "#ax[3].legend()\n",
    "\n",
    "plt.show()"
   ]
  },
  {
   "cell_type": "code",
   "execution_count": null,
   "id": "hWKlwJ0F3pzu",
   "metadata": {
    "colab": {
     "base_uri": "https://localhost:8080/",
     "height": 173
    },
    "id": "hWKlwJ0F3pzu",
    "outputId": "081aaa94-b3f8-4e43-f101-a34925ef6a8e"
   },
   "outputs": [],
   "source": []
  },
  {
   "cell_type": "code",
   "execution_count": null,
   "id": "PxPKTo0Cyucp",
   "metadata": {
    "colab": {
     "base_uri": "https://localhost:8080/"
    },
    "id": "PxPKTo0Cyucp",
    "outputId": "234bb33d-9139-4170-dfa4-aeffbf20e7cd"
   },
   "outputs": [],
   "source": []
  },
  {
   "cell_type": "code",
   "execution_count": null,
   "id": "PkRlE8Bf1ugk",
   "metadata": {
    "colab": {
     "base_uri": "https://localhost:8080/"
    },
    "id": "PkRlE8Bf1ugk",
    "outputId": "88ecabd7-eca7-4be4-fe03-9696874215f8"
   },
   "outputs": [],
   "source": []
  },
  {
   "cell_type": "code",
   "execution_count": null,
   "id": "8I6KtFf4Ai5s",
   "metadata": {
    "id": "8I6KtFf4Ai5s"
   },
   "outputs": [],
   "source": []
  },
  {
   "cell_type": "code",
   "execution_count": null,
   "id": "oDeLAOhEnXub",
   "metadata": {
    "id": "oDeLAOhEnXub"
   },
   "outputs": [],
   "source": []
  }
 ],
 "metadata": {
  "accelerator": "GPU",
  "colab": {
   "gpuType": "T4",
   "provenance": []
  },
  "gpuClass": "standard",
  "kernelspec": {
   "display_name": "Python 3 (ipykernel)",
   "language": "python",
   "name": "python3"
  },
  "language_info": {
   "codemirror_mode": {
    "name": "ipython",
    "version": 3
   },
   "file_extension": ".py",
   "mimetype": "text/x-python",
   "name": "python",
   "nbconvert_exporter": "python",
   "pygments_lexer": "ipython3",
   "version": "3.10.8"
  },
  "papermill": {
   "default_parameters": {},
   "duration": 21176.593753,
   "end_time": "2022-01-24T20:31:45.228339",
   "environment_variables": {},
   "exception": null,
   "input_path": "__notebook__.ipynb",
   "output_path": "__notebook__.ipynb",
   "parameters": {},
   "start_time": "2022-01-24T14:38:48.634586",
   "version": "2.3.3"
  },
  "widgets": {
   "application/vnd.jupyter.widget-state+json": {
    "28e5829855214a11bc28470c45782dbe": {
     "model_module": "@jupyter-widgets/base",
     "model_module_version": "1.2.0",
     "model_name": "LayoutModel",
     "state": {
      "_model_module": "@jupyter-widgets/base",
      "_model_module_version": "1.2.0",
      "_model_name": "LayoutModel",
      "_view_count": null,
      "_view_module": "@jupyter-widgets/base",
      "_view_module_version": "1.2.0",
      "_view_name": "LayoutView",
      "align_content": null,
      "align_items": null,
      "align_self": null,
      "border": null,
      "bottom": null,
      "display": null,
      "flex": null,
      "flex_flow": null,
      "grid_area": null,
      "grid_auto_columns": null,
      "grid_auto_flow": null,
      "grid_auto_rows": null,
      "grid_column": null,
      "grid_gap": null,
      "grid_row": null,
      "grid_template_areas": null,
      "grid_template_columns": null,
      "grid_template_rows": null,
      "height": null,
      "justify_content": null,
      "justify_items": null,
      "left": null,
      "margin": null,
      "max_height": null,
      "max_width": null,
      "min_height": null,
      "min_width": null,
      "object_fit": null,
      "object_position": null,
      "order": null,
      "overflow": null,
      "overflow_x": null,
      "overflow_y": null,
      "padding": null,
      "right": null,
      "top": null,
      "visibility": null,
      "width": null
     }
    },
    "758e495811df4da09c7c7981080c66a9": {
     "model_module": "@jupyter-widgets/base",
     "model_module_version": "1.2.0",
     "model_name": "LayoutModel",
     "state": {
      "_model_module": "@jupyter-widgets/base",
      "_model_module_version": "1.2.0",
      "_model_name": "LayoutModel",
      "_view_count": null,
      "_view_module": "@jupyter-widgets/base",
      "_view_module_version": "1.2.0",
      "_view_name": "LayoutView",
      "align_content": null,
      "align_items": null,
      "align_self": null,
      "border": null,
      "bottom": null,
      "display": null,
      "flex": null,
      "flex_flow": null,
      "grid_area": null,
      "grid_auto_columns": null,
      "grid_auto_flow": null,
      "grid_auto_rows": null,
      "grid_column": null,
      "grid_gap": null,
      "grid_row": null,
      "grid_template_areas": null,
      "grid_template_columns": null,
      "grid_template_rows": null,
      "height": null,
      "justify_content": null,
      "justify_items": null,
      "left": null,
      "margin": null,
      "max_height": null,
      "max_width": null,
      "min_height": null,
      "min_width": null,
      "object_fit": null,
      "object_position": null,
      "order": null,
      "overflow": null,
      "overflow_x": null,
      "overflow_y": null,
      "padding": null,
      "right": null,
      "top": null,
      "visibility": null,
      "width": null
     }
    },
    "9a50b38dd2284e45b99533d91d75847b": {
     "model_module": "@jupyter-widgets/base",
     "model_module_version": "1.2.0",
     "model_name": "LayoutModel",
     "state": {
      "_model_module": "@jupyter-widgets/base",
      "_model_module_version": "1.2.0",
      "_model_name": "LayoutModel",
      "_view_count": null,
      "_view_module": "@jupyter-widgets/base",
      "_view_module_version": "1.2.0",
      "_view_name": "LayoutView",
      "align_content": null,
      "align_items": null,
      "align_self": null,
      "border": null,
      "bottom": null,
      "display": null,
      "flex": null,
      "flex_flow": null,
      "grid_area": null,
      "grid_auto_columns": null,
      "grid_auto_flow": null,
      "grid_auto_rows": null,
      "grid_column": null,
      "grid_gap": null,
      "grid_row": null,
      "grid_template_areas": null,
      "grid_template_columns": null,
      "grid_template_rows": null,
      "height": null,
      "justify_content": null,
      "justify_items": null,
      "left": null,
      "margin": null,
      "max_height": null,
      "max_width": null,
      "min_height": null,
      "min_width": null,
      "object_fit": null,
      "object_position": null,
      "order": null,
      "overflow": null,
      "overflow_x": null,
      "overflow_y": null,
      "padding": null,
      "right": null,
      "top": null,
      "visibility": null,
      "width": null
     }
    },
    "a083b7579d9246588749c07f1720f878": {
     "model_module": "@jupyter-widgets/controls",
     "model_module_version": "1.5.0",
     "model_name": "IntSliderModel",
     "state": {
      "_dom_classes": [],
      "_model_module": "@jupyter-widgets/controls",
      "_model_module_version": "1.5.0",
      "_model_name": "IntSliderModel",
      "_view_count": null,
      "_view_module": "@jupyter-widgets/controls",
      "_view_module_version": "1.5.0",
      "_view_name": "IntSliderView",
      "continuous_update": true,
      "description": "layer",
      "description_tooltip": null,
      "disabled": false,
      "layout": "IPY_MODEL_d9b89e8496274d12be892532c6897202",
      "max": 154,
      "min": 0,
      "orientation": "horizontal",
      "readout": true,
      "readout_format": "d",
      "step": 1,
      "style": "IPY_MODEL_a9662bde00b444fc9d394d351f5ef968",
      "value": 77
     }
    },
    "a9662bde00b444fc9d394d351f5ef968": {
     "model_module": "@jupyter-widgets/controls",
     "model_module_version": "1.5.0",
     "model_name": "SliderStyleModel",
     "state": {
      "_model_module": "@jupyter-widgets/controls",
      "_model_module_version": "1.5.0",
      "_model_name": "SliderStyleModel",
      "_view_count": null,
      "_view_module": "@jupyter-widgets/base",
      "_view_module_version": "1.2.0",
      "_view_name": "StyleView",
      "description_width": "",
      "handle_color": null
     }
    },
    "aaccaea3676a401da07cab9fd6f63644": {
     "model_module": "@jupyter-widgets/base",
     "model_module_version": "1.2.0",
     "model_name": "LayoutModel",
     "state": {
      "_model_module": "@jupyter-widgets/base",
      "_model_module_version": "1.2.0",
      "_model_name": "LayoutModel",
      "_view_count": null,
      "_view_module": "@jupyter-widgets/base",
      "_view_module_version": "1.2.0",
      "_view_name": "LayoutView",
      "align_content": null,
      "align_items": null,
      "align_self": null,
      "border": null,
      "bottom": null,
      "display": null,
      "flex": null,
      "flex_flow": null,
      "grid_area": null,
      "grid_auto_columns": null,
      "grid_auto_flow": null,
      "grid_auto_rows": null,
      "grid_column": null,
      "grid_gap": null,
      "grid_row": null,
      "grid_template_areas": null,
      "grid_template_columns": null,
      "grid_template_rows": null,
      "height": null,
      "justify_content": null,
      "justify_items": null,
      "left": null,
      "margin": null,
      "max_height": null,
      "max_width": null,
      "min_height": null,
      "min_width": null,
      "object_fit": null,
      "object_position": null,
      "order": null,
      "overflow": null,
      "overflow_x": null,
      "overflow_y": null,
      "padding": null,
      "right": null,
      "top": null,
      "visibility": null,
      "width": null
     }
    },
    "adfe3f43760344ccabb4976c735f308c": {
     "model_module": "@jupyter-widgets/controls",
     "model_module_version": "1.5.0",
     "model_name": "VBoxModel",
     "state": {
      "_dom_classes": [
       "widget-interact"
      ],
      "_model_module": "@jupyter-widgets/controls",
      "_model_module_version": "1.5.0",
      "_model_name": "VBoxModel",
      "_view_count": null,
      "_view_module": "@jupyter-widgets/controls",
      "_view_module_version": "1.5.0",
      "_view_name": "VBoxView",
      "box_style": "",
      "children": [
       "IPY_MODEL_a083b7579d9246588749c07f1720f878",
       "IPY_MODEL_ef87b4a73797415db36f2d721258778c"
      ],
      "layout": "IPY_MODEL_758e495811df4da09c7c7981080c66a9"
     }
    },
    "b7d980036cd9457484fd56609bc828d3": {
     "model_module": "@jupyter-widgets/controls",
     "model_module_version": "1.5.0",
     "model_name": "VBoxModel",
     "state": {
      "_dom_classes": [
       "widget-interact"
      ],
      "_model_module": "@jupyter-widgets/controls",
      "_model_module_version": "1.5.0",
      "_model_name": "VBoxModel",
      "_view_count": null,
      "_view_module": "@jupyter-widgets/controls",
      "_view_module_version": "1.5.0",
      "_view_name": "VBoxView",
      "box_style": "",
      "children": [
       "IPY_MODEL_e47e41b0c6634172b1debc781e0f19f5",
       "IPY_MODEL_fe5a452d50e1481687b647f31167ed1c"
      ],
      "layout": "IPY_MODEL_9a50b38dd2284e45b99533d91d75847b"
     }
    },
    "c947a77ad91e4c3990c1dbf9e9de7921": {
     "model_module": "@jupyter-widgets/controls",
     "model_module_version": "1.5.0",
     "model_name": "SliderStyleModel",
     "state": {
      "_model_module": "@jupyter-widgets/controls",
      "_model_module_version": "1.5.0",
      "_model_name": "SliderStyleModel",
      "_view_count": null,
      "_view_module": "@jupyter-widgets/base",
      "_view_module_version": "1.2.0",
      "_view_name": "StyleView",
      "description_width": "",
      "handle_color": null
     }
    },
    "d9b89e8496274d12be892532c6897202": {
     "model_module": "@jupyter-widgets/base",
     "model_module_version": "1.2.0",
     "model_name": "LayoutModel",
     "state": {
      "_model_module": "@jupyter-widgets/base",
      "_model_module_version": "1.2.0",
      "_model_name": "LayoutModel",
      "_view_count": null,
      "_view_module": "@jupyter-widgets/base",
      "_view_module_version": "1.2.0",
      "_view_name": "LayoutView",
      "align_content": null,
      "align_items": null,
      "align_self": null,
      "border": null,
      "bottom": null,
      "display": null,
      "flex": null,
      "flex_flow": null,
      "grid_area": null,
      "grid_auto_columns": null,
      "grid_auto_flow": null,
      "grid_auto_rows": null,
      "grid_column": null,
      "grid_gap": null,
      "grid_row": null,
      "grid_template_areas": null,
      "grid_template_columns": null,
      "grid_template_rows": null,
      "height": null,
      "justify_content": null,
      "justify_items": null,
      "left": null,
      "margin": null,
      "max_height": null,
      "max_width": null,
      "min_height": null,
      "min_width": null,
      "object_fit": null,
      "object_position": null,
      "order": null,
      "overflow": null,
      "overflow_x": null,
      "overflow_y": null,
      "padding": null,
      "right": null,
      "top": null,
      "visibility": null,
      "width": null
     }
    },
    "de72a4da8d0c4174b8432276b0eb5e0f": {
     "model_module": "@jupyter-widgets/base",
     "model_module_version": "1.2.0",
     "model_name": "LayoutModel",
     "state": {
      "_model_module": "@jupyter-widgets/base",
      "_model_module_version": "1.2.0",
      "_model_name": "LayoutModel",
      "_view_count": null,
      "_view_module": "@jupyter-widgets/base",
      "_view_module_version": "1.2.0",
      "_view_name": "LayoutView",
      "align_content": null,
      "align_items": null,
      "align_self": null,
      "border": null,
      "bottom": null,
      "display": null,
      "flex": null,
      "flex_flow": null,
      "grid_area": null,
      "grid_auto_columns": null,
      "grid_auto_flow": null,
      "grid_auto_rows": null,
      "grid_column": null,
      "grid_gap": null,
      "grid_row": null,
      "grid_template_areas": null,
      "grid_template_columns": null,
      "grid_template_rows": null,
      "height": null,
      "justify_content": null,
      "justify_items": null,
      "left": null,
      "margin": null,
      "max_height": null,
      "max_width": null,
      "min_height": null,
      "min_width": null,
      "object_fit": null,
      "object_position": null,
      "order": null,
      "overflow": null,
      "overflow_x": null,
      "overflow_y": null,
      "padding": null,
      "right": null,
      "top": null,
      "visibility": null,
      "width": null
     }
    },
    "e47e41b0c6634172b1debc781e0f19f5": {
     "model_module": "@jupyter-widgets/controls",
     "model_module_version": "1.5.0",
     "model_name": "IntSliderModel",
     "state": {
      "_dom_classes": [],
      "_model_module": "@jupyter-widgets/controls",
      "_model_module_version": "1.5.0",
      "_model_name": "IntSliderModel",
      "_view_count": null,
      "_view_module": "@jupyter-widgets/controls",
      "_view_module_version": "1.5.0",
      "_view_name": "IntSliderView",
      "continuous_update": true,
      "description": "layer",
      "description_tooltip": null,
      "disabled": false,
      "layout": "IPY_MODEL_aaccaea3676a401da07cab9fd6f63644",
      "max": 154,
      "min": 0,
      "orientation": "horizontal",
      "readout": true,
      "readout_format": "d",
      "step": 1,
      "style": "IPY_MODEL_c947a77ad91e4c3990c1dbf9e9de7921",
      "value": 77
     }
    },
    "ef87b4a73797415db36f2d721258778c": {
     "model_module": "@jupyter-widgets/output",
     "model_module_version": "1.0.0",
     "model_name": "OutputModel",
     "state": {
      "_dom_classes": [],
      "_model_module": "@jupyter-widgets/output",
      "_model_module_version": "1.0.0",
      "_model_name": "OutputModel",
      "_view_count": null,
      "_view_module": "@jupyter-widgets/output",
      "_view_module_version": "1.0.0",
      "_view_name": "OutputView",
      "layout": "IPY_MODEL_28e5829855214a11bc28470c45782dbe",
      "msg_id": "",
      "outputs": []
     }
    },
    "fe5a452d50e1481687b647f31167ed1c": {
     "model_module": "@jupyter-widgets/output",
     "model_module_version": "1.0.0",
     "model_name": "OutputModel",
     "state": {
      "_dom_classes": [],
      "_model_module": "@jupyter-widgets/output",
      "_model_module_version": "1.0.0",
      "_model_name": "OutputModel",
      "_view_count": null,
      "_view_module": "@jupyter-widgets/output",
      "_view_module_version": "1.0.0",
      "_view_name": "OutputView",
      "layout": "IPY_MODEL_de72a4da8d0c4174b8432276b0eb5e0f",
      "msg_id": "",
      "outputs": [
       {
        "data": {
         "text/plain": "77"
        },
        "metadata": {},
        "output_type": "display_data"
       }
      ]
     }
    }
   }
  }
 },
 "nbformat": 4,
 "nbformat_minor": 5
}
