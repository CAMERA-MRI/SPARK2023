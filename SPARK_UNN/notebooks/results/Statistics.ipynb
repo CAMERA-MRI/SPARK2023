{
  "nbformat": 4,
  "nbformat_minor": 0,
  "metadata": {
    "colab": {
      "provenance": [],
      "toc_visible": true,
      "authorship_tag": "ABX9TyM1CxsL5ODeIIHInBeU6yL+",
      "include_colab_link": true
    },
    "kernelspec": {
      "name": "python3",
      "display_name": "Python 3"
    },
    "language_info": {
      "name": "python"
    }
  },
  "cells": [
    {
      "cell_type": "markdown",
      "metadata": {
        "id": "view-in-github",
        "colab_type": "text"
      },
      "source": [
        "<a href=\"https://colab.research.google.com/github/AlyssaAmod/UNN_BraTS23/blob/main/Statistics.ipynb\" target=\"_parent\"><img src=\"https://colab.research.google.com/assets/colab-badge.svg\" alt=\"Open In Colab\"/></a>"
      ]
    },
    {
      "cell_type": "code",
      "execution_count": 8,
      "metadata": {
        "colab": {
          "base_uri": "https://localhost:8080/"
        },
        "id": "WZpKXAUMdMXC",
        "outputId": "98a22365-e74c-4683-a883-6c9046197d50"
      },
      "outputs": [
        {
          "output_type": "stream",
          "name": "stdout",
          "text": [
            "F-statistic: 0.055984993046347804\n",
            "p-value: 0.9462809792386846\n",
            "the Dice score is NOT signifcantly different between groups and the p-value is  0.95\n"
          ]
        }
      ],
      "source": [
        "# calculating the statistical significance of Dice score between three training instances (used fold 0 from Excel Spreadsheet)\n",
        "\n",
        "\n",
        "\n",
        "import numpy as np\n",
        "from scipy.stats import f\n",
        "\n",
        "Fine_tuned = [0.9138, 0.9127, 0.9173]\n",
        "V1_SSA = [0.873, 0.8705, 0.8543]\n",
        "\n",
        "var_group1 = np.var(Fine_tuned, ddof=1)\n",
        "var_group2 = np.var(V1_SSA, ddof=1)\n",
        "\n",
        "f_statistic = var_group1 / var_group2\n",
        "\n",
        "dfn = len(Fine_tuned) - 1\n",
        "dfd = len(Fine_tuned) + len(V1_SSA) - 2\n",
        "\n",
        "p_value = 1 - f.cdf(f_statistic, dfn, dfd)\n",
        "\n",
        "print(\"F-statistic:\", f_statistic)\n",
        "print(\"p-value:\", p_value)\n",
        "\n",
        "alpha = 0.05\n",
        "if p_value < alpha:\n",
        "  print(f\"the Dice score is signifcantly different between groups and the p-value is {p_value:.2f}\")\n",
        "else:\n",
        "  print(f\"the Dice score is NOT signifcantly different between groups and the p-value is  {p_value:.2f}\")\n",
        "\n",
        "\n",
        "\n",
        "\n"
      ]
    }
  ]
}
