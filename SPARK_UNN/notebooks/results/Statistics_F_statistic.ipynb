{
  "nbformat": 4,
  "nbformat_minor": 0,
  "metadata": {
    "colab": {
      "provenance": []
    },
    "kernelspec": {
      "name": "python3",
      "display_name": "Python 3"
    },
    "language_info": {
      "name": "python"
    }
  },
  "cells": [
    {
      "cell_type": "code",
      "execution_count": null,
      "metadata": {
        "colab": {
          "base_uri": "https://localhost:8080/"
        },
        "id": "WZpKXAUMdMXC",
        "outputId": "9a523613-6435-453e-abba-81a6bb04f5e9"
      },
      "outputs": [
        {
          "output_type": "stream",
          "name": "stdout",
          "text": [
            "F-statistic: 1.4858311508695377\n",
            "p-value: 0.2931305340074768\n",
            "the Dice score is NOT signifcantly different between groups and the p-value is  0.29\n"
          ]
        }
      ],
      "source": [
        "# calculating the statistical significance of Dice score between three training instances (used fold 0 from Excel Spreadsheet)\n",
        "\n",
        "\n",
        "\n",
        "import numpy as np\n",
        "from scipy.stats import f\n",
        "\n",
        "U_net = [0.9087, 0.9100, 0.9162, 0.9238, 0.9061]\n",
        "UNETR = [0.9044, 0.8976, 0.9051, 0.9111, 0.8971]\n",
        "Seg = [0.9086, 0.9090, 0.9140, 0.9219, 0.9053]\n",
        "\n",
        "Fine_tuned = [0.9087, 0.9100, 0.9162, 0.9238, 0.9061]\n",
        "V1_SSA = [0.9044, 0.8976, 0.9051, 0.9111, 0.8971]\n",
        "\n",
        "var_group1 = np.var(Fine_tuned, ddof=1)\n",
        "var_group2 = np.var(V1_SSA, ddof=1)\n",
        "\n",
        "f_statistic = var_group1 / var_group2\n",
        "\n",
        "dfn = len(Fine_tuned) - 1\n",
        "dfd = len(Fine_tuned) + len(V1_SSA) - 2\n",
        "\n",
        "p_value = 1 - f.cdf(f_statistic, dfn, dfd)\n",
        "\n",
        "print(\"F-statistic:\", f_statistic)\n",
        "print(\"p-value:\", p_value)\n",
        "\n",
        "alpha = 0.05\n",
        "if p_value < alpha:\n",
        "  print(f\"the Dice score is signifcantly different between groups and the p-value is {p_value:.2f}\")\n",
        "else:\n",
        "  print(f\"the Dice score is NOT signifcantly different between groups and the p-value is  {p_value:.2f}\")\n",
        "\n",
        "\n",
        "\n",
        "\n"
      ]
    },
    {
      "cell_type": "code",
      "source": [
        "# ANOVA test on the means from the 5 different models ############################# between models\n",
        "\n",
        "import scipy.stats as stats\n",
        "\n",
        "# values from table:\n",
        "# train_ssa (group 1) = ET: 0.5102, TC:0.4740,\tWT: 0.4949\n",
        "#train_ssa_Ave5Folds (group 2)= ET: 0.6968, TC:\t0.6537, WT:\t0.6408\n",
        "# train_all (group 3) = ET: 0.8198,\tTC: 0.7814,\tWT: 0.6710\n",
        "# gli_ftssa (group 4)= ET: 0.7273, TC:0.7864, WT:\t0.8475\n",
        "# train_gli (group 5) = ET: 0.8327, TC:0.8218,\tWT: 0.7468\n",
        "\n",
        "###################################\n",
        "\n",
        "labels = []\n",
        "\n",
        "group1 = [0.5102,\t0.4740,\t0.4949]\n",
        "group2 = [0.6968,\t0.6537,\t0.6408]\n",
        "group3 = [0.8198,\t0.7814,\t0.6710]\n",
        "group4 = [0.7273,\t0.7864,\t0.8475]\n",
        "group5 = [0.8327,\t0.8218,\t0.7468]\n",
        "\n",
        "#Futrega et al 2021 - determine significance\n",
        "U_net = [0.9087, 0.9100, 0.9162, 0.9238, 0.9061]\n",
        "UNETR = [0.9044, 0.8976, 0.9051, 0.9111, 0.8971]\n",
        "Seg = [0.9086, 0.9090, 0.9140, 0.9219, 0.9053]\n",
        "\n",
        "\n",
        "labels = [group1 , group2, group3, group4, group5]\n",
        "print(labels)\n",
        "\n",
        "#def determine_stat(x, y):\n",
        " # Perform the ANOVA test\n",
        " #if (x <= 4) and (y < 4):\n",
        "\n",
        " # value1 = labels[x]\n",
        " # value2 = labels[y]\n",
        " # print(value1)\n",
        " # f_statistic, p_value = stats.f_oneway(x, y)\n",
        " # print(\"F-statistic:\", f_statistic)\n",
        " # print(\"p-value:\", p_value)\n",
        "# else:\n",
        " # print(\"value cannot be greater than 4\")\n",
        "\n",
        "\n",
        "#determine_stat(0,1)\n",
        "\n",
        "f_statistic, p_value = stats.f_oneway(Seg,UNETR)\n",
        "print(\"F-statistic:\", f_statistic)\n",
        "print(\"p-value:\", p_value)\n",
        "\n",
        "\n"
      ],
      "metadata": {
        "colab": {
          "base_uri": "https://localhost:8080/"
        },
        "id": "Ty8beNJWT5O2",
        "outputId": "03efc18c-cc9d-4307-c9de-733004db5dd0"
      },
      "execution_count": null,
      "outputs": [
        {
          "output_type": "stream",
          "name": "stdout",
          "text": [
            "[[0.5102, 0.474, 0.4949], [0.6968, 0.6537, 0.6408], [0.8198, 0.7814, 0.671], [0.7273, 0.7864, 0.8475], [0.8327, 0.8218, 0.7468]]\n",
            "F-statistic: 4.9943253800675524\n",
            "p-value: 0.055877072778407505\n"
          ]
        }
      ]
    },
    {
      "cell_type": "code",
      "source": [
        "# WITHIN\n",
        "\n",
        "import pandas as pd\n",
        "import statsmodels.api as sm\n",
        "from statsmodels.formula.api import ols\n",
        "\n",
        "# A = TRAIN-SSA\n",
        "# B = TRAIN-SSA-AVE5FOLDS\n",
        "# C = TRAIN-ALL\n",
        "# D = TRAIN-GLI-FTSSA\n",
        "# E = TRAIN-GLI\n",
        "\n",
        "\n",
        "\n",
        "\n",
        "\n",
        "# Create a DataFrame with your data\n",
        "data = pd.DataFrame({\n",
        "    'group': ['A', 'A', 'A', 'B', 'B', 'B', 'C', 'C', 'C', 'D', 'D', 'D', 'E', 'E', 'E'],\n",
        "    'value': [0.5102, 0.4740, 0.4949, 0.6968, 0.6537, 0.6408, 0.8198, 0.7814, 0.6710, 0.7273, 0.7864, 0.8475, 0.8327, 0.8218, 0.7468]\n",
        "})\n",
        "\n",
        "# Fit the ANOVA model\n",
        "model = ols('value ~ group', data=data).fit()\n",
        "anova_table = sm.stats.anova_lm(model)\n",
        "\n",
        "# Print the ANOVA table\n",
        "print(anova_table)\n",
        "\n",
        "\n",
        "# The F-statistic is a ratio that compares the variation BETWEEN sample means to the variation WITHIN the samples\n"
      ],
      "metadata": {
        "id": "jcy2tRDOayuW",
        "colab": {
          "base_uri": "https://localhost:8080/"
        },
        "outputId": "f9141ba1-a736-4106-c1ab-6d5cfdd51a53"
      },
      "execution_count": null,
      "outputs": [
        {
          "output_type": "stream",
          "name": "stdout",
          "text": [
            "            df    sum_sq   mean_sq          F    PR(>F)\n",
            "group      4.0  0.195329  0.048832  18.843925  0.000119\n",
            "Residual  10.0  0.025914  0.002591        NaN       NaN\n"
          ]
        }
      ]
    },
    {
      "cell_type": "code",
      "source": [
        "import pandas as pd\n",
        "import scipy.stats as stats\n",
        "import statsmodels.api as sm\n",
        "from statsmodels.formula.api import ols\n",
        "import matplotlib.pyplot as plt\n",
        "import seaborn as sns\n",
        "\n"
      ],
      "metadata": {
        "id": "CmmYb72TBbJC"
      },
      "execution_count": 1,
      "outputs": []
    },
    {
      "cell_type": "code",
      "source": [
        "df = pd.read_excel(\"/content/stats.xlsx\")\n",
        "\n",
        "print(df)\n",
        "\n",
        "group1 = df.iloc[:, 0]\n",
        "group2 = df.iloc[:, 1]\n",
        "group3 = df.iloc[:, 2]\n",
        "group4 = df.iloc[:, 3]\n",
        "group5 = df.iloc[:, 4]\n",
        "\n",
        "print(group1)\n",
        "\n",
        "\n"
      ],
      "metadata": {
        "colab": {
          "base_uri": "https://localhost:8080/"
        },
        "id": "hUXEzsU4Bg5a",
        "outputId": "ec4451c5-de27-45f3-fb63-e0d7aa15fbc8"
      },
      "execution_count": null,
      "outputs": [
        {
          "output_type": "stream",
          "name": "stdout",
          "text": [
            "   train_ssa_FoldSplit  train_ssa_Ave5Folds  train_all  train_gli_ftSSA  \\\n",
            "0               0.5102               0.6968     0.8198           0.7273   \n",
            "1               0.4740               0.6537     0.7814           0.7864   \n",
            "2               0.4949               0.6408     0.6710           0.8475   \n",
            "\n",
            "   train_gli  \n",
            "0     0.8327  \n",
            "1     0.8218  \n",
            "2     0.7468  \n",
            "0    0.5102\n",
            "1    0.4740\n",
            "2    0.4949\n",
            "Name: train_ssa_FoldSplit, dtype: float64\n"
          ]
        }
      ]
    },
    {
      "cell_type": "code",
      "source": [
        "fvalue, pvalue = stats.f_oneway(group4, group5)\n",
        "print(fvalue, pvalue)\n"
      ],
      "metadata": {
        "colab": {
          "base_uri": "https://localhost:8080/"
        },
        "id": "zEQQixCICoO2",
        "outputId": "8eecc917-9c30-4e11-b92f-923a1cf57158"
      },
      "execution_count": null,
      "outputs": [
        {
          "output_type": "stream",
          "name": "stdout",
          "text": [
            "0.09242318520042724 0.7762774692968424\n"
          ]
        }
      ]
    },
    {
      "cell_type": "code",
      "source": [
        "# papers\n",
        "\n",
        "df_next = pd.read_excel(\"/content/optimized.xlsx\")\n",
        "\n",
        "group_1 = df_next.iloc[:, 0]\n",
        "group_2 = df_next.iloc[:, 1]\n",
        "group_3 = df_next.iloc[:, 2]"
      ],
      "metadata": {
        "id": "GFVzG8U5I3Dr"
      },
      "execution_count": null,
      "outputs": []
    },
    {
      "cell_type": "code",
      "source": [
        "fvalue, pvalue = stats.f_oneway(group_2, group_3)\n",
        "print(fvalue, pvalue)"
      ],
      "metadata": {
        "colab": {
          "base_uri": "https://localhost:8080/"
        },
        "id": "duggLXn8Ll-7",
        "outputId": "7dd61125-6ecf-46da-e685-e0918a3275dd"
      },
      "execution_count": null,
      "outputs": [
        {
          "output_type": "stream",
          "name": "stdout",
          "text": [
            "4.994325380067554 0.05587707277840745\n"
          ]
        }
      ]
    },
    {
      "cell_type": "code",
      "source": [
        "# take the mean\n",
        "\n",
        "df_mean = pd.read_excel(\"/content/compare.xlsx\")\n",
        "\n",
        "g_1 = df_mean.iloc[:, 0]\n",
        "g_2 = df_mean.iloc[:, 1]\n",
        "\n",
        "\n",
        "fvalue, pvalue = stats.f_oneway(g_1, g_2)\n",
        "print(fvalue, pvalue)"
      ],
      "metadata": {
        "colab": {
          "base_uri": "https://localhost:8080/"
        },
        "id": "viVbU2hGRGpp",
        "outputId": "f591aba0-da43-4f26-a6bc-b198aa84e3b5"
      },
      "execution_count": null,
      "outputs": [
        {
          "output_type": "stream",
          "name": "stdout",
          "text": [
            "0.27296463327794757 0.6155052244028312\n"
          ]
        }
      ]
    },
    {
      "cell_type": "code",
      "source": [
        "df_mean = pd.read_excel(\"/content/ensemble.xlsx\")\n",
        "\n",
        "grp1 = df_mean.iloc[:, 0]\n",
        "grp2 = df_mean.iloc[:, 1]\n",
        "\n",
        "\n",
        "fvalue, pvalue = stats.f_oneway(grp1, grp2)\n",
        "print(fvalue, pvalue)"
      ],
      "metadata": {
        "colab": {
          "base_uri": "https://localhost:8080/"
        },
        "id": "JoiDl-nQhqH3",
        "outputId": "20a4057d-bad0-4a1b-846a-417e02e2754b"
      },
      "execution_count": null,
      "outputs": [
        {
          "output_type": "stream",
          "name": "stdout",
          "text": [
            "0.01612468750605612 0.905081317721505\n"
          ]
        }
      ]
    },
    {
      "cell_type": "code",
      "source": [
        "# determine the standard deviation\n",
        "\n",
        "import statistics\n",
        "\n",
        "data = [77.02, 90.31, 92.35, 93.74, 89.04]\n",
        "data_fourFolds = [93.48, 88.64, 89.35, 89.62]\n",
        "sample_std = statistics.stdev(data_fourFolds)\n",
        "\n",
        "\n",
        "print('Sample standard deviation:', sample_std)\n"
      ],
      "metadata": {
        "colab": {
          "base_uri": "https://localhost:8080/"
        },
        "id": "b09mskkYmnO1",
        "outputId": "43598ef6-8311-413f-edf2-1711c23057b0"
      },
      "execution_count": null,
      "outputs": [
        {
          "output_type": "stream",
          "name": "stdout",
          "text": [
            "Sample standard deviation: 2.17790993079757\n"
          ]
        }
      ]
    },
    {
      "cell_type": "code",
      "source": [
        "# HD95 for the four models\n",
        "\n",
        "df_mean = pd.read_excel(\"/content/New_Dice.xlsx\")\n",
        "\n",
        "grp_HD1 = df_mean.iloc[:, 0]\n",
        "grp_HD2 = df_mean.iloc[:, 1]\n",
        "grp_HD3 = df_mean.iloc[:, 2]\n",
        "grp_HD4 = df_mean.iloc[:, 3]\n",
        "\n",
        "\n",
        "\n",
        "fvalue, pvalue = stats.f_oneway(grp_HD3, grp_HD4)\n",
        "print(fvalue, pvalue)"
      ],
      "metadata": {
        "colab": {
          "base_uri": "https://localhost:8080/"
        },
        "id": "g4XBZXvfPL91",
        "outputId": "a59dfff2-07df-47d3-b6c6-4f065d42a4d7"
      },
      "execution_count": 20,
      "outputs": [
        {
          "output_type": "stream",
          "name": "stdout",
          "text": [
            "0.040642208983688775 0.8417991142925331\n"
          ]
        }
      ]
    },
    {
      "cell_type": "code",
      "source": [
        "#Dice score\n",
        "\n",
        "df = pd.read_excel(\"/content/stats.xlsx\")\n",
        "\n",
        "group1 = df.iloc[:, 0]\n",
        "group2 = df.iloc[:, 1]\n",
        "group3 = df.iloc[:, 2]\n",
        "group4 = df.iloc[:, 3]\n",
        "group5 = df.iloc[:, 4]\n",
        "\n",
        "print(df)\n",
        "\n",
        "fvalue, pvalue = stats.f_oneway(group2, group5)\n",
        "print(fvalue, pvalue)"
      ],
      "metadata": {
        "colab": {
          "base_uri": "https://localhost:8080/"
        },
        "id": "pSLsiRY0XDqA",
        "outputId": "f219fb06-cfdc-48df-ee0a-a650c9d49f17"
      },
      "execution_count": 14,
      "outputs": [
        {
          "output_type": "stream",
          "name": "stdout",
          "text": [
            "   train_ssa_FoldSplit  train_ssa_Ave5Folds  train_all  train_gli_ftSSA  \\\n",
            "0               0.5102               0.6968     0.8198           0.7273   \n",
            "1               0.4740               0.6537     0.7814           0.7864   \n",
            "2               0.4949               0.6408     0.6710           0.8475   \n",
            "\n",
            "   train_gli  \n",
            "0     0.8327  \n",
            "1     0.8218  \n",
            "2     0.7468  \n",
            "18.389029155526785 0.012763915892712306\n"
          ]
        }
      ]
    },
    {
      "cell_type": "code",
      "source": [
        "# kolmogorov-smirnov test for Dice score\n",
        "\n",
        "# to determine if\n",
        "\n",
        "\n",
        "from scipy.stats import ks_2samp\n",
        "import numpy as np\n",
        "\n",
        "df_mean = pd.read_excel(\"/content/New_Dice.xlsx\")\n",
        "\n",
        "grp_DS1 = df_mean.iloc[:, 0]\n",
        "grp_DS2 = df_mean.iloc[:, 1]\n",
        "grp_DS3 = df_mean.iloc[:, 2]\n",
        "grp_DS4 = df_mean.iloc[:, 3]\n",
        "\n",
        "# Perform the Kolmogorov-Smirnov test\n",
        "result_groups = ks_2samp(grp_DS1, grp_DS2)\n",
        "\n",
        "\n",
        "# Print the test results\n",
        "print(result_groups)\n",
        "\n",
        "\n"
      ],
      "metadata": {
        "colab": {
          "base_uri": "https://localhost:8080/"
        },
        "id": "xAo4zB8beFyB",
        "outputId": "21d78809-35ac-433e-afc9-227583010533"
      },
      "execution_count": 27,
      "outputs": [
        {
          "output_type": "stream",
          "name": "stdout",
          "text": [
            "KstestResult(statistic=0.35714285714285715, pvalue=0.3433204708275377, statistic_location=0.9454, statistic_sign=-1)\n"
          ]
        }
      ]
    },
    {
      "cell_type": "code",
      "source": [
        "# kolmogorov-smirnov test for HD95\n",
        "\n",
        "df_mean = pd.read_excel(\"/content/New_HD95.xlsx\")\n",
        "\n",
        "grp_HD1 = df_mean.iloc[:, 0]\n",
        "grp_HD2 = df_mean.iloc[:, 1]\n",
        "grp_HD3 = df_mean.iloc[:, 2]\n",
        "grp_HD4 = df_mean.iloc[:, 3]\n",
        "\n",
        "# Perform the Kolmogorov-Smirnov test\n",
        "result_groups = ks_2samp(grp_HD3, grp_HD4)\n",
        "\n",
        "\n",
        "# Print the test results\n",
        "print(result_groups)\n",
        "\n"
      ],
      "metadata": {
        "colab": {
          "base_uri": "https://localhost:8080/"
        },
        "id": "npTrgeh_iIK9",
        "outputId": "0122bad8-f89d-41f9-a72b-2b851f404cf4"
      },
      "execution_count": 33,
      "outputs": [
        {
          "output_type": "stream",
          "name": "stdout",
          "text": [
            "KstestResult(statistic=0.35714285714285715, pvalue=0.3433204708275377, statistic_location=2.2928, statistic_sign=1)\n"
          ]
        }
      ]
    }
  ]
}