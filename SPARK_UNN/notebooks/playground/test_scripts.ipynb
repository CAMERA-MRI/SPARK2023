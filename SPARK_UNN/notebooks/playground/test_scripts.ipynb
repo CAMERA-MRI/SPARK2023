{
 "cells": [
  {
   "cell_type": "code",
   "execution_count": 54,
   "metadata": {},
   "outputs": [],
   "source": [
    "# CHANGE data_dir path as per your local set up\n",
    "pthAlex = '/Users/alexandrasmith/Desktop/Workspace/Projects/UNN_BraTS23/data/ASNR-MICCAI-BraTS2023-SSA-Challenge-TrainingData/'\n",
    "pthAly = 'C:\\\\Users\\\\amoda\\\\Documents\\\\SPARK\\\\BraTS2023\\\\Data\\\\Samples\\\\'\n"
   ]
  },
  {
   "cell_type": "code",
   "execution_count": 37,
   "metadata": {},
   "outputs": [
    {
     "name": "stdout",
     "output_type": "stream",
     "text": [
      "C:\\Users\\amoda\\Documents\\SPARK\\BraTS2023\\UNN_BraTS23\n"
     ]
    },
    {
     "data": {
      "text/plain": [
       "'C:\\\\Users\\\\amoda\\\\Documents\\\\SPARK\\\\BraTS2023\\\\UNN_BraTS23'"
      ]
     },
     "execution_count": 37,
     "metadata": {},
     "output_type": "execute_result"
    }
   ],
   "source": [
    "%cd C:\\Users\\amoda\\Documents\\SPARK\\BraTS2023\\UNN_BraTS23\n",
    "%pwd"
   ]
  },
  {
   "cell_type": "code",
   "execution_count": 42,
   "metadata": {},
   "outputs": [
    {
     "ename": "CalledProcessError",
     "evalue": "Command '['c:\\\\Users\\\\amoda\\\\anaconda3\\\\python.exe', '-m', 'pip', 'install', 'package1', 'package2', 'package3']' returned non-zero exit status 1.",
     "output_type": "error",
     "traceback": [
      "\u001b[1;31m---------------------------------------------------------------------------\u001b[0m",
      "\u001b[1;31mCalledProcessError\u001b[0m                        Traceback (most recent call last)",
      "Cell \u001b[1;32mIn[42], line 21\u001b[0m\n\u001b[0;32m     19\u001b[0m \u001b[39m# Install the necessary packages using the package manager\u001b[39;00m\n\u001b[0;32m     20\u001b[0m packages_to_install \u001b[39m=\u001b[39m [\u001b[39m'\u001b[39m\u001b[39mpackage1\u001b[39m\u001b[39m'\u001b[39m, \u001b[39m'\u001b[39m\u001b[39mpackage2\u001b[39m\u001b[39m'\u001b[39m, \u001b[39m'\u001b[39m\u001b[39mpackage3\u001b[39m\u001b[39m'\u001b[39m]\n\u001b[1;32m---> 21\u001b[0m subprocess\u001b[39m.\u001b[39;49mcheck_call([sys\u001b[39m.\u001b[39;49mexecutable, \u001b[39m\"\u001b[39;49m\u001b[39m-m\u001b[39;49m\u001b[39m\"\u001b[39;49m, \u001b[39m\"\u001b[39;49m\u001b[39mpip\u001b[39;49m\u001b[39m\"\u001b[39;49m, \u001b[39m\"\u001b[39;49m\u001b[39minstall\u001b[39;49m\u001b[39m\"\u001b[39;49m] \u001b[39m+\u001b[39;49m packages_to_install)\n\u001b[0;32m     23\u001b[0m \u001b[39m# Import the missing functions after installation\u001b[39;00m\n\u001b[0;32m     24\u001b[0m \u001b[39mfor\u001b[39;00m function_name \u001b[39min\u001b[39;00m missing_functions:\n",
      "File \u001b[1;32mc:\\Users\\amoda\\anaconda3\\lib\\subprocess.py:364\u001b[0m, in \u001b[0;36mcheck_call\u001b[1;34m(*popenargs, **kwargs)\u001b[0m\n\u001b[0;32m    362\u001b[0m     \u001b[39mif\u001b[39;00m cmd \u001b[39mis\u001b[39;00m \u001b[39mNone\u001b[39;00m:\n\u001b[0;32m    363\u001b[0m         cmd \u001b[39m=\u001b[39m popenargs[\u001b[39m0\u001b[39m]\n\u001b[1;32m--> 364\u001b[0m     \u001b[39mraise\u001b[39;00m CalledProcessError(retcode, cmd)\n\u001b[0;32m    365\u001b[0m \u001b[39mreturn\u001b[39;00m \u001b[39m0\u001b[39m\n",
      "\u001b[1;31mCalledProcessError\u001b[0m: Command '['c:\\\\Users\\\\amoda\\\\anaconda3\\\\python.exe', '-m', 'pip', 'install', 'package1', 'package2', 'package3']' returned non-zero exit status 1."
     ]
    }
   ],
   "source": [
    "import importlib\n",
    "\n",
    "# List of functions to import\n",
    "functions_to_import = ['nibabel', 'torchio', 'torch', 'numpy','torchvision', 'joblib']\n",
    "\n",
    "# Check if each function is already imported\n",
    "missing_functions = []\n",
    "for function_name in functions_to_import:\n",
    "    try:\n",
    "        importlib.import_module(function_name)\n",
    "    except ImportError:\n",
    "        missing_functions.append(function_name)\n",
    "\n",
    "# Install and import missing functions\n",
    "if missing_functions:\n",
    "    import subprocess\n",
    "    import sys\n",
    "\n",
    "    # Install the necessary packages using the package manager\n",
    "    packages_to_install = ['package1', 'package2', 'package3']\n",
    "    subprocess.check_call([sys.executable, \"-m\", \"pip\", \"install\"] + packages_to_install)\n",
    "\n",
    "    # Import the missing functions after installation\n",
    "    for function_name in missing_functions:\n",
    "        importlib.import_module(function_name)"
   ]
  },
  {
   "cell_type": "code",
   "execution_count": 108,
   "metadata": {},
   "outputs": [
    {
     "name": "stdout",
     "output_type": "stream",
     "text": [
      "C:\\Users\\amoda\\Documents\\SPARK\\BraTS2023\\Data\\Samples\\\n",
      "Total folders:  4 \n",
      " Subjects:  ['BraTS-GLI-00002-000', 'BraTS-GLI-01035-000', 'BraTS-SSA-00002-000', 'BraTS-SSA-00046-000']\n"
     ]
    }
   ],
   "source": [
    "\n",
    "\n",
    "# CHANGE data_dir path as per your local set up\n",
    "pthAlex = '/Users/alexandrasmith/Desktop/Workspace/Projects/UNN_BraTS23/data/ASNR-MICCAI-BraTS2023-SSA-Challenge-TrainingData/'\n",
    "pthAly = 'C:\\\\Users\\\\amoda\\\\Documents\\\\SPARK\\\\BraTS2023\\\\Data\\\\Samples\\\\'\n",
    "\n",
    "data_dir = pthAly\n",
    "print(data_dir)\n",
    "folders = os.listdir(data_dir)\n",
    "print(\"Total folders: \", len(folders), \"\\n Subjects: \",  folders)"
   ]
  },
  {
   "cell_type": "code",
   "execution_count": 121,
   "metadata": {},
   "outputs": [
    {
     "name": "stdout",
     "output_type": "stream",
     "text": [
      "BraTS-GLI-00002-000\n",
      "C:\\Users\\amoda\\Documents\\SPARK\\BraTS2023\\Data\\Samples\\BraTS-GLI-00002-000\n",
      "BraTS-GLI-00002-000-seg.nii.gz\n",
      "BraTS-GLI-00002-000-t1c.nii.gz\n",
      "BraTS-GLI-00002-000-t1n.nii.gz\n",
      "BraTS-GLI-00002-000-t2f.nii.gz\n",
      "BraTS-GLI-00002-000-t2w.nii.gz\n",
      "BraTS-GLI-01035-000\n",
      "C:\\Users\\amoda\\Documents\\SPARK\\BraTS2023\\Data\\Samples\\BraTS-GLI-01035-000\n",
      "BraTS-GLI-01035-000-seg.nii.gz\n",
      "BraTS-GLI-01035-000-t1c.nii.gz\n",
      "BraTS-GLI-01035-000-t1n.nii.gz\n",
      "BraTS-GLI-01035-000-t2f.nii.gz\n",
      "BraTS-GLI-01035-000-t2w.nii.gz\n",
      "BraTS-SSA-00002-000\n",
      "C:\\Users\\amoda\\Documents\\SPARK\\BraTS2023\\Data\\Samples\\BraTS-SSA-00002-000\n",
      "BraTS-SSA-00002-000-seg.nii.gz\n",
      "BraTS-SSA-00002-000-t1c.nii.gz\n",
      "BraTS-SSA-00002-000-t1n.nii.gz\n",
      "BraTS-SSA-00002-000-t2f.nii.gz\n",
      "BraTS-SSA-00002-000-t2w.nii.gz\n",
      "ssa002_t1.png\n",
      "BraTS-SSA-00046-000\n",
      "C:\\Users\\amoda\\Documents\\SPARK\\BraTS2023\\Data\\Samples\\BraTS-SSA-00046-000\n",
      "046_t2f.png\n",
      "046_t2f_seg.png\n",
      "BraTS-SSA-00046-000-seg.nii.gz\n",
      "BraTS-SSA-00046-000-t1c.nii.gz\n",
      "BraTS-SSA-00046-000-t1n.nii.gz\n",
      "BraTS-SSA-00046-000-t2f.nii.gz\n",
      "BraTS-SSA-00046-000-t2w.nii.gz\n",
      "['C:\\\\Users\\\\amoda\\\\Documents\\\\SPARK\\\\BraTS2023\\\\Data\\\\Samples\\\\BraTS-GLI-00002-000\\\\BraTS-GLI-00002-000-t1c.nii.gz', 'C:\\\\Users\\\\amoda\\\\Documents\\\\SPARK\\\\BraTS2023\\\\Data\\\\Samples\\\\BraTS-GLI-00002-000\\\\BraTS-GLI-00002-000-t1n.nii.gz', 'C:\\\\Users\\\\amoda\\\\Documents\\\\SPARK\\\\BraTS2023\\\\Data\\\\Samples\\\\BraTS-GLI-00002-000\\\\BraTS-GLI-00002-000-t2f.nii.gz', 'C:\\\\Users\\\\amoda\\\\Documents\\\\SPARK\\\\BraTS2023\\\\Data\\\\Samples\\\\BraTS-GLI-00002-000\\\\BraTS-GLI-00002-000-t2w.nii.gz', 'C:\\\\Users\\\\amoda\\\\Documents\\\\SPARK\\\\BraTS2023\\\\Data\\\\Samples\\\\BraTS-GLI-01035-000\\\\BraTS-GLI-01035-000-t1c.nii.gz', 'C:\\\\Users\\\\amoda\\\\Documents\\\\SPARK\\\\BraTS2023\\\\Data\\\\Samples\\\\BraTS-GLI-01035-000\\\\BraTS-GLI-01035-000-t1n.nii.gz', 'C:\\\\Users\\\\amoda\\\\Documents\\\\SPARK\\\\BraTS2023\\\\Data\\\\Samples\\\\BraTS-GLI-01035-000\\\\BraTS-GLI-01035-000-t2f.nii.gz', 'C:\\\\Users\\\\amoda\\\\Documents\\\\SPARK\\\\BraTS2023\\\\Data\\\\Samples\\\\BraTS-GLI-01035-000\\\\BraTS-GLI-01035-000-t2w.nii.gz', 'C:\\\\Users\\\\amoda\\\\Documents\\\\SPARK\\\\BraTS2023\\\\Data\\\\Samples\\\\BraTS-SSA-00002-000\\\\BraTS-SSA-00002-000-t1c.nii.gz', 'C:\\\\Users\\\\amoda\\\\Documents\\\\SPARK\\\\BraTS2023\\\\Data\\\\Samples\\\\BraTS-SSA-00002-000\\\\BraTS-SSA-00002-000-t1n.nii.gz', 'C:\\\\Users\\\\amoda\\\\Documents\\\\SPARK\\\\BraTS2023\\\\Data\\\\Samples\\\\BraTS-SSA-00002-000\\\\BraTS-SSA-00002-000-t2f.nii.gz', 'C:\\\\Users\\\\amoda\\\\Documents\\\\SPARK\\\\BraTS2023\\\\Data\\\\Samples\\\\BraTS-SSA-00002-000\\\\BraTS-SSA-00002-000-t2w.nii.gz', 'C:\\\\Users\\\\amoda\\\\Documents\\\\SPARK\\\\BraTS2023\\\\Data\\\\Samples\\\\BraTS-SSA-00002-000\\\\ssa002_t1.png', 'C:\\\\Users\\\\amoda\\\\Documents\\\\SPARK\\\\BraTS2023\\\\Data\\\\Samples\\\\BraTS-SSA-00046-000\\\\046_t2f.png', 'C:\\\\Users\\\\amoda\\\\Documents\\\\SPARK\\\\BraTS2023\\\\Data\\\\Samples\\\\BraTS-SSA-00046-000\\\\046_t2f_seg.png', 'C:\\\\Users\\\\amoda\\\\Documents\\\\SPARK\\\\BraTS2023\\\\Data\\\\Samples\\\\BraTS-SSA-00046-000\\\\BraTS-SSA-00046-000-t1c.nii.gz', 'C:\\\\Users\\\\amoda\\\\Documents\\\\SPARK\\\\BraTS2023\\\\Data\\\\Samples\\\\BraTS-SSA-00046-000\\\\BraTS-SSA-00046-000-t1n.nii.gz', 'C:\\\\Users\\\\amoda\\\\Documents\\\\SPARK\\\\BraTS2023\\\\Data\\\\Samples\\\\BraTS-SSA-00046-000\\\\BraTS-SSA-00046-000-t2f.nii.gz', 'C:\\\\Users\\\\amoda\\\\Documents\\\\SPARK\\\\BraTS2023\\\\Data\\\\Samples\\\\BraTS-SSA-00046-000\\\\BraTS-SSA-00046-000-t2w.nii.gz']\n",
      "['C:\\\\Users\\\\amoda\\\\Documents\\\\SPARK\\\\BraTS2023\\\\Data\\\\Samples\\\\BraTS-GLI-00002-000\\\\BraTS-GLI-00002-000-seg.nii.gz', 'C:\\\\Users\\\\amoda\\\\Documents\\\\SPARK\\\\BraTS2023\\\\Data\\\\Samples\\\\BraTS-GLI-01035-000\\\\BraTS-GLI-01035-000-seg.nii.gz', 'C:\\\\Users\\\\amoda\\\\Documents\\\\SPARK\\\\BraTS2023\\\\Data\\\\Samples\\\\BraTS-SSA-00002-000\\\\BraTS-SSA-00002-000-seg.nii.gz', 'C:\\\\Users\\\\amoda\\\\Documents\\\\SPARK\\\\BraTS2023\\\\Data\\\\Samples\\\\BraTS-SSA-00046-000\\\\BraTS-SSA-00046-000-seg.nii.gz']\n"
     ]
    }
   ],
   "source": [
    "\n",
    "img_pth = []\n",
    "seg_pth = []\n",
    "folders = os.listdir(data_dir)\n",
    "for subj in folders:\n",
    "    print(subj)\n",
    "    subj_dir = os.path.join(data_dir, subj)\n",
    "    subjID = str(subj_dir)\n",
    "    # print(subj_dir)\n",
    "    print(subjID)\n",
    "    for file in os.listdir(subj_dir):\n",
    "        print(file)\n",
    "        # check folder contents\n",
    "        if os.path.isfile(os.path.join(subj_dir, file)):\n",
    "            # Save original segmentation mask (file path)\n",
    "            if file.endswith(\"-seg.nii.gz\"):\n",
    "                # s_pth = \n",
    "                seg_pth.append(os.path.join(subj_dir, file))\n",
    "            else:\n",
    "                # Save original image (file path)\n",
    "                img_pth.append(os.path.join(subj_dir, file))\n",
    "                # self.img_pth.append([(os.path.join(self.subj_dir, self.subjID + f\"-{m}.nii.gz\")) for m in modalities])\n",
    "print(img_pth)\n",
    "print(seg_pth)"
   ]
  },
  {
   "cell_type": "code",
   "execution_count": 125,
   "metadata": {},
   "outputs": [
    {
     "name": "stderr",
     "output_type": "stream",
     "text": [
      "Traceback (most recent call last):\n",
      "  File \"C:\\Users\\amoda\\Documents\\SPARK\\BraTS2023\\UNN_BraTS23\\scripts\\data_prep.py\", line 245, in <module>\n",
      "    main()\n",
      "  File \"C:\\Users\\amoda\\Documents\\SPARK\\BraTS2023\\UNN_BraTS23\\scripts\\data_prep.py\", line 230, in main\n",
      "    prepare_nifty(origData, modalities, args)\n",
      "  File \"C:\\Users\\amoda\\Documents\\SPARK\\BraTS2023\\UNN_BraTS23\\scripts\\data_prep.py\", line 85, in prepare_nifty\n",
      "    globals()[f'{mname}'] = nib.load(img_pth[idx])\n",
      "IndexError: list index out of range\n"
     ]
    },
    {
     "name": "stdout",
     "output_type": "stream",
     "text": [
      "['C:\\\\Users\\\\amoda\\\\Documents\\\\SPARK\\\\BraTS2023\\\\Data\\\\Samples\\\\BraTS-GLI-00002-000\\\\BraTS-GLI-00002-000-seg.nii.gz']\n",
      "['C:\\\\Users\\\\amoda\\\\Documents\\\\SPARK\\\\BraTS2023\\\\Data\\\\Samples\\\\BraTS-GLI-00002-000\\\\BraTS-GLI-00002-000-t1c.nii.gz']\n",
      "['C:\\\\Users\\\\amoda\\\\Documents\\\\SPARK\\\\BraTS2023\\\\Data\\\\Samples\\\\BraTS-GLI-00002-000\\\\BraTS-GLI-00002-000-t1c.nii.gz', 'C:\\\\Users\\\\amoda\\\\Documents\\\\SPARK\\\\BraTS2023\\\\Data\\\\Samples\\\\BraTS-GLI-00002-000\\\\BraTS-GLI-00002-000-t1n.nii.gz']\n",
      "['C:\\\\Users\\\\amoda\\\\Documents\\\\SPARK\\\\BraTS2023\\\\Data\\\\Samples\\\\BraTS-GLI-00002-000\\\\BraTS-GLI-00002-000-t1c.nii.gz', 'C:\\\\Users\\\\amoda\\\\Documents\\\\SPARK\\\\BraTS2023\\\\Data\\\\Samples\\\\BraTS-GLI-00002-000\\\\BraTS-GLI-00002-000-t1n.nii.gz', 'C:\\\\Users\\\\amoda\\\\Documents\\\\SPARK\\\\BraTS2023\\\\Data\\\\Samples\\\\BraTS-GLI-00002-000\\\\BraTS-GLI-00002-000-t2f.nii.gz']\n",
      "['C:\\\\Users\\\\amoda\\\\Documents\\\\SPARK\\\\BraTS2023\\\\Data\\\\Samples\\\\BraTS-GLI-00002-000\\\\BraTS-GLI-00002-000-t1c.nii.gz', 'C:\\\\Users\\\\amoda\\\\Documents\\\\SPARK\\\\BraTS2023\\\\Data\\\\Samples\\\\BraTS-GLI-00002-000\\\\BraTS-GLI-00002-000-t1n.nii.gz', 'C:\\\\Users\\\\amoda\\\\Documents\\\\SPARK\\\\BraTS2023\\\\Data\\\\Samples\\\\BraTS-GLI-00002-000\\\\BraTS-GLI-00002-000-t2f.nii.gz', 'C:\\\\Users\\\\amoda\\\\Documents\\\\SPARK\\\\BraTS2023\\\\Data\\\\Samples\\\\BraTS-GLI-00002-000\\\\BraTS-GLI-00002-000-t2w.nii.gz']\n",
      "['C:\\\\Users\\\\amoda\\\\Documents\\\\SPARK\\\\BraTS2023\\\\Data\\\\Samples\\\\BraTS-GLI-00002-000\\\\BraTS-GLI-00002-000-seg.nii.gz', 'C:\\\\Users\\\\amoda\\\\Documents\\\\SPARK\\\\BraTS2023\\\\Data\\\\Samples\\\\BraTS-GLI-01035-000\\\\BraTS-GLI-01035-000-seg.nii.gz']\n",
      "['C:\\\\Users\\\\amoda\\\\Documents\\\\SPARK\\\\BraTS2023\\\\Data\\\\Samples\\\\BraTS-GLI-00002-000\\\\BraTS-GLI-00002-000-t1c.nii.gz', 'C:\\\\Users\\\\amoda\\\\Documents\\\\SPARK\\\\BraTS2023\\\\Data\\\\Samples\\\\BraTS-GLI-00002-000\\\\BraTS-GLI-00002-000-t1n.nii.gz', 'C:\\\\Users\\\\amoda\\\\Documents\\\\SPARK\\\\BraTS2023\\\\Data\\\\Samples\\\\BraTS-GLI-00002-000\\\\BraTS-GLI-00002-000-t2f.nii.gz', 'C:\\\\Users\\\\amoda\\\\Documents\\\\SPARK\\\\BraTS2023\\\\Data\\\\Samples\\\\BraTS-GLI-00002-000\\\\BraTS-GLI-00002-000-t2w.nii.gz', 'C:\\\\Users\\\\amoda\\\\Documents\\\\SPARK\\\\BraTS2023\\\\Data\\\\Samples\\\\BraTS-GLI-01035-000\\\\BraTS-GLI-01035-000-t1c.nii.gz']\n",
      "['C:\\\\Users\\\\amoda\\\\Documents\\\\SPARK\\\\BraTS2023\\\\Data\\\\Samples\\\\BraTS-GLI-00002-000\\\\BraTS-GLI-00002-000-t1c.nii.gz', 'C:\\\\Users\\\\amoda\\\\Documents\\\\SPARK\\\\BraTS2023\\\\Data\\\\Samples\\\\BraTS-GLI-00002-000\\\\BraTS-GLI-00002-000-t1n.nii.gz', 'C:\\\\Users\\\\amoda\\\\Documents\\\\SPARK\\\\BraTS2023\\\\Data\\\\Samples\\\\BraTS-GLI-00002-000\\\\BraTS-GLI-00002-000-t2f.nii.gz', 'C:\\\\Users\\\\amoda\\\\Documents\\\\SPARK\\\\BraTS2023\\\\Data\\\\Samples\\\\BraTS-GLI-00002-000\\\\BraTS-GLI-00002-000-t2w.nii.gz', 'C:\\\\Users\\\\amoda\\\\Documents\\\\SPARK\\\\BraTS2023\\\\Data\\\\Samples\\\\BraTS-GLI-01035-000\\\\BraTS-GLI-01035-000-t1c.nii.gz', 'C:\\\\Users\\\\amoda\\\\Documents\\\\SPARK\\\\BraTS2023\\\\Data\\\\Samples\\\\BraTS-GLI-01035-000\\\\BraTS-GLI-01035-000-t1n.nii.gz']\n",
      "['C:\\\\Users\\\\amoda\\\\Documents\\\\SPARK\\\\BraTS2023\\\\Data\\\\Samples\\\\BraTS-GLI-00002-000\\\\BraTS-GLI-00002-000-t1c.nii.gz', 'C:\\\\Users\\\\amoda\\\\Documents\\\\SPARK\\\\BraTS2023\\\\Data\\\\Samples\\\\BraTS-GLI-00002-000\\\\BraTS-GLI-00002-000-t1n.nii.gz', 'C:\\\\Users\\\\amoda\\\\Documents\\\\SPARK\\\\BraTS2023\\\\Data\\\\Samples\\\\BraTS-GLI-00002-000\\\\BraTS-GLI-00002-000-t2f.nii.gz', 'C:\\\\Users\\\\amoda\\\\Documents\\\\SPARK\\\\BraTS2023\\\\Data\\\\Samples\\\\BraTS-GLI-00002-000\\\\BraTS-GLI-00002-000-t2w.nii.gz', 'C:\\\\Users\\\\amoda\\\\Documents\\\\SPARK\\\\BraTS2023\\\\Data\\\\Samples\\\\BraTS-GLI-01035-000\\\\BraTS-GLI-01035-000-t1c.nii.gz', 'C:\\\\Users\\\\amoda\\\\Documents\\\\SPARK\\\\BraTS2023\\\\Data\\\\Samples\\\\BraTS-GLI-01035-000\\\\BraTS-GLI-01035-000-t1n.nii.gz', 'C:\\\\Users\\\\amoda\\\\Documents\\\\SPARK\\\\BraTS2023\\\\Data\\\\Samples\\\\BraTS-GLI-01035-000\\\\BraTS-GLI-01035-000-t2f.nii.gz']\n",
      "['C:\\\\Users\\\\amoda\\\\Documents\\\\SPARK\\\\BraTS2023\\\\Data\\\\Samples\\\\BraTS-GLI-00002-000\\\\BraTS-GLI-00002-000-t1c.nii.gz', 'C:\\\\Users\\\\amoda\\\\Documents\\\\SPARK\\\\BraTS2023\\\\Data\\\\Samples\\\\BraTS-GLI-00002-000\\\\BraTS-GLI-00002-000-t1n.nii.gz', 'C:\\\\Users\\\\amoda\\\\Documents\\\\SPARK\\\\BraTS2023\\\\Data\\\\Samples\\\\BraTS-GLI-00002-000\\\\BraTS-GLI-00002-000-t2f.nii.gz', 'C:\\\\Users\\\\amoda\\\\Documents\\\\SPARK\\\\BraTS2023\\\\Data\\\\Samples\\\\BraTS-GLI-00002-000\\\\BraTS-GLI-00002-000-t2w.nii.gz', 'C:\\\\Users\\\\amoda\\\\Documents\\\\SPARK\\\\BraTS2023\\\\Data\\\\Samples\\\\BraTS-GLI-01035-000\\\\BraTS-GLI-01035-000-t1c.nii.gz', 'C:\\\\Users\\\\amoda\\\\Documents\\\\SPARK\\\\BraTS2023\\\\Data\\\\Samples\\\\BraTS-GLI-01035-000\\\\BraTS-GLI-01035-000-t1n.nii.gz', 'C:\\\\Users\\\\amoda\\\\Documents\\\\SPARK\\\\BraTS2023\\\\Data\\\\Samples\\\\BraTS-GLI-01035-000\\\\BraTS-GLI-01035-000-t2f.nii.gz', 'C:\\\\Users\\\\amoda\\\\Documents\\\\SPARK\\\\BraTS2023\\\\Data\\\\Samples\\\\BraTS-GLI-01035-000\\\\BraTS-GLI-01035-000-t2w.nii.gz']\n",
      "['C:\\\\Users\\\\amoda\\\\Documents\\\\SPARK\\\\BraTS2023\\\\Data\\\\Samples\\\\BraTS-GLI-00002-000\\\\BraTS-GLI-00002-000-seg.nii.gz', 'C:\\\\Users\\\\amoda\\\\Documents\\\\SPARK\\\\BraTS2023\\\\Data\\\\Samples\\\\BraTS-GLI-01035-000\\\\BraTS-GLI-01035-000-seg.nii.gz', 'C:\\\\Users\\\\amoda\\\\Documents\\\\SPARK\\\\BraTS2023\\\\Data\\\\Samples\\\\BraTS-SSA-00002-000\\\\BraTS-SSA-00002-000-seg.nii.gz']\n",
      "['C:\\\\Users\\\\amoda\\\\Documents\\\\SPARK\\\\BraTS2023\\\\Data\\\\Samples\\\\BraTS-GLI-00002-000\\\\BraTS-GLI-00002-000-t1c.nii.gz', 'C:\\\\Users\\\\amoda\\\\Documents\\\\SPARK\\\\BraTS2023\\\\Data\\\\Samples\\\\BraTS-GLI-00002-000\\\\BraTS-GLI-00002-000-t1n.nii.gz', 'C:\\\\Users\\\\amoda\\\\Documents\\\\SPARK\\\\BraTS2023\\\\Data\\\\Samples\\\\BraTS-GLI-00002-000\\\\BraTS-GLI-00002-000-t2f.nii.gz', 'C:\\\\Users\\\\amoda\\\\Documents\\\\SPARK\\\\BraTS2023\\\\Data\\\\Samples\\\\BraTS-GLI-00002-000\\\\BraTS-GLI-00002-000-t2w.nii.gz', 'C:\\\\Users\\\\amoda\\\\Documents\\\\SPARK\\\\BraTS2023\\\\Data\\\\Samples\\\\BraTS-GLI-01035-000\\\\BraTS-GLI-01035-000-t1c.nii.gz', 'C:\\\\Users\\\\amoda\\\\Documents\\\\SPARK\\\\BraTS2023\\\\Data\\\\Samples\\\\BraTS-GLI-01035-000\\\\BraTS-GLI-01035-000-t1n.nii.gz', 'C:\\\\Users\\\\amoda\\\\Documents\\\\SPARK\\\\BraTS2023\\\\Data\\\\Samples\\\\BraTS-GLI-01035-000\\\\BraTS-GLI-01035-000-t2f.nii.gz', 'C:\\\\Users\\\\amoda\\\\Documents\\\\SPARK\\\\BraTS2023\\\\Data\\\\Samples\\\\BraTS-GLI-01035-000\\\\BraTS-GLI-01035-000-t2w.nii.gz', 'C:\\\\Users\\\\amoda\\\\Documents\\\\SPARK\\\\BraTS2023\\\\Data\\\\Samples\\\\BraTS-SSA-00002-000\\\\BraTS-SSA-00002-000-t1c.nii.gz']\n",
      "['C:\\\\Users\\\\amoda\\\\Documents\\\\SPARK\\\\BraTS2023\\\\Data\\\\Samples\\\\BraTS-GLI-00002-000\\\\BraTS-GLI-00002-000-t1c.nii.gz', 'C:\\\\Users\\\\amoda\\\\Documents\\\\SPARK\\\\BraTS2023\\\\Data\\\\Samples\\\\BraTS-GLI-00002-000\\\\BraTS-GLI-00002-000-t1n.nii.gz', 'C:\\\\Users\\\\amoda\\\\Documents\\\\SPARK\\\\BraTS2023\\\\Data\\\\Samples\\\\BraTS-GLI-00002-000\\\\BraTS-GLI-00002-000-t2f.nii.gz', 'C:\\\\Users\\\\amoda\\\\Documents\\\\SPARK\\\\BraTS2023\\\\Data\\\\Samples\\\\BraTS-GLI-00002-000\\\\BraTS-GLI-00002-000-t2w.nii.gz', 'C:\\\\Users\\\\amoda\\\\Documents\\\\SPARK\\\\BraTS2023\\\\Data\\\\Samples\\\\BraTS-GLI-01035-000\\\\BraTS-GLI-01035-000-t1c.nii.gz', 'C:\\\\Users\\\\amoda\\\\Documents\\\\SPARK\\\\BraTS2023\\\\Data\\\\Samples\\\\BraTS-GLI-01035-000\\\\BraTS-GLI-01035-000-t1n.nii.gz', 'C:\\\\Users\\\\amoda\\\\Documents\\\\SPARK\\\\BraTS2023\\\\Data\\\\Samples\\\\BraTS-GLI-01035-000\\\\BraTS-GLI-01035-000-t2f.nii.gz', 'C:\\\\Users\\\\amoda\\\\Documents\\\\SPARK\\\\BraTS2023\\\\Data\\\\Samples\\\\BraTS-GLI-01035-000\\\\BraTS-GLI-01035-000-t2w.nii.gz', 'C:\\\\Users\\\\amoda\\\\Documents\\\\SPARK\\\\BraTS2023\\\\Data\\\\Samples\\\\BraTS-SSA-00002-000\\\\BraTS-SSA-00002-000-t1c.nii.gz', 'C:\\\\Users\\\\amoda\\\\Documents\\\\SPARK\\\\BraTS2023\\\\Data\\\\Samples\\\\BraTS-SSA-00002-000\\\\BraTS-SSA-00002-000-t1n.nii.gz']\n",
      "['C:\\\\Users\\\\amoda\\\\Documents\\\\SPARK\\\\BraTS2023\\\\Data\\\\Samples\\\\BraTS-GLI-00002-000\\\\BraTS-GLI-00002-000-t1c.nii.gz', 'C:\\\\Users\\\\amoda\\\\Documents\\\\SPARK\\\\BraTS2023\\\\Data\\\\Samples\\\\BraTS-GLI-00002-000\\\\BraTS-GLI-00002-000-t1n.nii.gz', 'C:\\\\Users\\\\amoda\\\\Documents\\\\SPARK\\\\BraTS2023\\\\Data\\\\Samples\\\\BraTS-GLI-00002-000\\\\BraTS-GLI-00002-000-t2f.nii.gz', 'C:\\\\Users\\\\amoda\\\\Documents\\\\SPARK\\\\BraTS2023\\\\Data\\\\Samples\\\\BraTS-GLI-00002-000\\\\BraTS-GLI-00002-000-t2w.nii.gz', 'C:\\\\Users\\\\amoda\\\\Documents\\\\SPARK\\\\BraTS2023\\\\Data\\\\Samples\\\\BraTS-GLI-01035-000\\\\BraTS-GLI-01035-000-t1c.nii.gz', 'C:\\\\Users\\\\amoda\\\\Documents\\\\SPARK\\\\BraTS2023\\\\Data\\\\Samples\\\\BraTS-GLI-01035-000\\\\BraTS-GLI-01035-000-t1n.nii.gz', 'C:\\\\Users\\\\amoda\\\\Documents\\\\SPARK\\\\BraTS2023\\\\Data\\\\Samples\\\\BraTS-GLI-01035-000\\\\BraTS-GLI-01035-000-t2f.nii.gz', 'C:\\\\Users\\\\amoda\\\\Documents\\\\SPARK\\\\BraTS2023\\\\Data\\\\Samples\\\\BraTS-GLI-01035-000\\\\BraTS-GLI-01035-000-t2w.nii.gz', 'C:\\\\Users\\\\amoda\\\\Documents\\\\SPARK\\\\BraTS2023\\\\Data\\\\Samples\\\\BraTS-SSA-00002-000\\\\BraTS-SSA-00002-000-t1c.nii.gz', 'C:\\\\Users\\\\amoda\\\\Documents\\\\SPARK\\\\BraTS2023\\\\Data\\\\Samples\\\\BraTS-SSA-00002-000\\\\BraTS-SSA-00002-000-t1n.nii.gz', 'C:\\\\Users\\\\amoda\\\\Documents\\\\SPARK\\\\BraTS2023\\\\Data\\\\Samples\\\\BraTS-SSA-00002-000\\\\BraTS-SSA-00002-000-t2f.nii.gz']\n",
      "['C:\\\\Users\\\\amoda\\\\Documents\\\\SPARK\\\\BraTS2023\\\\Data\\\\Samples\\\\BraTS-GLI-00002-000\\\\BraTS-GLI-00002-000-t1c.nii.gz', 'C:\\\\Users\\\\amoda\\\\Documents\\\\SPARK\\\\BraTS2023\\\\Data\\\\Samples\\\\BraTS-GLI-00002-000\\\\BraTS-GLI-00002-000-t1n.nii.gz', 'C:\\\\Users\\\\amoda\\\\Documents\\\\SPARK\\\\BraTS2023\\\\Data\\\\Samples\\\\BraTS-GLI-00002-000\\\\BraTS-GLI-00002-000-t2f.nii.gz', 'C:\\\\Users\\\\amoda\\\\Documents\\\\SPARK\\\\BraTS2023\\\\Data\\\\Samples\\\\BraTS-GLI-00002-000\\\\BraTS-GLI-00002-000-t2w.nii.gz', 'C:\\\\Users\\\\amoda\\\\Documents\\\\SPARK\\\\BraTS2023\\\\Data\\\\Samples\\\\BraTS-GLI-01035-000\\\\BraTS-GLI-01035-000-t1c.nii.gz', 'C:\\\\Users\\\\amoda\\\\Documents\\\\SPARK\\\\BraTS2023\\\\Data\\\\Samples\\\\BraTS-GLI-01035-000\\\\BraTS-GLI-01035-000-t1n.nii.gz', 'C:\\\\Users\\\\amoda\\\\Documents\\\\SPARK\\\\BraTS2023\\\\Data\\\\Samples\\\\BraTS-GLI-01035-000\\\\BraTS-GLI-01035-000-t2f.nii.gz', 'C:\\\\Users\\\\amoda\\\\Documents\\\\SPARK\\\\BraTS2023\\\\Data\\\\Samples\\\\BraTS-GLI-01035-000\\\\BraTS-GLI-01035-000-t2w.nii.gz', 'C:\\\\Users\\\\amoda\\\\Documents\\\\SPARK\\\\BraTS2023\\\\Data\\\\Samples\\\\BraTS-SSA-00002-000\\\\BraTS-SSA-00002-000-t1c.nii.gz', 'C:\\\\Users\\\\amoda\\\\Documents\\\\SPARK\\\\BraTS2023\\\\Data\\\\Samples\\\\BraTS-SSA-00002-000\\\\BraTS-SSA-00002-000-t1n.nii.gz', 'C:\\\\Users\\\\amoda\\\\Documents\\\\SPARK\\\\BraTS2023\\\\Data\\\\Samples\\\\BraTS-SSA-00002-000\\\\BraTS-SSA-00002-000-t2f.nii.gz', 'C:\\\\Users\\\\amoda\\\\Documents\\\\SPARK\\\\BraTS2023\\\\Data\\\\Samples\\\\BraTS-SSA-00002-000\\\\BraTS-SSA-00002-000-t2w.nii.gz']\n",
      "['C:\\\\Users\\\\amoda\\\\Documents\\\\SPARK\\\\BraTS2023\\\\Data\\\\Samples\\\\BraTS-GLI-00002-000\\\\BraTS-GLI-00002-000-t1c.nii.gz', 'C:\\\\Users\\\\amoda\\\\Documents\\\\SPARK\\\\BraTS2023\\\\Data\\\\Samples\\\\BraTS-GLI-00002-000\\\\BraTS-GLI-00002-000-t1n.nii.gz', 'C:\\\\Users\\\\amoda\\\\Documents\\\\SPARK\\\\BraTS2023\\\\Data\\\\Samples\\\\BraTS-GLI-00002-000\\\\BraTS-GLI-00002-000-t2f.nii.gz', 'C:\\\\Users\\\\amoda\\\\Documents\\\\SPARK\\\\BraTS2023\\\\Data\\\\Samples\\\\BraTS-GLI-00002-000\\\\BraTS-GLI-00002-000-t2w.nii.gz', 'C:\\\\Users\\\\amoda\\\\Documents\\\\SPARK\\\\BraTS2023\\\\Data\\\\Samples\\\\BraTS-GLI-01035-000\\\\BraTS-GLI-01035-000-t1c.nii.gz', 'C:\\\\Users\\\\amoda\\\\Documents\\\\SPARK\\\\BraTS2023\\\\Data\\\\Samples\\\\BraTS-GLI-01035-000\\\\BraTS-GLI-01035-000-t1n.nii.gz', 'C:\\\\Users\\\\amoda\\\\Documents\\\\SPARK\\\\BraTS2023\\\\Data\\\\Samples\\\\BraTS-GLI-01035-000\\\\BraTS-GLI-01035-000-t2f.nii.gz', 'C:\\\\Users\\\\amoda\\\\Documents\\\\SPARK\\\\BraTS2023\\\\Data\\\\Samples\\\\BraTS-GLI-01035-000\\\\BraTS-GLI-01035-000-t2w.nii.gz', 'C:\\\\Users\\\\amoda\\\\Documents\\\\SPARK\\\\BraTS2023\\\\Data\\\\Samples\\\\BraTS-SSA-00002-000\\\\BraTS-SSA-00002-000-t1c.nii.gz', 'C:\\\\Users\\\\amoda\\\\Documents\\\\SPARK\\\\BraTS2023\\\\Data\\\\Samples\\\\BraTS-SSA-00002-000\\\\BraTS-SSA-00002-000-t1n.nii.gz', 'C:\\\\Users\\\\amoda\\\\Documents\\\\SPARK\\\\BraTS2023\\\\Data\\\\Samples\\\\BraTS-SSA-00002-000\\\\BraTS-SSA-00002-000-t2f.nii.gz', 'C:\\\\Users\\\\amoda\\\\Documents\\\\SPARK\\\\BraTS2023\\\\Data\\\\Samples\\\\BraTS-SSA-00002-000\\\\BraTS-SSA-00002-000-t2w.nii.gz', 'C:\\\\Users\\\\amoda\\\\Documents\\\\SPARK\\\\BraTS2023\\\\Data\\\\Samples\\\\BraTS-SSA-00002-000\\\\ssa002_t1.png']\n",
      "['C:\\\\Users\\\\amoda\\\\Documents\\\\SPARK\\\\BraTS2023\\\\Data\\\\Samples\\\\BraTS-GLI-00002-000\\\\BraTS-GLI-00002-000-t1c.nii.gz', 'C:\\\\Users\\\\amoda\\\\Documents\\\\SPARK\\\\BraTS2023\\\\Data\\\\Samples\\\\BraTS-GLI-00002-000\\\\BraTS-GLI-00002-000-t1n.nii.gz', 'C:\\\\Users\\\\amoda\\\\Documents\\\\SPARK\\\\BraTS2023\\\\Data\\\\Samples\\\\BraTS-GLI-00002-000\\\\BraTS-GLI-00002-000-t2f.nii.gz', 'C:\\\\Users\\\\amoda\\\\Documents\\\\SPARK\\\\BraTS2023\\\\Data\\\\Samples\\\\BraTS-GLI-00002-000\\\\BraTS-GLI-00002-000-t2w.nii.gz', 'C:\\\\Users\\\\amoda\\\\Documents\\\\SPARK\\\\BraTS2023\\\\Data\\\\Samples\\\\BraTS-GLI-01035-000\\\\BraTS-GLI-01035-000-t1c.nii.gz', 'C:\\\\Users\\\\amoda\\\\Documents\\\\SPARK\\\\BraTS2023\\\\Data\\\\Samples\\\\BraTS-GLI-01035-000\\\\BraTS-GLI-01035-000-t1n.nii.gz', 'C:\\\\Users\\\\amoda\\\\Documents\\\\SPARK\\\\BraTS2023\\\\Data\\\\Samples\\\\BraTS-GLI-01035-000\\\\BraTS-GLI-01035-000-t2f.nii.gz', 'C:\\\\Users\\\\amoda\\\\Documents\\\\SPARK\\\\BraTS2023\\\\Data\\\\Samples\\\\BraTS-GLI-01035-000\\\\BraTS-GLI-01035-000-t2w.nii.gz', 'C:\\\\Users\\\\amoda\\\\Documents\\\\SPARK\\\\BraTS2023\\\\Data\\\\Samples\\\\BraTS-SSA-00002-000\\\\BraTS-SSA-00002-000-t1c.nii.gz', 'C:\\\\Users\\\\amoda\\\\Documents\\\\SPARK\\\\BraTS2023\\\\Data\\\\Samples\\\\BraTS-SSA-00002-000\\\\BraTS-SSA-00002-000-t1n.nii.gz', 'C:\\\\Users\\\\amoda\\\\Documents\\\\SPARK\\\\BraTS2023\\\\Data\\\\Samples\\\\BraTS-SSA-00002-000\\\\BraTS-SSA-00002-000-t2f.nii.gz', 'C:\\\\Users\\\\amoda\\\\Documents\\\\SPARK\\\\BraTS2023\\\\Data\\\\Samples\\\\BraTS-SSA-00002-000\\\\BraTS-SSA-00002-000-t2w.nii.gz', 'C:\\\\Users\\\\amoda\\\\Documents\\\\SPARK\\\\BraTS2023\\\\Data\\\\Samples\\\\BraTS-SSA-00002-000\\\\ssa002_t1.png', 'C:\\\\Users\\\\amoda\\\\Documents\\\\SPARK\\\\BraTS2023\\\\Data\\\\Samples\\\\BraTS-SSA-00046-000\\\\046_t2f.png']\n",
      "['C:\\\\Users\\\\amoda\\\\Documents\\\\SPARK\\\\BraTS2023\\\\Data\\\\Samples\\\\BraTS-GLI-00002-000\\\\BraTS-GLI-00002-000-t1c.nii.gz', 'C:\\\\Users\\\\amoda\\\\Documents\\\\SPARK\\\\BraTS2023\\\\Data\\\\Samples\\\\BraTS-GLI-00002-000\\\\BraTS-GLI-00002-000-t1n.nii.gz', 'C:\\\\Users\\\\amoda\\\\Documents\\\\SPARK\\\\BraTS2023\\\\Data\\\\Samples\\\\BraTS-GLI-00002-000\\\\BraTS-GLI-00002-000-t2f.nii.gz', 'C:\\\\Users\\\\amoda\\\\Documents\\\\SPARK\\\\BraTS2023\\\\Data\\\\Samples\\\\BraTS-GLI-00002-000\\\\BraTS-GLI-00002-000-t2w.nii.gz', 'C:\\\\Users\\\\amoda\\\\Documents\\\\SPARK\\\\BraTS2023\\\\Data\\\\Samples\\\\BraTS-GLI-01035-000\\\\BraTS-GLI-01035-000-t1c.nii.gz', 'C:\\\\Users\\\\amoda\\\\Documents\\\\SPARK\\\\BraTS2023\\\\Data\\\\Samples\\\\BraTS-GLI-01035-000\\\\BraTS-GLI-01035-000-t1n.nii.gz', 'C:\\\\Users\\\\amoda\\\\Documents\\\\SPARK\\\\BraTS2023\\\\Data\\\\Samples\\\\BraTS-GLI-01035-000\\\\BraTS-GLI-01035-000-t2f.nii.gz', 'C:\\\\Users\\\\amoda\\\\Documents\\\\SPARK\\\\BraTS2023\\\\Data\\\\Samples\\\\BraTS-GLI-01035-000\\\\BraTS-GLI-01035-000-t2w.nii.gz', 'C:\\\\Users\\\\amoda\\\\Documents\\\\SPARK\\\\BraTS2023\\\\Data\\\\Samples\\\\BraTS-SSA-00002-000\\\\BraTS-SSA-00002-000-t1c.nii.gz', 'C:\\\\Users\\\\amoda\\\\Documents\\\\SPARK\\\\BraTS2023\\\\Data\\\\Samples\\\\BraTS-SSA-00002-000\\\\BraTS-SSA-00002-000-t1n.nii.gz', 'C:\\\\Users\\\\amoda\\\\Documents\\\\SPARK\\\\BraTS2023\\\\Data\\\\Samples\\\\BraTS-SSA-00002-000\\\\BraTS-SSA-00002-000-t2f.nii.gz', 'C:\\\\Users\\\\amoda\\\\Documents\\\\SPARK\\\\BraTS2023\\\\Data\\\\Samples\\\\BraTS-SSA-00002-000\\\\BraTS-SSA-00002-000-t2w.nii.gz', 'C:\\\\Users\\\\amoda\\\\Documents\\\\SPARK\\\\BraTS2023\\\\Data\\\\Samples\\\\BraTS-SSA-00002-000\\\\ssa002_t1.png', 'C:\\\\Users\\\\amoda\\\\Documents\\\\SPARK\\\\BraTS2023\\\\Data\\\\Samples\\\\BraTS-SSA-00046-000\\\\046_t2f.png', 'C:\\\\Users\\\\amoda\\\\Documents\\\\SPARK\\\\BraTS2023\\\\Data\\\\Samples\\\\BraTS-SSA-00046-000\\\\046_t2f_seg.png']\n",
      "['C:\\\\Users\\\\amoda\\\\Documents\\\\SPARK\\\\BraTS2023\\\\Data\\\\Samples\\\\BraTS-GLI-00002-000\\\\BraTS-GLI-00002-000-seg.nii.gz', 'C:\\\\Users\\\\amoda\\\\Documents\\\\SPARK\\\\BraTS2023\\\\Data\\\\Samples\\\\BraTS-GLI-01035-000\\\\BraTS-GLI-01035-000-seg.nii.gz', 'C:\\\\Users\\\\amoda\\\\Documents\\\\SPARK\\\\BraTS2023\\\\Data\\\\Samples\\\\BraTS-SSA-00002-000\\\\BraTS-SSA-00002-000-seg.nii.gz', 'C:\\\\Users\\\\amoda\\\\Documents\\\\SPARK\\\\BraTS2023\\\\Data\\\\Samples\\\\BraTS-SSA-00046-000\\\\BraTS-SSA-00046-000-seg.nii.gz']\n",
      "['C:\\\\Users\\\\amoda\\\\Documents\\\\SPARK\\\\BraTS2023\\\\Data\\\\Samples\\\\BraTS-GLI-00002-000\\\\BraTS-GLI-00002-000-t1c.nii.gz', 'C:\\\\Users\\\\amoda\\\\Documents\\\\SPARK\\\\BraTS2023\\\\Data\\\\Samples\\\\BraTS-GLI-00002-000\\\\BraTS-GLI-00002-000-t1n.nii.gz', 'C:\\\\Users\\\\amoda\\\\Documents\\\\SPARK\\\\BraTS2023\\\\Data\\\\Samples\\\\BraTS-GLI-00002-000\\\\BraTS-GLI-00002-000-t2f.nii.gz', 'C:\\\\Users\\\\amoda\\\\Documents\\\\SPARK\\\\BraTS2023\\\\Data\\\\Samples\\\\BraTS-GLI-00002-000\\\\BraTS-GLI-00002-000-t2w.nii.gz', 'C:\\\\Users\\\\amoda\\\\Documents\\\\SPARK\\\\BraTS2023\\\\Data\\\\Samples\\\\BraTS-GLI-01035-000\\\\BraTS-GLI-01035-000-t1c.nii.gz', 'C:\\\\Users\\\\amoda\\\\Documents\\\\SPARK\\\\BraTS2023\\\\Data\\\\Samples\\\\BraTS-GLI-01035-000\\\\BraTS-GLI-01035-000-t1n.nii.gz', 'C:\\\\Users\\\\amoda\\\\Documents\\\\SPARK\\\\BraTS2023\\\\Data\\\\Samples\\\\BraTS-GLI-01035-000\\\\BraTS-GLI-01035-000-t2f.nii.gz', 'C:\\\\Users\\\\amoda\\\\Documents\\\\SPARK\\\\BraTS2023\\\\Data\\\\Samples\\\\BraTS-GLI-01035-000\\\\BraTS-GLI-01035-000-t2w.nii.gz', 'C:\\\\Users\\\\amoda\\\\Documents\\\\SPARK\\\\BraTS2023\\\\Data\\\\Samples\\\\BraTS-SSA-00002-000\\\\BraTS-SSA-00002-000-t1c.nii.gz', 'C:\\\\Users\\\\amoda\\\\Documents\\\\SPARK\\\\BraTS2023\\\\Data\\\\Samples\\\\BraTS-SSA-00002-000\\\\BraTS-SSA-00002-000-t1n.nii.gz', 'C:\\\\Users\\\\amoda\\\\Documents\\\\SPARK\\\\BraTS2023\\\\Data\\\\Samples\\\\BraTS-SSA-00002-000\\\\BraTS-SSA-00002-000-t2f.nii.gz', 'C:\\\\Users\\\\amoda\\\\Documents\\\\SPARK\\\\BraTS2023\\\\Data\\\\Samples\\\\BraTS-SSA-00002-000\\\\BraTS-SSA-00002-000-t2w.nii.gz', 'C:\\\\Users\\\\amoda\\\\Documents\\\\SPARK\\\\BraTS2023\\\\Data\\\\Samples\\\\BraTS-SSA-00002-000\\\\ssa002_t1.png', 'C:\\\\Users\\\\amoda\\\\Documents\\\\SPARK\\\\BraTS2023\\\\Data\\\\Samples\\\\BraTS-SSA-00046-000\\\\046_t2f.png', 'C:\\\\Users\\\\amoda\\\\Documents\\\\SPARK\\\\BraTS2023\\\\Data\\\\Samples\\\\BraTS-SSA-00046-000\\\\046_t2f_seg.png', 'C:\\\\Users\\\\amoda\\\\Documents\\\\SPARK\\\\BraTS2023\\\\Data\\\\Samples\\\\BraTS-SSA-00046-000\\\\BraTS-SSA-00046-000-t1c.nii.gz']\n",
      "['C:\\\\Users\\\\amoda\\\\Documents\\\\SPARK\\\\BraTS2023\\\\Data\\\\Samples\\\\BraTS-GLI-00002-000\\\\BraTS-GLI-00002-000-t1c.nii.gz', 'C:\\\\Users\\\\amoda\\\\Documents\\\\SPARK\\\\BraTS2023\\\\Data\\\\Samples\\\\BraTS-GLI-00002-000\\\\BraTS-GLI-00002-000-t1n.nii.gz', 'C:\\\\Users\\\\amoda\\\\Documents\\\\SPARK\\\\BraTS2023\\\\Data\\\\Samples\\\\BraTS-GLI-00002-000\\\\BraTS-GLI-00002-000-t2f.nii.gz', 'C:\\\\Users\\\\amoda\\\\Documents\\\\SPARK\\\\BraTS2023\\\\Data\\\\Samples\\\\BraTS-GLI-00002-000\\\\BraTS-GLI-00002-000-t2w.nii.gz', 'C:\\\\Users\\\\amoda\\\\Documents\\\\SPARK\\\\BraTS2023\\\\Data\\\\Samples\\\\BraTS-GLI-01035-000\\\\BraTS-GLI-01035-000-t1c.nii.gz', 'C:\\\\Users\\\\amoda\\\\Documents\\\\SPARK\\\\BraTS2023\\\\Data\\\\Samples\\\\BraTS-GLI-01035-000\\\\BraTS-GLI-01035-000-t1n.nii.gz', 'C:\\\\Users\\\\amoda\\\\Documents\\\\SPARK\\\\BraTS2023\\\\Data\\\\Samples\\\\BraTS-GLI-01035-000\\\\BraTS-GLI-01035-000-t2f.nii.gz', 'C:\\\\Users\\\\amoda\\\\Documents\\\\SPARK\\\\BraTS2023\\\\Data\\\\Samples\\\\BraTS-GLI-01035-000\\\\BraTS-GLI-01035-000-t2w.nii.gz', 'C:\\\\Users\\\\amoda\\\\Documents\\\\SPARK\\\\BraTS2023\\\\Data\\\\Samples\\\\BraTS-SSA-00002-000\\\\BraTS-SSA-00002-000-t1c.nii.gz', 'C:\\\\Users\\\\amoda\\\\Documents\\\\SPARK\\\\BraTS2023\\\\Data\\\\Samples\\\\BraTS-SSA-00002-000\\\\BraTS-SSA-00002-000-t1n.nii.gz', 'C:\\\\Users\\\\amoda\\\\Documents\\\\SPARK\\\\BraTS2023\\\\Data\\\\Samples\\\\BraTS-SSA-00002-000\\\\BraTS-SSA-00002-000-t2f.nii.gz', 'C:\\\\Users\\\\amoda\\\\Documents\\\\SPARK\\\\BraTS2023\\\\Data\\\\Samples\\\\BraTS-SSA-00002-000\\\\BraTS-SSA-00002-000-t2w.nii.gz', 'C:\\\\Users\\\\amoda\\\\Documents\\\\SPARK\\\\BraTS2023\\\\Data\\\\Samples\\\\BraTS-SSA-00002-000\\\\ssa002_t1.png', 'C:\\\\Users\\\\amoda\\\\Documents\\\\SPARK\\\\BraTS2023\\\\Data\\\\Samples\\\\BraTS-SSA-00046-000\\\\046_t2f.png', 'C:\\\\Users\\\\amoda\\\\Documents\\\\SPARK\\\\BraTS2023\\\\Data\\\\Samples\\\\BraTS-SSA-00046-000\\\\046_t2f_seg.png', 'C:\\\\Users\\\\amoda\\\\Documents\\\\SPARK\\\\BraTS2023\\\\Data\\\\Samples\\\\BraTS-SSA-00046-000\\\\BraTS-SSA-00046-000-t1c.nii.gz', 'C:\\\\Users\\\\amoda\\\\Documents\\\\SPARK\\\\BraTS2023\\\\Data\\\\Samples\\\\BraTS-SSA-00046-000\\\\BraTS-SSA-00046-000-t1n.nii.gz']\n",
      "['C:\\\\Users\\\\amoda\\\\Documents\\\\SPARK\\\\BraTS2023\\\\Data\\\\Samples\\\\BraTS-GLI-00002-000\\\\BraTS-GLI-00002-000-t1c.nii.gz', 'C:\\\\Users\\\\amoda\\\\Documents\\\\SPARK\\\\BraTS2023\\\\Data\\\\Samples\\\\BraTS-GLI-00002-000\\\\BraTS-GLI-00002-000-t1n.nii.gz', 'C:\\\\Users\\\\amoda\\\\Documents\\\\SPARK\\\\BraTS2023\\\\Data\\\\Samples\\\\BraTS-GLI-00002-000\\\\BraTS-GLI-00002-000-t2f.nii.gz', 'C:\\\\Users\\\\amoda\\\\Documents\\\\SPARK\\\\BraTS2023\\\\Data\\\\Samples\\\\BraTS-GLI-00002-000\\\\BraTS-GLI-00002-000-t2w.nii.gz', 'C:\\\\Users\\\\amoda\\\\Documents\\\\SPARK\\\\BraTS2023\\\\Data\\\\Samples\\\\BraTS-GLI-01035-000\\\\BraTS-GLI-01035-000-t1c.nii.gz', 'C:\\\\Users\\\\amoda\\\\Documents\\\\SPARK\\\\BraTS2023\\\\Data\\\\Samples\\\\BraTS-GLI-01035-000\\\\BraTS-GLI-01035-000-t1n.nii.gz', 'C:\\\\Users\\\\amoda\\\\Documents\\\\SPARK\\\\BraTS2023\\\\Data\\\\Samples\\\\BraTS-GLI-01035-000\\\\BraTS-GLI-01035-000-t2f.nii.gz', 'C:\\\\Users\\\\amoda\\\\Documents\\\\SPARK\\\\BraTS2023\\\\Data\\\\Samples\\\\BraTS-GLI-01035-000\\\\BraTS-GLI-01035-000-t2w.nii.gz', 'C:\\\\Users\\\\amoda\\\\Documents\\\\SPARK\\\\BraTS2023\\\\Data\\\\Samples\\\\BraTS-SSA-00002-000\\\\BraTS-SSA-00002-000-t1c.nii.gz', 'C:\\\\Users\\\\amoda\\\\Documents\\\\SPARK\\\\BraTS2023\\\\Data\\\\Samples\\\\BraTS-SSA-00002-000\\\\BraTS-SSA-00002-000-t1n.nii.gz', 'C:\\\\Users\\\\amoda\\\\Documents\\\\SPARK\\\\BraTS2023\\\\Data\\\\Samples\\\\BraTS-SSA-00002-000\\\\BraTS-SSA-00002-000-t2f.nii.gz', 'C:\\\\Users\\\\amoda\\\\Documents\\\\SPARK\\\\BraTS2023\\\\Data\\\\Samples\\\\BraTS-SSA-00002-000\\\\BraTS-SSA-00002-000-t2w.nii.gz', 'C:\\\\Users\\\\amoda\\\\Documents\\\\SPARK\\\\BraTS2023\\\\Data\\\\Samples\\\\BraTS-SSA-00002-000\\\\ssa002_t1.png', 'C:\\\\Users\\\\amoda\\\\Documents\\\\SPARK\\\\BraTS2023\\\\Data\\\\Samples\\\\BraTS-SSA-00046-000\\\\046_t2f.png', 'C:\\\\Users\\\\amoda\\\\Documents\\\\SPARK\\\\BraTS2023\\\\Data\\\\Samples\\\\BraTS-SSA-00046-000\\\\046_t2f_seg.png', 'C:\\\\Users\\\\amoda\\\\Documents\\\\SPARK\\\\BraTS2023\\\\Data\\\\Samples\\\\BraTS-SSA-00046-000\\\\BraTS-SSA-00046-000-t1c.nii.gz', 'C:\\\\Users\\\\amoda\\\\Documents\\\\SPARK\\\\BraTS2023\\\\Data\\\\Samples\\\\BraTS-SSA-00046-000\\\\BraTS-SSA-00046-000-t1n.nii.gz', 'C:\\\\Users\\\\amoda\\\\Documents\\\\SPARK\\\\BraTS2023\\\\Data\\\\Samples\\\\BraTS-SSA-00046-000\\\\BraTS-SSA-00046-000-t2f.nii.gz']\n",
      "['C:\\\\Users\\\\amoda\\\\Documents\\\\SPARK\\\\BraTS2023\\\\Data\\\\Samples\\\\BraTS-GLI-00002-000\\\\BraTS-GLI-00002-000-t1c.nii.gz', 'C:\\\\Users\\\\amoda\\\\Documents\\\\SPARK\\\\BraTS2023\\\\Data\\\\Samples\\\\BraTS-GLI-00002-000\\\\BraTS-GLI-00002-000-t1n.nii.gz', 'C:\\\\Users\\\\amoda\\\\Documents\\\\SPARK\\\\BraTS2023\\\\Data\\\\Samples\\\\BraTS-GLI-00002-000\\\\BraTS-GLI-00002-000-t2f.nii.gz', 'C:\\\\Users\\\\amoda\\\\Documents\\\\SPARK\\\\BraTS2023\\\\Data\\\\Samples\\\\BraTS-GLI-00002-000\\\\BraTS-GLI-00002-000-t2w.nii.gz', 'C:\\\\Users\\\\amoda\\\\Documents\\\\SPARK\\\\BraTS2023\\\\Data\\\\Samples\\\\BraTS-GLI-01035-000\\\\BraTS-GLI-01035-000-t1c.nii.gz', 'C:\\\\Users\\\\amoda\\\\Documents\\\\SPARK\\\\BraTS2023\\\\Data\\\\Samples\\\\BraTS-GLI-01035-000\\\\BraTS-GLI-01035-000-t1n.nii.gz', 'C:\\\\Users\\\\amoda\\\\Documents\\\\SPARK\\\\BraTS2023\\\\Data\\\\Samples\\\\BraTS-GLI-01035-000\\\\BraTS-GLI-01035-000-t2f.nii.gz', 'C:\\\\Users\\\\amoda\\\\Documents\\\\SPARK\\\\BraTS2023\\\\Data\\\\Samples\\\\BraTS-GLI-01035-000\\\\BraTS-GLI-01035-000-t2w.nii.gz', 'C:\\\\Users\\\\amoda\\\\Documents\\\\SPARK\\\\BraTS2023\\\\Data\\\\Samples\\\\BraTS-SSA-00002-000\\\\BraTS-SSA-00002-000-t1c.nii.gz', 'C:\\\\Users\\\\amoda\\\\Documents\\\\SPARK\\\\BraTS2023\\\\Data\\\\Samples\\\\BraTS-SSA-00002-000\\\\BraTS-SSA-00002-000-t1n.nii.gz', 'C:\\\\Users\\\\amoda\\\\Documents\\\\SPARK\\\\BraTS2023\\\\Data\\\\Samples\\\\BraTS-SSA-00002-000\\\\BraTS-SSA-00002-000-t2f.nii.gz', 'C:\\\\Users\\\\amoda\\\\Documents\\\\SPARK\\\\BraTS2023\\\\Data\\\\Samples\\\\BraTS-SSA-00002-000\\\\BraTS-SSA-00002-000-t2w.nii.gz', 'C:\\\\Users\\\\amoda\\\\Documents\\\\SPARK\\\\BraTS2023\\\\Data\\\\Samples\\\\BraTS-SSA-00002-000\\\\ssa002_t1.png', 'C:\\\\Users\\\\amoda\\\\Documents\\\\SPARK\\\\BraTS2023\\\\Data\\\\Samples\\\\BraTS-SSA-00046-000\\\\046_t2f.png', 'C:\\\\Users\\\\amoda\\\\Documents\\\\SPARK\\\\BraTS2023\\\\Data\\\\Samples\\\\BraTS-SSA-00046-000\\\\046_t2f_seg.png', 'C:\\\\Users\\\\amoda\\\\Documents\\\\SPARK\\\\BraTS2023\\\\Data\\\\Samples\\\\BraTS-SSA-00046-000\\\\BraTS-SSA-00046-000-t1c.nii.gz', 'C:\\\\Users\\\\amoda\\\\Documents\\\\SPARK\\\\BraTS2023\\\\Data\\\\Samples\\\\BraTS-SSA-00046-000\\\\BraTS-SSA-00046-000-t1n.nii.gz', 'C:\\\\Users\\\\amoda\\\\Documents\\\\SPARK\\\\BraTS2023\\\\Data\\\\Samples\\\\BraTS-SSA-00046-000\\\\BraTS-SSA-00046-000-t2f.nii.gz', 'C:\\\\Users\\\\amoda\\\\Documents\\\\SPARK\\\\BraTS2023\\\\Data\\\\Samples\\\\BraTS-SSA-00046-000\\\\BraTS-SSA-00046-000-t2w.nii.gz']\n",
      "Saving SubjIDs\n",
      "Generating stacked nifti files.\n"
     ]
    }
   ],
   "source": [
    "!python C:\\Users\\amoda\\Documents\\SPARK\\BraTS2023\\UNN_BraTS23\\scripts\\data_prep.py --prepoc_set training --task data_prep --data $pthAly --data_grp ATr\n"
   ]
  },
  {
   "cell_type": "code",
   "execution_count": 81,
   "metadata": {},
   "outputs": [
    {
     "data": {
      "text/plain": [
       "'C:\\\\Users\\\\amoda\\\\Documents\\\\SPARK\\\\BraTS2023\\\\UNN_BraTS23'"
      ]
     },
     "execution_count": 81,
     "metadata": {},
     "output_type": "execute_result"
    }
   ],
   "source": [
    "%pwd"
   ]
  },
  {
   "cell_type": "code",
   "execution_count": 82,
   "metadata": {},
   "outputs": [
    {
     "name": "stdout",
     "output_type": "stream",
     "text": [
      "C:\\Users\\amoda\\Documents\\SPARK\\BraTS2023\\UNN_BraTS23\\scripts\n"
     ]
    }
   ],
   "source": [
    "%cd C:\\Users\\amoda\\Documents\\SPARK\\BraTS2023\\UNN_BraTS23\\scripts"
   ]
  },
  {
   "cell_type": "code",
   "execution_count": 3,
   "metadata": {},
   "outputs": [
    {
     "name": "stdout",
     "output_type": "stream",
     "text": [
      "C:\\Users\\amoda\\Documents\\SPARK\\BraTS2023\\Data\\Samples\\\n",
      "Total folders:  10 \n",
      " Subjects:  ['ATr_prepoc', 'BraTS-GLI-00002-000', 'BraTS-GLI-01035-000', 'BraTS-SSA-00002-000', 'BraTS-SSA-00046-000', 'dataset.json', 'datasetFold.json', 'images_orig-ATr', 'labels_orig-ATr', 'subj_info.json']\n"
     ]
    }
   ],
   "source": [
    "import os\n",
    "# CHANGE data_dir path as per your local set up\n",
    "pthAlex = '/Users/alexandrasmith/Desktop/Workspace/Projects/UNN_BraTS23/data/ASNR-MICCAI-BraTS2023-SSA-Challenge-TrainingData/'\n",
    "pthAly = 'C:\\\\Users\\\\amoda\\\\Documents\\\\SPARK\\\\BraTS2023\\\\Data\\\\Samples\\\\'\n",
    "\n",
    "data_dir = pthAly\n",
    "print(data_dir)\n",
    "folders = os.listdir(data_dir)\n",
    "print(\"Total folders: \", len(folders), \"\\n Subjects: \",  folders)\n",
    "modalities = [\"t1c\", \"t1n\", \"t2f\", \"t2w\"]"
   ]
  },
  {
   "cell_type": "code",
   "execution_count": 10,
   "metadata": {},
   "outputs": [
    {
     "name": "stdout",
     "output_type": "stream",
     "text": [
      "BraTS-GLI-00002-000-seg.nii.gz\n"
     ]
    },
    {
     "data": {
      "text/plain": [
       "'BraTS-GLI-00002-000'"
      ]
     },
     "execution_count": 10,
     "metadata": {},
     "output_type": "execute_result"
    }
   ],
   "source": [
    "subj_dirs = sorted(os.listdir(data_dir))\n",
    "pth = 'C:\\\\Users\\\\amoda\\\\Documents\\\\SPARK\\\\BraTS2023\\\\Data\\\\Samples\\\\BraTS-GLI-00002-000\\\\BraTS-GLI-00002-000-seg.nii.gz'\n",
    "subj_dir_pth = os.path.basename(pth)\n",
    "print(subj_dir_pth)\n",
    "os.path.basename(os.path.dirname(pth))\n",
    "\n"
   ]
  },
  {
   "cell_type": "code",
   "execution_count": 151,
   "metadata": {},
   "outputs": [
    {
     "name": "stdout",
     "output_type": "stream",
     "text": [
      "Subj dir  C:\\Users\\amoda\\Documents\\SPARK\\BraTS2023\\Data\\Samples\\BraTS-GLI-00002-000\n",
      "File  BraTS-GLI-00002-000-seg.nii.gz\n",
      "Segment,  C:\\Users\\amoda\\Documents\\SPARK\\BraTS2023\\Data\\Samples\\BraTS-GLI-00002-000\\BraTS-GLI-00002-000-seg.nii.gz\n",
      "Modality:  C:\\Users\\amoda\\Documents\\SPARK\\BraTS2023\\Data\\Samples\\BraTS-GLI-00002-000\\BraTS-GLI-00002-000-t1c.nii.gz\n",
      "Modality:  C:\\Users\\amoda\\Documents\\SPARK\\BraTS2023\\Data\\Samples\\BraTS-GLI-00002-000\\BraTS-GLI-00002-000-t1n.nii.gz\n",
      "Modality:  C:\\Users\\amoda\\Documents\\SPARK\\BraTS2023\\Data\\Samples\\BraTS-GLI-00002-000\\BraTS-GLI-00002-000-t2f.nii.gz\n",
      "Modality:  C:\\Users\\amoda\\Documents\\SPARK\\BraTS2023\\Data\\Samples\\BraTS-GLI-00002-000\\BraTS-GLI-00002-000-t2w.nii.gz\n",
      "File  BraTS-GLI-00002-000-t1c.nii.gz\n",
      "Segment,  C:\\Users\\amoda\\Documents\\SPARK\\BraTS2023\\Data\\Samples\\BraTS-GLI-00002-000\\BraTS-GLI-00002-000-seg.nii.gz\n",
      "Modality:  C:\\Users\\amoda\\Documents\\SPARK\\BraTS2023\\Data\\Samples\\BraTS-GLI-00002-000\\BraTS-GLI-00002-000-t1c.nii.gz\n",
      "Modality:  C:\\Users\\amoda\\Documents\\SPARK\\BraTS2023\\Data\\Samples\\BraTS-GLI-00002-000\\BraTS-GLI-00002-000-t1n.nii.gz\n",
      "Modality:  C:\\Users\\amoda\\Documents\\SPARK\\BraTS2023\\Data\\Samples\\BraTS-GLI-00002-000\\BraTS-GLI-00002-000-t2f.nii.gz\n",
      "Modality:  C:\\Users\\amoda\\Documents\\SPARK\\BraTS2023\\Data\\Samples\\BraTS-GLI-00002-000\\BraTS-GLI-00002-000-t2w.nii.gz\n",
      "File  BraTS-GLI-00002-000-t1n.nii.gz\n",
      "Segment,  C:\\Users\\amoda\\Documents\\SPARK\\BraTS2023\\Data\\Samples\\BraTS-GLI-00002-000\\BraTS-GLI-00002-000-seg.nii.gz\n",
      "Modality:  C:\\Users\\amoda\\Documents\\SPARK\\BraTS2023\\Data\\Samples\\BraTS-GLI-00002-000\\BraTS-GLI-00002-000-t1c.nii.gz\n",
      "Modality:  C:\\Users\\amoda\\Documents\\SPARK\\BraTS2023\\Data\\Samples\\BraTS-GLI-00002-000\\BraTS-GLI-00002-000-t1n.nii.gz\n",
      "Modality:  C:\\Users\\amoda\\Documents\\SPARK\\BraTS2023\\Data\\Samples\\BraTS-GLI-00002-000\\BraTS-GLI-00002-000-t2f.nii.gz\n",
      "Modality:  C:\\Users\\amoda\\Documents\\SPARK\\BraTS2023\\Data\\Samples\\BraTS-GLI-00002-000\\BraTS-GLI-00002-000-t2w.nii.gz\n",
      "File  BraTS-GLI-00002-000-t2f.nii.gz\n",
      "Segment,  C:\\Users\\amoda\\Documents\\SPARK\\BraTS2023\\Data\\Samples\\BraTS-GLI-00002-000\\BraTS-GLI-00002-000-seg.nii.gz\n",
      "Modality:  C:\\Users\\amoda\\Documents\\SPARK\\BraTS2023\\Data\\Samples\\BraTS-GLI-00002-000\\BraTS-GLI-00002-000-t1c.nii.gz\n",
      "Modality:  C:\\Users\\amoda\\Documents\\SPARK\\BraTS2023\\Data\\Samples\\BraTS-GLI-00002-000\\BraTS-GLI-00002-000-t1n.nii.gz\n",
      "Modality:  C:\\Users\\amoda\\Documents\\SPARK\\BraTS2023\\Data\\Samples\\BraTS-GLI-00002-000\\BraTS-GLI-00002-000-t2f.nii.gz\n",
      "Modality:  C:\\Users\\amoda\\Documents\\SPARK\\BraTS2023\\Data\\Samples\\BraTS-GLI-00002-000\\BraTS-GLI-00002-000-t2w.nii.gz\n",
      "File  BraTS-GLI-00002-000-t2w.nii.gz\n",
      "Segment,  C:\\Users\\amoda\\Documents\\SPARK\\BraTS2023\\Data\\Samples\\BraTS-GLI-00002-000\\BraTS-GLI-00002-000-seg.nii.gz\n",
      "Modality:  C:\\Users\\amoda\\Documents\\SPARK\\BraTS2023\\Data\\Samples\\BraTS-GLI-00002-000\\BraTS-GLI-00002-000-t1c.nii.gz\n",
      "Modality:  C:\\Users\\amoda\\Documents\\SPARK\\BraTS2023\\Data\\Samples\\BraTS-GLI-00002-000\\BraTS-GLI-00002-000-t1n.nii.gz\n",
      "Modality:  C:\\Users\\amoda\\Documents\\SPARK\\BraTS2023\\Data\\Samples\\BraTS-GLI-00002-000\\BraTS-GLI-00002-000-t2f.nii.gz\n",
      "Modality:  C:\\Users\\amoda\\Documents\\SPARK\\BraTS2023\\Data\\Samples\\BraTS-GLI-00002-000\\BraTS-GLI-00002-000-t2w.nii.gz\n",
      "Subj dir  C:\\Users\\amoda\\Documents\\SPARK\\BraTS2023\\Data\\Samples\\BraTS-GLI-01035-000\n",
      "File  BraTS-GLI-01035-000-seg.nii.gz\n",
      "Segment,  C:\\Users\\amoda\\Documents\\SPARK\\BraTS2023\\Data\\Samples\\BraTS-GLI-01035-000\\BraTS-GLI-01035-000-seg.nii.gz\n",
      "Modality:  C:\\Users\\amoda\\Documents\\SPARK\\BraTS2023\\Data\\Samples\\BraTS-GLI-01035-000\\BraTS-GLI-01035-000-t1c.nii.gz\n",
      "Modality:  C:\\Users\\amoda\\Documents\\SPARK\\BraTS2023\\Data\\Samples\\BraTS-GLI-01035-000\\BraTS-GLI-01035-000-t1n.nii.gz\n",
      "Modality:  C:\\Users\\amoda\\Documents\\SPARK\\BraTS2023\\Data\\Samples\\BraTS-GLI-01035-000\\BraTS-GLI-01035-000-t2f.nii.gz\n",
      "Modality:  C:\\Users\\amoda\\Documents\\SPARK\\BraTS2023\\Data\\Samples\\BraTS-GLI-01035-000\\BraTS-GLI-01035-000-t2w.nii.gz\n",
      "File  BraTS-GLI-01035-000-t1c.nii.gz\n",
      "Segment,  C:\\Users\\amoda\\Documents\\SPARK\\BraTS2023\\Data\\Samples\\BraTS-GLI-01035-000\\BraTS-GLI-01035-000-seg.nii.gz\n",
      "Modality:  C:\\Users\\amoda\\Documents\\SPARK\\BraTS2023\\Data\\Samples\\BraTS-GLI-01035-000\\BraTS-GLI-01035-000-t1c.nii.gz\n",
      "Modality:  C:\\Users\\amoda\\Documents\\SPARK\\BraTS2023\\Data\\Samples\\BraTS-GLI-01035-000\\BraTS-GLI-01035-000-t1n.nii.gz\n",
      "Modality:  C:\\Users\\amoda\\Documents\\SPARK\\BraTS2023\\Data\\Samples\\BraTS-GLI-01035-000\\BraTS-GLI-01035-000-t2f.nii.gz\n",
      "Modality:  C:\\Users\\amoda\\Documents\\SPARK\\BraTS2023\\Data\\Samples\\BraTS-GLI-01035-000\\BraTS-GLI-01035-000-t2w.nii.gz\n",
      "File  BraTS-GLI-01035-000-t1n.nii.gz\n",
      "Segment,  C:\\Users\\amoda\\Documents\\SPARK\\BraTS2023\\Data\\Samples\\BraTS-GLI-01035-000\\BraTS-GLI-01035-000-seg.nii.gz\n",
      "Modality:  C:\\Users\\amoda\\Documents\\SPARK\\BraTS2023\\Data\\Samples\\BraTS-GLI-01035-000\\BraTS-GLI-01035-000-t1c.nii.gz\n",
      "Modality:  C:\\Users\\amoda\\Documents\\SPARK\\BraTS2023\\Data\\Samples\\BraTS-GLI-01035-000\\BraTS-GLI-01035-000-t1n.nii.gz\n",
      "Modality:  C:\\Users\\amoda\\Documents\\SPARK\\BraTS2023\\Data\\Samples\\BraTS-GLI-01035-000\\BraTS-GLI-01035-000-t2f.nii.gz\n",
      "Modality:  C:\\Users\\amoda\\Documents\\SPARK\\BraTS2023\\Data\\Samples\\BraTS-GLI-01035-000\\BraTS-GLI-01035-000-t2w.nii.gz\n",
      "File  BraTS-GLI-01035-000-t2f.nii.gz\n",
      "Segment,  C:\\Users\\amoda\\Documents\\SPARK\\BraTS2023\\Data\\Samples\\BraTS-GLI-01035-000\\BraTS-GLI-01035-000-seg.nii.gz\n",
      "Modality:  C:\\Users\\amoda\\Documents\\SPARK\\BraTS2023\\Data\\Samples\\BraTS-GLI-01035-000\\BraTS-GLI-01035-000-t1c.nii.gz\n",
      "Modality:  C:\\Users\\amoda\\Documents\\SPARK\\BraTS2023\\Data\\Samples\\BraTS-GLI-01035-000\\BraTS-GLI-01035-000-t1n.nii.gz\n",
      "Modality:  C:\\Users\\amoda\\Documents\\SPARK\\BraTS2023\\Data\\Samples\\BraTS-GLI-01035-000\\BraTS-GLI-01035-000-t2f.nii.gz\n",
      "Modality:  C:\\Users\\amoda\\Documents\\SPARK\\BraTS2023\\Data\\Samples\\BraTS-GLI-01035-000\\BraTS-GLI-01035-000-t2w.nii.gz\n",
      "File  BraTS-GLI-01035-000-t2w.nii.gz\n",
      "Segment,  C:\\Users\\amoda\\Documents\\SPARK\\BraTS2023\\Data\\Samples\\BraTS-GLI-01035-000\\BraTS-GLI-01035-000-seg.nii.gz\n",
      "Modality:  C:\\Users\\amoda\\Documents\\SPARK\\BraTS2023\\Data\\Samples\\BraTS-GLI-01035-000\\BraTS-GLI-01035-000-t1c.nii.gz\n",
      "Modality:  C:\\Users\\amoda\\Documents\\SPARK\\BraTS2023\\Data\\Samples\\BraTS-GLI-01035-000\\BraTS-GLI-01035-000-t1n.nii.gz\n",
      "Modality:  C:\\Users\\amoda\\Documents\\SPARK\\BraTS2023\\Data\\Samples\\BraTS-GLI-01035-000\\BraTS-GLI-01035-000-t2f.nii.gz\n",
      "Modality:  C:\\Users\\amoda\\Documents\\SPARK\\BraTS2023\\Data\\Samples\\BraTS-GLI-01035-000\\BraTS-GLI-01035-000-t2w.nii.gz\n",
      "Subj dir  C:\\Users\\amoda\\Documents\\SPARK\\BraTS2023\\Data\\Samples\\BraTS-SSA-00002-000\n",
      "File  BraTS-SSA-00002-000-seg.nii.gz\n",
      "Segment,  C:\\Users\\amoda\\Documents\\SPARK\\BraTS2023\\Data\\Samples\\BraTS-SSA-00002-000\\BraTS-SSA-00002-000-seg.nii.gz\n",
      "Modality:  C:\\Users\\amoda\\Documents\\SPARK\\BraTS2023\\Data\\Samples\\BraTS-SSA-00002-000\\BraTS-SSA-00002-000-t1c.nii.gz\n",
      "Modality:  C:\\Users\\amoda\\Documents\\SPARK\\BraTS2023\\Data\\Samples\\BraTS-SSA-00002-000\\BraTS-SSA-00002-000-t1n.nii.gz\n",
      "Modality:  C:\\Users\\amoda\\Documents\\SPARK\\BraTS2023\\Data\\Samples\\BraTS-SSA-00002-000\\BraTS-SSA-00002-000-t2f.nii.gz\n",
      "Modality:  C:\\Users\\amoda\\Documents\\SPARK\\BraTS2023\\Data\\Samples\\BraTS-SSA-00002-000\\BraTS-SSA-00002-000-t2w.nii.gz\n",
      "Modality:  C:\\Users\\amoda\\Documents\\SPARK\\BraTS2023\\Data\\Samples\\BraTS-SSA-00002-000\\ssa002_t1.png\n",
      "File  BraTS-SSA-00002-000-t1c.nii.gz\n",
      "Segment,  C:\\Users\\amoda\\Documents\\SPARK\\BraTS2023\\Data\\Samples\\BraTS-SSA-00002-000\\BraTS-SSA-00002-000-seg.nii.gz\n",
      "Modality:  C:\\Users\\amoda\\Documents\\SPARK\\BraTS2023\\Data\\Samples\\BraTS-SSA-00002-000\\BraTS-SSA-00002-000-t1c.nii.gz\n",
      "Modality:  C:\\Users\\amoda\\Documents\\SPARK\\BraTS2023\\Data\\Samples\\BraTS-SSA-00002-000\\BraTS-SSA-00002-000-t1n.nii.gz\n",
      "Modality:  C:\\Users\\amoda\\Documents\\SPARK\\BraTS2023\\Data\\Samples\\BraTS-SSA-00002-000\\BraTS-SSA-00002-000-t2f.nii.gz\n",
      "Modality:  C:\\Users\\amoda\\Documents\\SPARK\\BraTS2023\\Data\\Samples\\BraTS-SSA-00002-000\\BraTS-SSA-00002-000-t2w.nii.gz\n",
      "Modality:  C:\\Users\\amoda\\Documents\\SPARK\\BraTS2023\\Data\\Samples\\BraTS-SSA-00002-000\\ssa002_t1.png\n",
      "File  BraTS-SSA-00002-000-t1n.nii.gz\n",
      "Segment,  C:\\Users\\amoda\\Documents\\SPARK\\BraTS2023\\Data\\Samples\\BraTS-SSA-00002-000\\BraTS-SSA-00002-000-seg.nii.gz\n",
      "Modality:  C:\\Users\\amoda\\Documents\\SPARK\\BraTS2023\\Data\\Samples\\BraTS-SSA-00002-000\\BraTS-SSA-00002-000-t1c.nii.gz\n",
      "Modality:  C:\\Users\\amoda\\Documents\\SPARK\\BraTS2023\\Data\\Samples\\BraTS-SSA-00002-000\\BraTS-SSA-00002-000-t1n.nii.gz\n",
      "Modality:  C:\\Users\\amoda\\Documents\\SPARK\\BraTS2023\\Data\\Samples\\BraTS-SSA-00002-000\\BraTS-SSA-00002-000-t2f.nii.gz\n",
      "Modality:  C:\\Users\\amoda\\Documents\\SPARK\\BraTS2023\\Data\\Samples\\BraTS-SSA-00002-000\\BraTS-SSA-00002-000-t2w.nii.gz\n",
      "Modality:  C:\\Users\\amoda\\Documents\\SPARK\\BraTS2023\\Data\\Samples\\BraTS-SSA-00002-000\\ssa002_t1.png\n",
      "File  BraTS-SSA-00002-000-t2f.nii.gz\n",
      "Segment,  C:\\Users\\amoda\\Documents\\SPARK\\BraTS2023\\Data\\Samples\\BraTS-SSA-00002-000\\BraTS-SSA-00002-000-seg.nii.gz\n",
      "Modality:  C:\\Users\\amoda\\Documents\\SPARK\\BraTS2023\\Data\\Samples\\BraTS-SSA-00002-000\\BraTS-SSA-00002-000-t1c.nii.gz\n",
      "Modality:  C:\\Users\\amoda\\Documents\\SPARK\\BraTS2023\\Data\\Samples\\BraTS-SSA-00002-000\\BraTS-SSA-00002-000-t1n.nii.gz\n",
      "Modality:  C:\\Users\\amoda\\Documents\\SPARK\\BraTS2023\\Data\\Samples\\BraTS-SSA-00002-000\\BraTS-SSA-00002-000-t2f.nii.gz\n",
      "Modality:  C:\\Users\\amoda\\Documents\\SPARK\\BraTS2023\\Data\\Samples\\BraTS-SSA-00002-000\\BraTS-SSA-00002-000-t2w.nii.gz\n",
      "Modality:  C:\\Users\\amoda\\Documents\\SPARK\\BraTS2023\\Data\\Samples\\BraTS-SSA-00002-000\\ssa002_t1.png\n",
      "File  BraTS-SSA-00002-000-t2w.nii.gz\n",
      "Segment,  C:\\Users\\amoda\\Documents\\SPARK\\BraTS2023\\Data\\Samples\\BraTS-SSA-00002-000\\BraTS-SSA-00002-000-seg.nii.gz\n",
      "Modality:  C:\\Users\\amoda\\Documents\\SPARK\\BraTS2023\\Data\\Samples\\BraTS-SSA-00002-000\\BraTS-SSA-00002-000-t1c.nii.gz\n",
      "Modality:  C:\\Users\\amoda\\Documents\\SPARK\\BraTS2023\\Data\\Samples\\BraTS-SSA-00002-000\\BraTS-SSA-00002-000-t1n.nii.gz\n",
      "Modality:  C:\\Users\\amoda\\Documents\\SPARK\\BraTS2023\\Data\\Samples\\BraTS-SSA-00002-000\\BraTS-SSA-00002-000-t2f.nii.gz\n",
      "Modality:  C:\\Users\\amoda\\Documents\\SPARK\\BraTS2023\\Data\\Samples\\BraTS-SSA-00002-000\\BraTS-SSA-00002-000-t2w.nii.gz\n",
      "Modality:  C:\\Users\\amoda\\Documents\\SPARK\\BraTS2023\\Data\\Samples\\BraTS-SSA-00002-000\\ssa002_t1.png\n",
      "File  ssa002_t1.png\n",
      "Segment,  C:\\Users\\amoda\\Documents\\SPARK\\BraTS2023\\Data\\Samples\\BraTS-SSA-00002-000\\BraTS-SSA-00002-000-seg.nii.gz\n",
      "Modality:  C:\\Users\\amoda\\Documents\\SPARK\\BraTS2023\\Data\\Samples\\BraTS-SSA-00002-000\\BraTS-SSA-00002-000-t1c.nii.gz\n",
      "Modality:  C:\\Users\\amoda\\Documents\\SPARK\\BraTS2023\\Data\\Samples\\BraTS-SSA-00002-000\\BraTS-SSA-00002-000-t1n.nii.gz\n",
      "Modality:  C:\\Users\\amoda\\Documents\\SPARK\\BraTS2023\\Data\\Samples\\BraTS-SSA-00002-000\\BraTS-SSA-00002-000-t2f.nii.gz\n",
      "Modality:  C:\\Users\\amoda\\Documents\\SPARK\\BraTS2023\\Data\\Samples\\BraTS-SSA-00002-000\\BraTS-SSA-00002-000-t2w.nii.gz\n",
      "Modality:  C:\\Users\\amoda\\Documents\\SPARK\\BraTS2023\\Data\\Samples\\BraTS-SSA-00002-000\\ssa002_t1.png\n",
      "Subj dir  C:\\Users\\amoda\\Documents\\SPARK\\BraTS2023\\Data\\Samples\\BraTS-SSA-00046-000\n",
      "File  046_t2f.png\n",
      "Modality:  C:\\Users\\amoda\\Documents\\SPARK\\BraTS2023\\Data\\Samples\\BraTS-SSA-00046-000\\046_t2f.png\n",
      "Modality:  C:\\Users\\amoda\\Documents\\SPARK\\BraTS2023\\Data\\Samples\\BraTS-SSA-00046-000\\046_t2f_seg.png\n",
      "Segment,  C:\\Users\\amoda\\Documents\\SPARK\\BraTS2023\\Data\\Samples\\BraTS-SSA-00046-000\\BraTS-SSA-00046-000-seg.nii.gz\n",
      "Modality:  C:\\Users\\amoda\\Documents\\SPARK\\BraTS2023\\Data\\Samples\\BraTS-SSA-00046-000\\BraTS-SSA-00046-000-t1c.nii.gz\n",
      "Modality:  C:\\Users\\amoda\\Documents\\SPARK\\BraTS2023\\Data\\Samples\\BraTS-SSA-00046-000\\BraTS-SSA-00046-000-t1n.nii.gz\n",
      "Modality:  C:\\Users\\amoda\\Documents\\SPARK\\BraTS2023\\Data\\Samples\\BraTS-SSA-00046-000\\BraTS-SSA-00046-000-t2f.nii.gz\n",
      "Modality:  C:\\Users\\amoda\\Documents\\SPARK\\BraTS2023\\Data\\Samples\\BraTS-SSA-00046-000\\BraTS-SSA-00046-000-t2w.nii.gz\n",
      "File  046_t2f_seg.png\n",
      "Modality:  C:\\Users\\amoda\\Documents\\SPARK\\BraTS2023\\Data\\Samples\\BraTS-SSA-00046-000\\046_t2f.png\n",
      "Modality:  C:\\Users\\amoda\\Documents\\SPARK\\BraTS2023\\Data\\Samples\\BraTS-SSA-00046-000\\046_t2f_seg.png\n",
      "Segment,  C:\\Users\\amoda\\Documents\\SPARK\\BraTS2023\\Data\\Samples\\BraTS-SSA-00046-000\\BraTS-SSA-00046-000-seg.nii.gz\n",
      "Modality:  C:\\Users\\amoda\\Documents\\SPARK\\BraTS2023\\Data\\Samples\\BraTS-SSA-00046-000\\BraTS-SSA-00046-000-t1c.nii.gz\n",
      "Modality:  C:\\Users\\amoda\\Documents\\SPARK\\BraTS2023\\Data\\Samples\\BraTS-SSA-00046-000\\BraTS-SSA-00046-000-t1n.nii.gz\n",
      "Modality:  C:\\Users\\amoda\\Documents\\SPARK\\BraTS2023\\Data\\Samples\\BraTS-SSA-00046-000\\BraTS-SSA-00046-000-t2f.nii.gz\n",
      "Modality:  C:\\Users\\amoda\\Documents\\SPARK\\BraTS2023\\Data\\Samples\\BraTS-SSA-00046-000\\BraTS-SSA-00046-000-t2w.nii.gz\n",
      "File  BraTS-SSA-00046-000-seg.nii.gz\n",
      "Modality:  C:\\Users\\amoda\\Documents\\SPARK\\BraTS2023\\Data\\Samples\\BraTS-SSA-00046-000\\046_t2f.png\n",
      "Modality:  C:\\Users\\amoda\\Documents\\SPARK\\BraTS2023\\Data\\Samples\\BraTS-SSA-00046-000\\046_t2f_seg.png\n",
      "Segment,  C:\\Users\\amoda\\Documents\\SPARK\\BraTS2023\\Data\\Samples\\BraTS-SSA-00046-000\\BraTS-SSA-00046-000-seg.nii.gz\n",
      "Modality:  C:\\Users\\amoda\\Documents\\SPARK\\BraTS2023\\Data\\Samples\\BraTS-SSA-00046-000\\BraTS-SSA-00046-000-t1c.nii.gz\n",
      "Modality:  C:\\Users\\amoda\\Documents\\SPARK\\BraTS2023\\Data\\Samples\\BraTS-SSA-00046-000\\BraTS-SSA-00046-000-t1n.nii.gz\n",
      "Modality:  C:\\Users\\amoda\\Documents\\SPARK\\BraTS2023\\Data\\Samples\\BraTS-SSA-00046-000\\BraTS-SSA-00046-000-t2f.nii.gz\n",
      "Modality:  C:\\Users\\amoda\\Documents\\SPARK\\BraTS2023\\Data\\Samples\\BraTS-SSA-00046-000\\BraTS-SSA-00046-000-t2w.nii.gz\n",
      "File  BraTS-SSA-00046-000-t1c.nii.gz\n",
      "Modality:  C:\\Users\\amoda\\Documents\\SPARK\\BraTS2023\\Data\\Samples\\BraTS-SSA-00046-000\\046_t2f.png\n",
      "Modality:  C:\\Users\\amoda\\Documents\\SPARK\\BraTS2023\\Data\\Samples\\BraTS-SSA-00046-000\\046_t2f_seg.png\n",
      "Segment,  C:\\Users\\amoda\\Documents\\SPARK\\BraTS2023\\Data\\Samples\\BraTS-SSA-00046-000\\BraTS-SSA-00046-000-seg.nii.gz\n",
      "Modality:  C:\\Users\\amoda\\Documents\\SPARK\\BraTS2023\\Data\\Samples\\BraTS-SSA-00046-000\\BraTS-SSA-00046-000-t1c.nii.gz\n",
      "Modality:  C:\\Users\\amoda\\Documents\\SPARK\\BraTS2023\\Data\\Samples\\BraTS-SSA-00046-000\\BraTS-SSA-00046-000-t1n.nii.gz\n",
      "Modality:  C:\\Users\\amoda\\Documents\\SPARK\\BraTS2023\\Data\\Samples\\BraTS-SSA-00046-000\\BraTS-SSA-00046-000-t2f.nii.gz\n",
      "Modality:  C:\\Users\\amoda\\Documents\\SPARK\\BraTS2023\\Data\\Samples\\BraTS-SSA-00046-000\\BraTS-SSA-00046-000-t2w.nii.gz\n",
      "File  BraTS-SSA-00046-000-t1n.nii.gz\n",
      "Modality:  C:\\Users\\amoda\\Documents\\SPARK\\BraTS2023\\Data\\Samples\\BraTS-SSA-00046-000\\046_t2f.png\n",
      "Modality:  C:\\Users\\amoda\\Documents\\SPARK\\BraTS2023\\Data\\Samples\\BraTS-SSA-00046-000\\046_t2f_seg.png\n",
      "Segment,  C:\\Users\\amoda\\Documents\\SPARK\\BraTS2023\\Data\\Samples\\BraTS-SSA-00046-000\\BraTS-SSA-00046-000-seg.nii.gz\n",
      "Modality:  C:\\Users\\amoda\\Documents\\SPARK\\BraTS2023\\Data\\Samples\\BraTS-SSA-00046-000\\BraTS-SSA-00046-000-t1c.nii.gz\n",
      "Modality:  C:\\Users\\amoda\\Documents\\SPARK\\BraTS2023\\Data\\Samples\\BraTS-SSA-00046-000\\BraTS-SSA-00046-000-t1n.nii.gz\n",
      "Modality:  C:\\Users\\amoda\\Documents\\SPARK\\BraTS2023\\Data\\Samples\\BraTS-SSA-00046-000\\BraTS-SSA-00046-000-t2f.nii.gz\n",
      "Modality:  C:\\Users\\amoda\\Documents\\SPARK\\BraTS2023\\Data\\Samples\\BraTS-SSA-00046-000\\BraTS-SSA-00046-000-t2w.nii.gz\n",
      "File  BraTS-SSA-00046-000-t2f.nii.gz\n",
      "Modality:  C:\\Users\\amoda\\Documents\\SPARK\\BraTS2023\\Data\\Samples\\BraTS-SSA-00046-000\\046_t2f.png\n",
      "Modality:  C:\\Users\\amoda\\Documents\\SPARK\\BraTS2023\\Data\\Samples\\BraTS-SSA-00046-000\\046_t2f_seg.png\n",
      "Segment,  C:\\Users\\amoda\\Documents\\SPARK\\BraTS2023\\Data\\Samples\\BraTS-SSA-00046-000\\BraTS-SSA-00046-000-seg.nii.gz\n",
      "Modality:  C:\\Users\\amoda\\Documents\\SPARK\\BraTS2023\\Data\\Samples\\BraTS-SSA-00046-000\\BraTS-SSA-00046-000-t1c.nii.gz\n",
      "Modality:  C:\\Users\\amoda\\Documents\\SPARK\\BraTS2023\\Data\\Samples\\BraTS-SSA-00046-000\\BraTS-SSA-00046-000-t1n.nii.gz\n",
      "Modality:  C:\\Users\\amoda\\Documents\\SPARK\\BraTS2023\\Data\\Samples\\BraTS-SSA-00046-000\\BraTS-SSA-00046-000-t2f.nii.gz\n",
      "Modality:  C:\\Users\\amoda\\Documents\\SPARK\\BraTS2023\\Data\\Samples\\BraTS-SSA-00046-000\\BraTS-SSA-00046-000-t2w.nii.gz\n",
      "File  BraTS-SSA-00046-000-t2w.nii.gz\n",
      "Modality:  C:\\Users\\amoda\\Documents\\SPARK\\BraTS2023\\Data\\Samples\\BraTS-SSA-00046-000\\046_t2f.png\n",
      "Modality:  C:\\Users\\amoda\\Documents\\SPARK\\BraTS2023\\Data\\Samples\\BraTS-SSA-00046-000\\046_t2f_seg.png\n",
      "Segment,  C:\\Users\\amoda\\Documents\\SPARK\\BraTS2023\\Data\\Samples\\BraTS-SSA-00046-000\\BraTS-SSA-00046-000-seg.nii.gz\n",
      "Modality:  C:\\Users\\amoda\\Documents\\SPARK\\BraTS2023\\Data\\Samples\\BraTS-SSA-00046-000\\BraTS-SSA-00046-000-t1c.nii.gz\n",
      "Modality:  C:\\Users\\amoda\\Documents\\SPARK\\BraTS2023\\Data\\Samples\\BraTS-SSA-00046-000\\BraTS-SSA-00046-000-t1n.nii.gz\n",
      "Modality:  C:\\Users\\amoda\\Documents\\SPARK\\BraTS2023\\Data\\Samples\\BraTS-SSA-00046-000\\BraTS-SSA-00046-000-t2f.nii.gz\n",
      "Modality:  C:\\Users\\amoda\\Documents\\SPARK\\BraTS2023\\Data\\Samples\\BraTS-SSA-00046-000\\BraTS-SSA-00046-000-t2w.nii.gz\n"
     ]
    }
   ],
   "source": [
    "for subj in sorted(os.listdir(data_dir)):\n",
    "    # run through each subjectID folder\n",
    "    subj_dir = os.path.join(data_dir, subj)\n",
    "    print(\"Subj dir \", subj_dir)\n",
    "    for file in os.listdir(subj_dir):\n",
    "        print(\"File \",file)\n",
    "        for file in os.listdir(subj_dir):\n",
    "            # check folder contents\n",
    "            if os.path.isfile(os.path.join(subj_dir, file)):\n",
    "                # Save original segmentation mask (file path)\n",
    "                if file.endswith(\"-seg.nii.gz\"):\n",
    "                    print(\"Segment, \",os.path.join(subj_dir, file))\n",
    "                elif [file.endswith(f\"-{m}.nii.gz\") for m in modalities]:\n",
    "                    # Save original image (file path)\n",
    "                    print(\"Modality: \", os.path.join(subj_dir, file))\n"
   ]
  },
  {
   "cell_type": "code",
   "execution_count": 119,
   "metadata": {},
   "outputs": [
    {
     "name": "stdout",
     "output_type": "stream",
     "text": [
      "Beginning Preprocessing.\n"
     ]
    },
    {
     "name": "stderr",
     "output_type": "stream",
     "text": [
      "A subdirectory or file C:\\Users\\amoda\\Documents\\SPARK\\BraTS2023\\Data\\Samples\\ATr_prepoc already exists.\n",
      "Traceback (most recent call last):\n",
      "  File \"C:\\Users\\amoda\\Documents\\SPARK\\BraTS2023\\UNN_BraTS23\\scripts\\data_prep.py\", line 268, in <module>\n",
      "    main()\n",
      "  File \"C:\\Users\\amoda\\Documents\\SPARK\\BraTS2023\\UNN_BraTS23\\scripts\\data_prep.py\", line 262, in main\n",
      "    preprocess_data(origData, args)\n",
      "  File \"C:\\Users\\amoda\\Documents\\SPARK\\BraTS2023\\UNN_BraTS23\\scripts\\data_prep.py\", line 232, in preprocess_data\n",
      "    apply_trans, preproc_trans = transforms_preproc(img, mask, args.ohe, args.target_shape)\n",
      "UnboundLocalError: local variable 'img' referenced before assignment\n"
     ]
    }
   ],
   "source": [
    "!python C:\\Users\\amoda\\Documents\\SPARK\\BraTS2023\\UNN_BraTS23\\scripts\\data_prep.py --prepoc_set training --task data_prep --data $pthAly --data_grp ATr\n"
   ]
  },
  {
   "cell_type": "code",
   "execution_count": 91,
   "metadata": {},
   "outputs": [
    {
     "name": "stdout",
     "output_type": "stream",
     "text": [
      "C:\\Users\\amoda\\Documents\\SPARK\\BraTS2023\\Data\\Samples\\\n",
      "['BraTS-GLI-00002-000', 'BraTS-GLI-01035-000', 'BraTS-SSA-00002-000', 'BraTS-SSA-00046-000', 'images_orig-ATr', 'labels_orig-ATr']\n",
      "['dataset.json', 'datasetFold.json', 'subj_info.json']\n",
      "C:\\Users\\amoda\\Documents\\SPARK\\BraTS2023\\Data\\Samples\\BraTS-GLI-00002-000\n",
      "[]\n",
      "['BraTS-GLI-00002-000-seg.nii.gz', 'BraTS-GLI-00002-000-t1c.nii.gz', 'BraTS-GLI-00002-000-t1n.nii.gz', 'BraTS-GLI-00002-000-t2f.nii.gz', 'BraTS-GLI-00002-000-t2w.nii.gz']\n",
      "C:\\Users\\amoda\\Documents\\SPARK\\BraTS2023\\Data\\Samples\\BraTS-GLI-01035-000\n",
      "[]\n",
      "['BraTS-GLI-01035-000-seg.nii.gz', 'BraTS-GLI-01035-000-t1c.nii.gz', 'BraTS-GLI-01035-000-t1n.nii.gz', 'BraTS-GLI-01035-000-t2f.nii.gz', 'BraTS-GLI-01035-000-t2w.nii.gz']\n",
      "C:\\Users\\amoda\\Documents\\SPARK\\BraTS2023\\Data\\Samples\\BraTS-SSA-00002-000\n",
      "[]\n",
      "['BraTS-SSA-00002-000-seg.nii.gz', 'BraTS-SSA-00002-000-t1c.nii.gz', 'BraTS-SSA-00002-000-t1n.nii.gz', 'BraTS-SSA-00002-000-t2f.nii.gz', 'BraTS-SSA-00002-000-t2w.nii.gz', 'ssa002_t1.png']\n",
      "C:\\Users\\amoda\\Documents\\SPARK\\BraTS2023\\Data\\Samples\\BraTS-SSA-00046-000\n",
      "[]\n",
      "['046_t2f.png', '046_t2f_seg.png', 'BraTS-SSA-00046-000-seg.nii.gz', 'BraTS-SSA-00046-000-t1c.nii.gz', 'BraTS-SSA-00046-000-t1n.nii.gz', 'BraTS-SSA-00046-000-t2f.nii.gz', 'BraTS-SSA-00046-000-t2w.nii.gz']\n",
      "C:\\Users\\amoda\\Documents\\SPARK\\BraTS2023\\Data\\Samples\\images_orig-ATr\n",
      "[]\n",
      "[]\n",
      "C:\\Users\\amoda\\Documents\\SPARK\\BraTS2023\\Data\\Samples\\labels_orig-ATr\n",
      "[]\n",
      "[]\n"
     ]
    }
   ],
   "source": [
    "imgPth = ['C:\\\\Users\\\\amoda\\\\Documents\\\\SPARK\\\\BraTS2023\\\\Data\\\\Samples\\\\']\n",
    "\n",
    "for i in range(len(imgPth)):\n",
    "    for root, dirs, files in os.walk(imgPth[i]):\n",
    "        print(root)\n",
    "        print(dirs)\n",
    "        print(files)\n"
   ]
  },
  {
   "cell_type": "code",
   "execution_count": 7,
   "metadata": {},
   "outputs": [],
   "source": [
    "import os\n",
    "\n",
    "os.environ['KMP_DUPLICATE_LIB_OK'] = 'TRUE'"
   ]
  },
  {
   "cell_type": "code",
   "execution_count": 14,
   "metadata": {},
   "outputs": [
    {
     "name": "stdout",
     "output_type": "stream",
     "text": [
      "^C\n"
     ]
    }
   ],
   "source": [
    "!python C:\\Users\\amoda\\Documents\\SPARK\\BraTS2023\\UNN_BraTS23\\scripts\\data_prep.py --prepoc_set training --task data_prep --data $pthAly --data_grp ATr\n"
   ]
  },
  {
   "cell_type": "code",
   "execution_count": 15,
   "metadata": {},
   "outputs": [
    {
     "data": {
      "text/plain": [
       "'c:\\\\Users\\\\amoda\\\\Documents\\\\SPARK\\\\BraTS2023\\\\UNN_BraTS23\\\\notebooks'"
      ]
     },
     "execution_count": 15,
     "metadata": {},
     "output_type": "execute_result"
    }
   ],
   "source": [
    "%pwd"
   ]
  },
  {
   "cell_type": "code",
   "execution_count": 16,
   "metadata": {},
   "outputs": [
    {
     "name": "stdout",
     "output_type": "stream",
     "text": [
      "C:\\Users\\amoda\\Documents\\SPARK\\BraTS2023\\Data\\Samples\\ATr_prepoc\n"
     ]
    }
   ],
   "source": [
    "%cd C:\\Users\\amoda\\Documents\\SPARK\\BraTS2023\\Data\\Samples\\ATr_prepoc"
   ]
  },
  {
   "cell_type": "code",
   "execution_count": 19,
   "metadata": {},
   "outputs": [],
   "source": [
    "import numpy as np\n",
    "subj2 = np.load('BraTS-SSA-00002-000-stk.npy')"
   ]
  },
  {
   "cell_type": "code",
   "execution_count": 20,
   "metadata": {},
   "outputs": [
    {
     "data": {
      "text/plain": [
       "(1, 192, 224, 160)"
      ]
     },
     "execution_count": 20,
     "metadata": {},
     "output_type": "execute_result"
    }
   ],
   "source": [
    "subj2.shape"
   ]
  },
  {
   "cell_type": "code",
   "execution_count": 21,
   "metadata": {},
   "outputs": [
    {
     "name": "stdout",
     "output_type": "stream",
     "text": [
      "C:\\Users\\amoda\\Documents\\SPARK\\BraTS2023\\Data\\Samples\n"
     ]
    }
   ],
   "source": [
    "%cd ../"
   ]
  },
  {
   "cell_type": "code",
   "execution_count": 23,
   "metadata": {},
   "outputs": [
    {
     "name": "stdout",
     "output_type": "stream",
     "text": [
      "C:\\Users\\amoda\\Documents\\SPARK\\BraTS2023\\Data\\Samples\\BraTS-GLI-00002-000\n"
     ]
    }
   ],
   "source": [
    "%cd .\\BraTS-GLI-00002-000"
   ]
  },
  {
   "cell_type": "code",
   "execution_count": 24,
   "metadata": {},
   "outputs": [
    {
     "data": {
      "text/plain": [
       "(240, 240, 155, 4)"
      ]
     },
     "execution_count": 24,
     "metadata": {},
     "output_type": "execute_result"
    }
   ],
   "source": [
    "import nibabel as nib\n",
    "import os\n",
    "subj2_nii = nib.load('BraTS-GLI-00002-000-stk.nii.gz')\n",
    "\n",
    "subj2_nii.shape"
   ]
  },
  {
   "cell_type": "code",
   "execution_count": 45,
   "metadata": {},
   "outputs": [
    {
     "ename": "SyntaxError",
     "evalue": "invalid syntax (2793148669.py, line 2)",
     "output_type": "error",
     "traceback": [
      "\u001b[1;36m  Cell \u001b[1;32mIn[45], line 2\u001b[1;36m\u001b[0m\n\u001b[1;33m    subj2_trns = subj2_npy[:::-1, ...]\u001b[0m\n\u001b[1;37m                             ^\u001b[0m\n\u001b[1;31mSyntaxError\u001b[0m\u001b[1;31m:\u001b[0m invalid syntax\n"
     ]
    }
   ],
   "source": [
    "subj2_npy = np.abs(subj2_nii.get_fdata().astype(np.int16))\n",
    "subj2_trns = subj2_npy[::-1, ...]\n",
    "\n"
   ]
  },
  {
   "cell_type": "code",
   "execution_count": 44,
   "metadata": {},
   "outputs": [
    {
     "data": {
      "text/plain": [
       "(240, 240, 155, 4)"
      ]
     },
     "execution_count": 44,
     "metadata": {},
     "output_type": "execute_result"
    }
   ],
   "source": [
    "subj2_npy.shape"
   ]
  },
  {
   "cell_type": "code",
   "execution_count": 43,
   "metadata": {},
   "outputs": [
    {
     "data": {
      "text/plain": [
       "(240, 240, 155, 4)"
      ]
     },
     "execution_count": 43,
     "metadata": {},
     "output_type": "execute_result"
    }
   ],
   "source": [
    "subj2_trns.shape"
   ]
  },
  {
   "cell_type": "code",
   "execution_count": 25,
   "metadata": {},
   "outputs": [
    {
     "name": "stdout",
     "output_type": "stream",
     "text": [
      "model.0.conv.weight\n",
      "model.0.conv.bias\n",
      "model.0.adn.A.weight\n",
      "model.1.submodule.0.conv.weight\n",
      "model.1.submodule.0.conv.bias\n",
      "model.1.submodule.0.adn.A.weight\n",
      "model.1.submodule.1.submodule.0.conv.weight\n",
      "model.1.submodule.1.submodule.0.conv.bias\n",
      "model.1.submodule.1.submodule.0.adn.A.weight\n",
      "model.1.submodule.1.submodule.1.submodule.0.conv.weight\n",
      "model.1.submodule.1.submodule.1.submodule.0.conv.bias\n",
      "model.1.submodule.1.submodule.1.submodule.0.adn.A.weight\n",
      "model.1.submodule.1.submodule.1.submodule.1.submodule.conv.weight\n",
      "model.1.submodule.1.submodule.1.submodule.1.submodule.conv.bias\n",
      "model.1.submodule.1.submodule.1.submodule.1.submodule.adn.A.weight\n",
      "model.1.submodule.1.submodule.1.submodule.2.conv.weight\n",
      "model.1.submodule.1.submodule.1.submodule.2.conv.bias\n",
      "model.1.submodule.1.submodule.1.submodule.2.adn.A.weight\n",
      "model.1.submodule.1.submodule.2.conv.weight\n",
      "model.1.submodule.1.submodule.2.conv.bias\n",
      "model.1.submodule.1.submodule.2.adn.A.weight\n",
      "model.1.submodule.2.conv.weight\n",
      "model.1.submodule.2.conv.bias\n",
      "model.1.submodule.2.adn.A.weight\n",
      "model.2.conv.weight\n",
      "model.2.conv.bias\n"
     ]
    }
   ],
   "source": [
    "import torch\n",
    "import os\n",
    "\n",
    "pthAly = 'C:\\\\Users\\\\amoda\\\\Documents\\\\SPARK\\\\BraTS2023\\\\Data\\\\'\n",
    "fldr = os.path.join(pthAly,'test_run')\n",
    "\n",
    "pth = os.path.join(fldr, 'best_metric_model.pth')\n",
    "\n",
    "checkpoint = torch.load(pth, map_location=torch.device('cpu'))\n",
    "keys = checkpoint.keys()\n",
    "\n",
    "for key in checkpoint.keys():\n",
    "    print(key)\n"
   ]
  },
  {
   "cell_type": "code",
   "execution_count": 26,
   "metadata": {},
   "outputs": [
    {
     "data": {
      "text/plain": [
       "tensor([0.2474])"
      ]
     },
     "execution_count": 26,
     "metadata": {},
     "output_type": "execute_result"
    }
   ],
   "source": [
    "checkpoint[\"model.0.adn.A.weight\"]"
   ]
  },
  {
   "cell_type": "code",
   "execution_count": 33,
   "metadata": {},
   "outputs": [
    {
     "name": "stdout",
     "output_type": "stream",
     "text": [
      "epoch\n",
      "best_acc\n",
      "state_dict\n"
     ]
    }
   ],
   "source": [
    "pth = os.path.join(fldr, 'bestModel_1.pt')\n",
    "\n",
    "checkpoint2 = torch.load(pth, map_location=torch.device('cpu'))\n",
    "keys2 = checkpoint2.keys()\n",
    "\n",
    "for key2 in keys2:\n",
    "    print(key2)"
   ]
  },
  {
   "cell_type": "code",
   "execution_count": 34,
   "metadata": {},
   "outputs": [
    {
     "name": "stdout",
     "output_type": "stream",
     "text": [
      "1\n",
      "0.2546185255050659\n"
     ]
    }
   ],
   "source": [
    "print(checkpoint2[\"epoch\"])\n",
    "\n",
    "print(checkpoint2[\"best_acc\"])"
   ]
  },
  {
   "cell_type": "code",
   "execution_count": 35,
   "metadata": {},
   "outputs": [
    {
     "name": "stdout",
     "output_type": "stream",
     "text": [
      "model.0.conv.weight\n",
      "model.0.conv.bias\n",
      "model.0.adn.A.weight\n",
      "model.1.submodule.0.conv.weight\n",
      "model.1.submodule.0.conv.bias\n",
      "model.1.submodule.0.adn.A.weight\n",
      "model.1.submodule.1.submodule.0.conv.weight\n",
      "model.1.submodule.1.submodule.0.conv.bias\n",
      "model.1.submodule.1.submodule.0.adn.A.weight\n",
      "model.1.submodule.1.submodule.1.submodule.0.conv.weight\n",
      "model.1.submodule.1.submodule.1.submodule.0.conv.bias\n",
      "model.1.submodule.1.submodule.1.submodule.0.adn.A.weight\n",
      "model.1.submodule.1.submodule.1.submodule.1.submodule.conv.weight\n",
      "model.1.submodule.1.submodule.1.submodule.1.submodule.conv.bias\n",
      "model.1.submodule.1.submodule.1.submodule.1.submodule.adn.A.weight\n",
      "model.1.submodule.1.submodule.1.submodule.2.conv.weight\n",
      "model.1.submodule.1.submodule.1.submodule.2.conv.bias\n",
      "model.1.submodule.1.submodule.1.submodule.2.adn.A.weight\n",
      "model.1.submodule.1.submodule.2.conv.weight\n",
      "model.1.submodule.1.submodule.2.conv.bias\n",
      "model.1.submodule.1.submodule.2.adn.A.weight\n",
      "model.1.submodule.2.conv.weight\n",
      "model.1.submodule.2.conv.bias\n",
      "model.1.submodule.2.adn.A.weight\n",
      "model.2.conv.weight\n",
      "model.2.conv.bias\n"
     ]
    }
   ],
   "source": [
    "for keys3 in checkpoint2[\"state_dict\"].keys():\n",
    "    print(keys3)\n"
   ]
  },
  {
   "cell_type": "code",
   "execution_count": 36,
   "metadata": {},
   "outputs": [
    {
     "data": {
      "text/plain": [
       "tensor([0.2474])"
      ]
     },
     "execution_count": 36,
     "metadata": {},
     "output_type": "execute_result"
    }
   ],
   "source": [
    "checkpoint2[\"state_dict\"][\"model.0.adn.A.weight\"]"
   ]
  },
  {
   "cell_type": "code",
   "execution_count": 1,
   "metadata": {},
   "outputs": [
    {
     "name": "stdout",
     "output_type": "stream",
     "text": [
      "epoch\n",
      "global_step\n",
      "pytorch-lightning_version\n",
      "state_dict\n",
      "loops\n",
      "callbacks\n",
      "optimizer_states\n",
      "lr_schedulers\n",
      "NativeMixedPrecisionPlugin\n",
      "hparams_name\n",
      "hyper_parameters\n"
     ]
    }
   ],
   "source": [
    "import torch\n",
    "import os\n",
    "\n",
    "pthAly = 'C:\\\\Users\\\\amoda\\\\Documents\\\\SPARK\\\\BraTS2023\\\\results\\\\OptiNet Results_fold0\\\\'\n",
    "fldr = os.path.join(pthAly,'checkpoints')\n",
    "\n",
    "pth = os.path.join(fldr, 'epoch=49-dice=87.30.ckpt')\n",
    "\n",
    "checkpoint = torch.load(pth, map_location=torch.device('cpu'))\n",
    "keys = checkpoint.keys()\n",
    "\n",
    "for key in checkpoint.keys():\n",
    "    print(key)"
   ]
  },
  {
   "cell_type": "code",
   "execution_count": 5,
   "metadata": {},
   "outputs": [
    {
     "name": "stdout",
     "output_type": "stream",
     "text": [
      "{'args': Namespace(amp=True, batch_size=2, benchmark=False, blend='constant', brats=True, brats22_model=False, ckpt_path=None, ckpt_store_dir='/scratch/guest187/Data/train_all_nnUNET/results/checkpoints', config=None, data='/scratch/guest187/Data/train_all_nnUNET/results/11_3d', data2d_dim=3, deep_supervision=False, deep_supr_num=2, depth=6, dim=3, epochs=100, exec_mode='train', filters=[64, 96, 128, 192, 256, 384, 512], focal=False, fold=0, gpus=2, gradient_clip_val=0, invert_resampled_y=False, layout='NCDHW', learning_rate=0.0005, logname='logs.json', min_fmap=4, momentum=0.99, negative_slope=0.01, nfolds=10, nodes=1, norm='instance', num_workers=8, nvol=4, optimizer='adam', overlap=0.25, oversampling=0.4, patience=100, res_block=False, results='/scratch/guest187/Data/train_all_nnUNET/results', resume_training=False, save_ckpt=True, save_preds=False, scheduler=True, seed=None, skip_first_n_eval=0, task='11', test_batches=0, train_batches=0, tta=False, val_batch_size=4, warmup=5, weight_decay=0.0001), 'triton': False, 'data_dir': None}\n",
      "model.input_block.conv1.conv.weight\n",
      "model.input_block.conv2.conv.weight\n",
      "model.input_block.norm1.weight\n",
      "model.input_block.norm1.bias\n",
      "model.input_block.norm2.weight\n",
      "model.input_block.norm2.bias\n",
      "model.downsamples.0.conv1.conv.weight\n",
      "model.downsamples.0.conv2.conv.weight\n",
      "model.downsamples.0.norm1.weight\n",
      "model.downsamples.0.norm1.bias\n",
      "model.downsamples.0.norm2.weight\n",
      "model.downsamples.0.norm2.bias\n",
      "model.downsamples.1.conv1.conv.weight\n",
      "model.downsamples.1.conv2.conv.weight\n",
      "model.downsamples.1.norm1.weight\n",
      "model.downsamples.1.norm1.bias\n",
      "model.downsamples.1.norm2.weight\n",
      "model.downsamples.1.norm2.bias\n",
      "model.downsamples.2.conv1.conv.weight\n",
      "model.downsamples.2.conv2.conv.weight\n",
      "model.downsamples.2.norm1.weight\n",
      "model.downsamples.2.norm1.bias\n",
      "model.downsamples.2.norm2.weight\n",
      "model.downsamples.2.norm2.bias\n",
      "model.downsamples.3.conv1.conv.weight\n",
      "model.downsamples.3.conv2.conv.weight\n",
      "model.downsamples.3.norm1.weight\n",
      "model.downsamples.3.norm1.bias\n",
      "model.downsamples.3.norm2.weight\n",
      "model.downsamples.3.norm2.bias\n",
      "model.bottleneck.conv1.conv.weight\n",
      "model.bottleneck.conv2.conv.weight\n",
      "model.bottleneck.norm1.weight\n",
      "model.bottleneck.norm1.bias\n",
      "model.bottleneck.norm2.weight\n",
      "model.bottleneck.norm2.bias\n",
      "model.upsamples.0.transp_conv.conv.weight\n",
      "model.upsamples.0.transp_conv.conv.bias\n",
      "model.upsamples.0.conv_block.conv1.conv.weight\n",
      "model.upsamples.0.conv_block.conv2.conv.weight\n",
      "model.upsamples.0.conv_block.norm1.weight\n",
      "model.upsamples.0.conv_block.norm1.bias\n",
      "model.upsamples.0.conv_block.norm2.weight\n",
      "model.upsamples.0.conv_block.norm2.bias\n",
      "model.upsamples.1.transp_conv.conv.weight\n",
      "model.upsamples.1.transp_conv.conv.bias\n",
      "model.upsamples.1.conv_block.conv1.conv.weight\n",
      "model.upsamples.1.conv_block.conv2.conv.weight\n",
      "model.upsamples.1.conv_block.norm1.weight\n",
      "model.upsamples.1.conv_block.norm1.bias\n",
      "model.upsamples.1.conv_block.norm2.weight\n",
      "model.upsamples.1.conv_block.norm2.bias\n",
      "model.upsamples.2.transp_conv.conv.weight\n",
      "model.upsamples.2.transp_conv.conv.bias\n",
      "model.upsamples.2.conv_block.conv1.conv.weight\n",
      "model.upsamples.2.conv_block.conv2.conv.weight\n",
      "model.upsamples.2.conv_block.norm1.weight\n",
      "model.upsamples.2.conv_block.norm1.bias\n",
      "model.upsamples.2.conv_block.norm2.weight\n",
      "model.upsamples.2.conv_block.norm2.bias\n",
      "model.upsamples.3.transp_conv.conv.weight\n",
      "model.upsamples.3.transp_conv.conv.bias\n",
      "model.upsamples.3.conv_block.conv1.conv.weight\n",
      "model.upsamples.3.conv_block.conv2.conv.weight\n",
      "model.upsamples.3.conv_block.norm1.weight\n",
      "model.upsamples.3.conv_block.norm1.bias\n",
      "model.upsamples.3.conv_block.norm2.weight\n",
      "model.upsamples.3.conv_block.norm2.bias\n",
      "model.upsamples.4.transp_conv.conv.weight\n",
      "model.upsamples.4.transp_conv.conv.bias\n",
      "model.upsamples.4.conv_block.conv1.conv.weight\n",
      "model.upsamples.4.conv_block.conv2.conv.weight\n",
      "model.upsamples.4.conv_block.norm1.weight\n",
      "model.upsamples.4.conv_block.norm1.bias\n",
      "model.upsamples.4.conv_block.norm2.weight\n",
      "model.upsamples.4.conv_block.norm2.bias\n",
      "model.output_block.conv.conv.weight\n",
      "model.output_block.conv.conv.bias\n",
      "model.skip_layers.downsample.conv1.conv.weight\n",
      "model.skip_layers.downsample.conv2.conv.weight\n",
      "model.skip_layers.downsample.norm1.weight\n",
      "model.skip_layers.downsample.norm1.bias\n",
      "model.skip_layers.downsample.norm2.weight\n",
      "model.skip_layers.downsample.norm2.bias\n",
      "model.skip_layers.next_layer.downsample.conv1.conv.weight\n",
      "model.skip_layers.next_layer.downsample.conv2.conv.weight\n",
      "model.skip_layers.next_layer.downsample.norm1.weight\n",
      "model.skip_layers.next_layer.downsample.norm1.bias\n",
      "model.skip_layers.next_layer.downsample.norm2.weight\n",
      "model.skip_layers.next_layer.downsample.norm2.bias\n",
      "model.skip_layers.next_layer.next_layer.downsample.conv1.conv.weight\n",
      "model.skip_layers.next_layer.next_layer.downsample.conv2.conv.weight\n",
      "model.skip_layers.next_layer.next_layer.downsample.norm1.weight\n",
      "model.skip_layers.next_layer.next_layer.downsample.norm1.bias\n",
      "model.skip_layers.next_layer.next_layer.downsample.norm2.weight\n",
      "model.skip_layers.next_layer.next_layer.downsample.norm2.bias\n",
      "model.skip_layers.next_layer.next_layer.next_layer.downsample.conv1.conv.weight\n",
      "model.skip_layers.next_layer.next_layer.next_layer.downsample.conv2.conv.weight\n",
      "model.skip_layers.next_layer.next_layer.next_layer.downsample.norm1.weight\n",
      "model.skip_layers.next_layer.next_layer.next_layer.downsample.norm1.bias\n",
      "model.skip_layers.next_layer.next_layer.next_layer.downsample.norm2.weight\n",
      "model.skip_layers.next_layer.next_layer.next_layer.downsample.norm2.bias\n",
      "model.skip_layers.next_layer.next_layer.next_layer.next_layer.downsample.conv1.conv.weight\n",
      "model.skip_layers.next_layer.next_layer.next_layer.next_layer.downsample.conv2.conv.weight\n",
      "model.skip_layers.next_layer.next_layer.next_layer.next_layer.downsample.norm1.weight\n",
      "model.skip_layers.next_layer.next_layer.next_layer.next_layer.downsample.norm1.bias\n",
      "model.skip_layers.next_layer.next_layer.next_layer.next_layer.downsample.norm2.weight\n",
      "model.skip_layers.next_layer.next_layer.next_layer.next_layer.downsample.norm2.bias\n",
      "model.skip_layers.next_layer.next_layer.next_layer.next_layer.next_layer.conv1.conv.weight\n",
      "model.skip_layers.next_layer.next_layer.next_layer.next_layer.next_layer.conv2.conv.weight\n",
      "model.skip_layers.next_layer.next_layer.next_layer.next_layer.next_layer.norm1.weight\n",
      "model.skip_layers.next_layer.next_layer.next_layer.next_layer.next_layer.norm1.bias\n",
      "model.skip_layers.next_layer.next_layer.next_layer.next_layer.next_layer.norm2.weight\n",
      "model.skip_layers.next_layer.next_layer.next_layer.next_layer.next_layer.norm2.bias\n",
      "model.skip_layers.next_layer.next_layer.next_layer.next_layer.upsample.transp_conv.conv.weight\n",
      "model.skip_layers.next_layer.next_layer.next_layer.next_layer.upsample.transp_conv.conv.bias\n",
      "model.skip_layers.next_layer.next_layer.next_layer.next_layer.upsample.conv_block.conv1.conv.weight\n",
      "model.skip_layers.next_layer.next_layer.next_layer.next_layer.upsample.conv_block.conv2.conv.weight\n",
      "model.skip_layers.next_layer.next_layer.next_layer.next_layer.upsample.conv_block.norm1.weight\n",
      "model.skip_layers.next_layer.next_layer.next_layer.next_layer.upsample.conv_block.norm1.bias\n",
      "model.skip_layers.next_layer.next_layer.next_layer.next_layer.upsample.conv_block.norm2.weight\n",
      "model.skip_layers.next_layer.next_layer.next_layer.next_layer.upsample.conv_block.norm2.bias\n",
      "model.skip_layers.next_layer.next_layer.next_layer.upsample.transp_conv.conv.weight\n",
      "model.skip_layers.next_layer.next_layer.next_layer.upsample.transp_conv.conv.bias\n",
      "model.skip_layers.next_layer.next_layer.next_layer.upsample.conv_block.conv1.conv.weight\n",
      "model.skip_layers.next_layer.next_layer.next_layer.upsample.conv_block.conv2.conv.weight\n",
      "model.skip_layers.next_layer.next_layer.next_layer.upsample.conv_block.norm1.weight\n",
      "model.skip_layers.next_layer.next_layer.next_layer.upsample.conv_block.norm1.bias\n",
      "model.skip_layers.next_layer.next_layer.next_layer.upsample.conv_block.norm2.weight\n",
      "model.skip_layers.next_layer.next_layer.next_layer.upsample.conv_block.norm2.bias\n",
      "model.skip_layers.next_layer.next_layer.upsample.transp_conv.conv.weight\n",
      "model.skip_layers.next_layer.next_layer.upsample.transp_conv.conv.bias\n",
      "model.skip_layers.next_layer.next_layer.upsample.conv_block.conv1.conv.weight\n",
      "model.skip_layers.next_layer.next_layer.upsample.conv_block.conv2.conv.weight\n",
      "model.skip_layers.next_layer.next_layer.upsample.conv_block.norm1.weight\n",
      "model.skip_layers.next_layer.next_layer.upsample.conv_block.norm1.bias\n",
      "model.skip_layers.next_layer.next_layer.upsample.conv_block.norm2.weight\n",
      "model.skip_layers.next_layer.next_layer.upsample.conv_block.norm2.bias\n",
      "model.skip_layers.next_layer.upsample.transp_conv.conv.weight\n",
      "model.skip_layers.next_layer.upsample.transp_conv.conv.bias\n",
      "model.skip_layers.next_layer.upsample.conv_block.conv1.conv.weight\n",
      "model.skip_layers.next_layer.upsample.conv_block.conv2.conv.weight\n",
      "model.skip_layers.next_layer.upsample.conv_block.norm1.weight\n",
      "model.skip_layers.next_layer.upsample.conv_block.norm1.bias\n",
      "model.skip_layers.next_layer.upsample.conv_block.norm2.weight\n",
      "model.skip_layers.next_layer.upsample.conv_block.norm2.bias\n",
      "model.skip_layers.upsample.transp_conv.conv.weight\n",
      "model.skip_layers.upsample.transp_conv.conv.bias\n",
      "model.skip_layers.upsample.conv_block.conv1.conv.weight\n",
      "model.skip_layers.upsample.conv_block.conv2.conv.weight\n",
      "model.skip_layers.upsample.conv_block.norm1.weight\n",
      "model.skip_layers.upsample.conv_block.norm1.bias\n",
      "model.skip_layers.upsample.conv_block.norm2.weight\n",
      "model.skip_layers.upsample.conv_block.norm2.bias\n"
     ]
    }
   ],
   "source": [
    "print(checkpoint[\"hyper_parameters\"])\n",
    "\n",
    "for key in checkpoint[\"state_dict\"].keys():\n",
    "    print(key)\n"
   ]
  },
  {
   "cell_type": "code",
   "execution_count": 11,
   "metadata": {},
   "outputs": [
    {
     "data": {
      "text/plain": [
       "{'fit_loop': {'state_dict': {},\n",
       "  'epoch_loop.state_dict': {'_batches_that_stepped': 14550},\n",
       "  'epoch_loop.batch_progress': {'total': {'ready': 14550,\n",
       "    'completed': 14550,\n",
       "    'started': 14550,\n",
       "    'processed': 14550},\n",
       "   'current': {'ready': 291,\n",
       "    'completed': 291,\n",
       "    'started': 291,\n",
       "    'processed': 291},\n",
       "   'is_last_batch': True},\n",
       "  'epoch_loop.scheduler_progress': {'total': {'ready': 50, 'completed': 50},\n",
       "   'current': {'ready': 1, 'completed': 1}},\n",
       "  'epoch_loop.batch_loop.state_dict': {},\n",
       "  'epoch_loop.batch_loop.optimizer_loop.state_dict': {},\n",
       "  'epoch_loop.batch_loop.optimizer_loop.optim_progress': {'optimizer': {'step': {'total': {'ready': 14550,\n",
       "      'completed': 14550},\n",
       "     'current': {'ready': 291, 'completed': 291}},\n",
       "    'zero_grad': {'total': {'ready': 14550,\n",
       "      'completed': 14550,\n",
       "      'started': 14550},\n",
       "     'current': {'ready': 291, 'completed': 291, 'started': 291}}},\n",
       "   'optimizer_position': 1},\n",
       "  'epoch_loop.batch_loop.manual_loop.state_dict': {},\n",
       "  'epoch_loop.batch_loop.manual_loop.optim_step_progress': {'total': {'ready': 0,\n",
       "    'completed': 0},\n",
       "   'current': {'ready': 0, 'completed': 0}},\n",
       "  'epoch_loop.val_loop.state_dict': {},\n",
       "  'epoch_loop.val_loop.dataloader_progress': {'total': {'ready': 50,\n",
       "    'completed': 50},\n",
       "   'current': {'ready': 1, 'completed': 1}},\n",
       "  'epoch_loop.val_loop.epoch_loop.state_dict': {},\n",
       "  'epoch_loop.val_loop.epoch_loop.batch_progress': {'total': {'ready': 65,\n",
       "    'completed': 65,\n",
       "    'started': 65,\n",
       "    'processed': 65},\n",
       "   'current': {'ready': 65, 'completed': 65, 'started': 65, 'processed': 65},\n",
       "   'is_last_batch': True},\n",
       "  'epoch_progress': {'total': {'ready': 50,\n",
       "    'completed': 49,\n",
       "    'started': 50,\n",
       "    'processed': 50},\n",
       "   'current': {'ready': 50, 'completed': 49, 'started': 50, 'processed': 50}}},\n",
       " 'validate_loop': {'state_dict': {},\n",
       "  'dataloader_progress': {'total': {'ready': 0, 'completed': 0},\n",
       "   'current': {'ready': 0, 'completed': 0}},\n",
       "  'epoch_loop.state_dict': {},\n",
       "  'epoch_loop.batch_progress': {'total': {'ready': 0,\n",
       "    'completed': 0,\n",
       "    'started': 0,\n",
       "    'processed': 0},\n",
       "   'current': {'ready': 0, 'completed': 0, 'started': 0, 'processed': 0},\n",
       "   'is_last_batch': False}},\n",
       " 'test_loop': {'state_dict': {},\n",
       "  'dataloader_progress': {'total': {'ready': 0, 'completed': 0},\n",
       "   'current': {'ready': 0, 'completed': 0}},\n",
       "  'epoch_loop.state_dict': {},\n",
       "  'epoch_loop.batch_progress': {'total': {'ready': 0,\n",
       "    'completed': 0,\n",
       "    'started': 0,\n",
       "    'processed': 0},\n",
       "   'current': {'ready': 0, 'completed': 0, 'started': 0, 'processed': 0},\n",
       "   'is_last_batch': False}},\n",
       " 'predict_loop': {'state_dict': {},\n",
       "  'dataloader_progress': {'total': {'ready': 0, 'completed': 0},\n",
       "   'current': {'ready': 0, 'completed': 0}},\n",
       "  'epoch_loop.state_dict': {},\n",
       "  'epoch_loop.batch_progress': {'total': {'ready': 0,\n",
       "    'completed': 0,\n",
       "    'started': 0,\n",
       "    'processed': 0},\n",
       "   'current': {'ready': 0, 'completed': 0, 'started': 0, 'processed': 0}}}}"
      ]
     },
     "execution_count": 11,
     "metadata": {},
     "output_type": "execute_result"
    }
   ],
   "source": [
    "checkpoint[\"loops\"]"
   ]
  },
  {
   "cell_type": "code",
   "execution_count": 12,
   "metadata": {},
   "outputs": [
    {
     "data": {
      "text/plain": [
       "[{'T_0': 4096,\n",
       "  'T_i': 4096,\n",
       "  'T_mult': 1,\n",
       "  'eta_min': 8e-05,\n",
       "  'T_cur': 50,\n",
       "  'base_lrs': [0.0005],\n",
       "  'last_epoch': 50,\n",
       "  'verbose': False,\n",
       "  '_step_count': 0,\n",
       "  '_get_lr_called_within_step': False,\n",
       "  '_last_lr': [0.0004998455969301849]}]"
      ]
     },
     "execution_count": 12,
     "metadata": {},
     "output_type": "execute_result"
    }
   ],
   "source": [
    "checkpoint[\"lr_schedulers\"]"
   ]
  },
  {
   "cell_type": "code",
   "execution_count": null,
   "metadata": {},
   "outputs": [],
   "source": []
  }
 ],
 "metadata": {
  "kernelspec": {
   "display_name": "Python 3 (ipykernel)",
   "language": "python",
   "name": "python3"
  },
  "language_info": {
   "codemirror_mode": {
    "name": "ipython",
    "version": 3
   },
   "file_extension": ".py",
   "mimetype": "text/x-python",
   "name": "python",
   "nbconvert_exporter": "python",
   "pygments_lexer": "ipython3",
   "version": "3.9.6"
  }
 },
 "nbformat": 4,
 "nbformat_minor": 2
}
