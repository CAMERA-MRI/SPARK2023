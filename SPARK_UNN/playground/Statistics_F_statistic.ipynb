{
  "nbformat": 4,
  "nbformat_minor": 0,
  "metadata": {
    "colab": {
      "provenance": []
    },
    "kernelspec": {
      "name": "python3",
      "display_name": "Python 3"
    },
    "language_info": {
      "name": "python"
    }
  },
  "cells": [
    {
      "cell_type": "code",
      "execution_count": null,
      "metadata": {
        "colab": {
          "base_uri": "https://localhost:8080/"
        },
        "id": "WZpKXAUMdMXC",
        "outputId": "98a22365-e74c-4683-a883-6c9046197d50"
      },
      "outputs": [
        {
          "output_type": "stream",
          "name": "stdout",
          "text": [
            "F-statistic: 0.055984993046347804\n",
            "p-value: 0.9462809792386846\n",
            "the Dice score is NOT signifcantly different between groups and the p-value is  0.95\n"
          ]
        }
      ],
      "source": [
        "# calculating the staistical significance of Dice score between three training instances (used fold 0 from Excel Spreadsheet)\n",
        "\n",
        "\n",
        "\n",
        "import numpy as np\n",
        "from scipy.stats import f\n",
        "\n",
        "Fine_tuned = [0.9138, 0.9127, 0.9173]\n",
        "V1_SSA = [0.873, 0.8705, 0.8543]\n",
        "\n",
        "var_group1 = np.var(Fine_tuned, ddof=1)\n",
        "var_group2 = np.var(V1_SSA, ddof=1)\n",
        "\n",
        "f_statistic = var_group1 / var_group2\n",
        "\n",
        "dfn = len(Fine_tuned) - 1\n",
        "dfd = len(Fine_tuned) + len(V1_SSA) - 2\n",
        "\n",
        "p_value = 1 - f.cdf(f_statistic, dfn, dfd)\n",
        "\n",
        "print(\"F-statistic:\", f_statistic)\n",
        "print(\"p-value:\", p_value)\n",
        "\n",
        "alpha = 0.05\n",
        "if p_value < alpha:\n",
        "  print(f\"the Dice score is signifcantly different between groups and the p-value is {p_value:.2f}\")\n",
        "else:\n",
        "  print(f\"the Dice score is NOT signifcantly different between groups and the p-value is  {p_value:.2f}\")\n",
        "\n",
        "\n",
        "\n",
        "\n"
      ]
    },
    {
      "cell_type": "code",
      "source": [
        "# ANOVA test on the means from the 5 different models ############################# between models\n",
        "\n",
        "import scipy.stats as stats\n",
        "\n",
        "# values from table:\n",
        "# train_ssa (group 1) = ET: 0.5102, TC:0.4740,\tWT: 0.4949\n",
        "#train_ssa_Ave5Folds (group 2)= ET: 0.6968, TC:\t0.6537, WT:\t0.6408\n",
        "# train_all (group 3) = ET: 0.8198,\tTC: 0.7814,\tWT: 0.6710\n",
        "# gli_ftssa (group 4)= ET: 0.7273, TC:0.7864, WT:\t0.8475\n",
        "# train_gli (group 5) = ET: 0.8327, TC:0.8218,\tWT: 0.7468\n",
        "\n",
        "###################################\n",
        "\n",
        "labels = []\n",
        "\n",
        "group1 = [0.5102,\t0.4740,\t0.4949]\n",
        "group2 = [0.6968,\t0.6537,\t0.6408]\n",
        "group3 = [0.8198,\t0.7814,\t0.6710]\n",
        "group4 = [0.7273,\t0.7864,\t0.8475]\n",
        "group5 = [0.8327,\t0.8218,\t0.7468]\n",
        "\n",
        "labels = [group1 , group2, group3, group4, group5]\n",
        "print(labels)\n",
        "\n",
        "#def determine_stat(x, y):\n",
        " # Perform the ANOVA test\n",
        " #if (x <= 4) and (y < 4):\n",
        "\n",
        " # value1 = labels[x]\n",
        " # value2 = labels[y]\n",
        " # print(value1)\n",
        " # f_statistic, p_value = stats.f_oneway(x, y)\n",
        " # print(\"F-statistic:\", f_statistic)\n",
        " # print(\"p-value:\", p_value)\n",
        "# else:\n",
        " # print(\"value cannot be greater than 4\")\n",
        "\n",
        "\n",
        "#determine_stat(0,1)\n",
        "\n",
        "f_statistic, p_value = stats.f_oneway(group4, group5)\n",
        "print(\"F-statistic:\", f_statistic)\n",
        "print(\"p-value:\", p_value)\n",
        "\n",
        "\n"
      ],
      "metadata": {
        "colab": {
          "base_uri": "https://localhost:8080/"
        },
        "id": "Ty8beNJWT5O2",
        "outputId": "dfd98f96-f513-494b-8e75-a25dfa650517"
      },
      "execution_count": null,
      "outputs": [
        {
          "output_type": "stream",
          "name": "stdout",
          "text": [
            "[[0.5102, 0.474, 0.4949], [0.6968, 0.6537, 0.6408], [0.8198, 0.7814, 0.671], [0.7273, 0.7864, 0.8475], [0.8327, 0.8218, 0.7468]]\n",
            "F-statistic: 0.09242318520042724\n",
            "p-value: 0.7762774692968424\n"
          ]
        }
      ]
    },
    {
      "cell_type": "code",
      "source": [
        "# WITHIN\n",
        "\n",
        "import pandas as pd\n",
        "import statsmodels.api as sm\n",
        "from statsmodels.formula.api import ols\n",
        "\n",
        "# A = TRAIN-SSA\n",
        "# B = TRAIN-SSA-AVE5FOLDS\n",
        "# C = TRAIN-ALL\n",
        "# D = TRAIN-GLI-FTSSA\n",
        "# E = TRAIN-GLI\n",
        "\n",
        "\n",
        "\n",
        "\n",
        "\n",
        "# Create a DataFrame with your data\n",
        "data = pd.DataFrame({\n",
        "    'group': ['A', 'A', 'A', 'B', 'B', 'B', 'C', 'C', 'C', 'D', 'D', 'D', 'E', 'E', 'E'],\n",
        "    'value': [0.5102, 0.4740, 0.4949, 0.6968, 0.6537, 0.6408, 0.8198, 0.7814, 0.6710, 0.7273, 0.7864, 0.8475, 0.8327, 0.8218, 0.7468]\n",
        "})\n",
        "\n",
        "# Fit the ANOVA model\n",
        "model = ols('value ~ group', data=data).fit()\n",
        "anova_table = sm.stats.anova_lm(model)\n",
        "\n",
        "# Print the ANOVA table\n",
        "print(anova_table)\n",
        "\n",
        "\n",
        "# The F-statistic is a ratio that compares the variation BETWEEN sample means to the variation WITHIN the samples\n"
      ],
      "metadata": {
        "id": "jcy2tRDOayuW",
        "colab": {
          "base_uri": "https://localhost:8080/"
        },
        "outputId": "f9141ba1-a736-4106-c1ab-6d5cfdd51a53"
      },
      "execution_count": 23,
      "outputs": [
        {
          "output_type": "stream",
          "name": "stdout",
          "text": [
            "            df    sum_sq   mean_sq          F    PR(>F)\n",
            "group      4.0  0.195329  0.048832  18.843925  0.000119\n",
            "Residual  10.0  0.025914  0.002591        NaN       NaN\n"
          ]
        }
      ]
    }
  ]
}